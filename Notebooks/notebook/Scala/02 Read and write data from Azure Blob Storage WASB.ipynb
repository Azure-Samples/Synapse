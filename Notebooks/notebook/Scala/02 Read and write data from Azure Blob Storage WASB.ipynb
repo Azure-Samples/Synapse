{
  "metadata": {
    "saveOutput": true,
    "language_info": {
      "name": "scala"
    }
  },
  "nbformat": 4,
  "nbformat_minor": 2,
  "cells": [
    {
      "cell_type": "markdown",
      "metadata": {},
      "source": [
        "# Access data on Azure Storage Blob (WASB) with Synapse Spark\n",
        "\n",
        "You can access data on Azure Storage Blob (WASB) with Synapse Spark via following URL:\n",
        "\n",
        "    wasb[s]://<container_name>@<storage_account_name>.blob.core.windows.net/<path>\n",
        "\n",
        "This notebook provides examples of how to read data from WASB into a Spark context and how to write the output of Spark jobs directly into a WASB location."
      ],
      "attachments": {}
    },
    {
      "cell_type": "markdown",
      "metadata": {},
      "source": [
        "## Load a sample data\n",
        "\n",
        "Let's first load the [public holidays](https://azure.microsoft.com/en-us/services/open-datasets/catalog/public-holidays/) from Azure Open datasets as a sample."
      ],
      "attachments": {}
    },
    {
      "cell_type": "code",
      "execution_count": 3,
      "outputs": [
        {
          "output_type": "execute_result",
          "execution_count": 3,
          "data": {
            "text/plain": "hol_blob_account_name: String = azureopendatastorage\nhol_blob_container_name: String = holidaydatacontainer\nhol_blob_relative_path: String = Processed\nhol_blob_sas_token: String = \"\"\nhol_wasbs_path: String = wasbs://holidaydatacontainer@azureopendatastorage.blob.core.windows.net/Processed"
          },
          "metadata": {}
        }
      ],
      "metadata": {},
      "source": [
        "// set blob storage account connection for open dataset\n",
        "\n",
        "val hol_blob_account_name = \"azureopendatastorage\"\n",
        "val hol_blob_container_name = \"holidaydatacontainer\"\n",
        "val hol_blob_relative_path = \"Processed\"\n",
        "val hol_blob_sas_token = \"\"\n",
        "\n",
        "val hol_wasbs_path = f\"wasbs://$hol_blob_container_name@$hol_blob_account_name.blob.core.windows.net/$hol_blob_relative_path\"\n",
        "spark.conf.set(f\"fs.azure.sas.$hol_blob_container_name.$hol_blob_account_name.blob.core.windows.net\",hol_blob_sas_token)"
      ],
      "attachments": {}
    },
    {
      "cell_type": "code",
      "execution_count": 4,
      "outputs": [
        {
          "output_type": "execute_result",
          "execution_count": 4,
          "data": {
            "text/plain": "hol_df: org.apache.spark.sql.DataFrame = [countryOrRegion: string, holidayName: string ... 4 more fields]\n+---------------+--------------------------+--------------------------+-------------+-----------------+-------------------+\n|countryOrRegion|holidayName               |normalizeHolidayName      |isPaidTimeOff|countryRegionCode|date               |\n+---------------+--------------------------+--------------------------+-------------+-----------------+-------------------+\n|Argentina      |Año Nuevo [New Year's Day]|Año Nuevo [New Year's Day]|null         |AR               |1970-01-01 00:00:00|\n|Australia      |New Year's Day            |New Year's Day            |null         |AU               |1970-01-01 00:00:00|\n|Austria        |Neujahr                   |Neujahr                   |null         |AT               |1970-01-01 00:00:00|\n|Belgium        |Nieuwjaarsdag             |Nieuwjaarsdag             |null         |BE               |1970-01-01 00:00:00|\n|Brazil         |Ano novo                  |Ano novo                  |null         |BR               |1970-01-01 00:00:00|\n+---------------+--------------------------+--------------------------+-------------+-----------------+-------------------+\nonly showing top 5 rows"
          },
          "metadata": {}
        }
      ],
      "metadata": {},
      "source": [
        "// load the sample data as a Spark DataFrame\n",
        "val hol_df = spark.read.parquet(hol_wasbs_path) \n",
        "hol_df.show(5, truncate = false)"
      ],
      "attachments": {}
    },
    {
      "cell_type": "markdown",
      "metadata": {},
      "source": [
        "## Write data to Azure Storage Blob\n",
        "\n",
        "We are going to write the spark dateframe to your Azure Blob Storage (WASB) path using **shared access signature (sas)**. Go to [Azure Portal](https://portal.azure.com/), open your Azure storage blob, select **shared access signature** in the **settings** and generate your sas token. Please make sure to allow contatiner level read and write permission. Fill in the access info for your Azure storage blob in the cell below. \n",
        ""
      ],
      "attachments": {}
    },
    {
      "cell_type": "code",
      "execution_count": 5,
      "outputs": [
        {
          "output_type": "execute_result",
          "execution_count": 5,
          "data": {
            "text/plain": "blob_account_name: String = samplenbblob\nblob_container_name: String = data\nblob_relative_path: String = samplenb/\nblob_sas_token: String = ?sv=2019-02-02&ss=b&srt=sco&sp=rwdlac&se=2021-03-23T17:05:16Z&st=2020-03-24T09:05:16Z&spr=https,http&sig=drtIrL68s07nPW0Q9WEb5XFL6y5Eb7%2BOpmpxGyAHLaw%3D\nwasbs_path: String = wasbs://data@samplenbblob.blob.core.windows.net/samplenb/"
          },
          "metadata": {}
        }
      ],
      "metadata": {},
      "source": [
        "// set your blob storage account connection\n",
        "\n",
        "val blob_account_name = \"\" // replace with your blob name\n",
        "val blob_container_name = \"\" //replace with your container name\n",
        "val blob_relative_path = \"\" //replace with your relative folder path\n",
        "val blob_sas_token = \"\" //replace with your sas token\n",
        "\n",
        "val wasbs_path = f\"wasbs://$blob_container_name@$blob_account_name.blob.core.windows.net/$blob_relative_path\"\n",
        "spark.conf.set(f\"fs.azure.sas.$blob_container_name.$blob_account_name.blob.core.windows.net\",blob_sas_token)\n",
        ""
      ],
      "attachments": {}
    },
    {
      "cell_type": "markdown",
      "metadata": {},
      "source": [
        "### Save a dataframe as Parquet, JSON or CSV\n",
        "If you have a dataframe, you can save it to Parquet or JSON with the .write.parquet(), .write.json() and .write.csv() methods respectively.\n",
        "\n",
        "Dataframes can be saved in any format, regardless of the input format.\n",
        ""
      ],
      "attachments": {}
    },
    {
      "cell_type": "code",
      "execution_count": 6,
      "outputs": [
        {
          "output_type": "execute_result",
          "execution_count": 6,
          "data": {
            "text/plain": "parquet_path: String = wasbs://data@samplenbblob.blob.core.windows.net/samplenb/holiday.parquet\njson_path: String = wasbs://data@samplenbblob.blob.core.windows.net/samplenb/holiday.json\ncsv_path: String = wasbs://data@samplenbblob.blob.core.windows.net/samplenb/holiday.csv"
          },
          "metadata": {}
        }
      ],
      "metadata": {},
      "source": [
        "// set the path for the output file\n",
        "\n",
        "val parquet_path = wasbs_path + \"holiday.parquet\"\n",
        "val json_path = wasbs_path + \"holiday.json\"\n",
        "val csv_path = wasbs_path + \"holiday.csv\""
      ],
      "attachments": {}
    },
    {
      "cell_type": "code",
      "execution_count": 7,
      "outputs": [
        {
          "output_type": "execute_result",
          "execution_count": 7,
          "data": {
            "text/plain": "import org.apache.spark.sql.SaveMode"
          },
          "metadata": {}
        }
      ],
      "metadata": {},
      "source": [
        "import org.apache.spark.sql.SaveMode\n",
        "\n",
        "hol_df.write.mode(SaveMode.Overwrite).parquet(parquet_path)\n",
        "hol_df.write.mode(SaveMode.Overwrite).json(json_path)\n",
        "hol_df.write.mode(SaveMode.Overwrite).option(\"header\", \"true\").csv(csv_path)"
      ],
      "attachments": {}
    },
    {
      "cell_type": "markdown",
      "metadata": {},
      "source": [
        "### Save a dataframe as text files\n",
        "If you have a dataframe that you want ot save as text file, you must first covert it to an RDD and then save that RDD as a text file.\n",
        ""
      ],
      "attachments": {}
    },
    {
      "cell_type": "code",
      "execution_count": 8,
      "outputs": [
        {
          "output_type": "execute_result",
          "execution_count": 8,
          "data": {
            "text/plain": "text_path: String = wasbs://data@samplenbblob.blob.core.windows.net/samplenb/holiday.txt\nhol_RDD: org.apache.spark.rdd.RDD[org.apache.spark.sql.Row] = MapPartitionsRDD[18] at rdd at <console>:30"
          },
          "metadata": {}
        }
      ],
      "metadata": {},
      "source": [
        "// Define the text file path and covert spark dataframe into RDD\n",
        "val text_path = wasbs_path + \"holiday.txt\"\n",
        "val hol_RDD = hol_df.rdd"
      ],
      "attachments": {}
    },
    {
      "cell_type": "markdown",
      "metadata": {},
      "source": [
        "If you have an RDD, you can convert it to a text file like the following:\n",
        ""
      ],
      "attachments": {}
    },
    {
      "cell_type": "code",
      "execution_count": 10,
      "outputs": [],
      "metadata": {},
      "source": [
        "// Save RDD as text file\n",
        "hol_RDD.saveAsTextFile(text_path)"
      ],
      "attachments": {}
    },
    {
      "cell_type": "markdown",
      "metadata": {},
      "source": [
        "# Read data from Azure Storage Blob\n",
        ""
      ],
      "attachments": {}
    },
    {
      "cell_type": "markdown",
      "metadata": {},
      "source": [
        "### Create a dataframe from parquet files\n",
        ""
      ],
      "attachments": {}
    },
    {
      "cell_type": "code",
      "execution_count": 12,
      "outputs": [
        {
          "output_type": "execute_result",
          "execution_count": 12,
          "data": {
            "text/plain": "df_parquet: org.apache.spark.sql.DataFrame = [countryOrRegion: string, holidayName: string ... 4 more fields]"
          },
          "metadata": {}
        }
      ],
      "metadata": {},
      "source": [
        "val df_parquet = spark.read.parquet(parquet_path)"
      ],
      "attachments": {}
    },
    {
      "cell_type": "markdown",
      "metadata": {},
      "source": [
        "### Create a dataframe from JSON files\n",
        ""
      ],
      "attachments": {}
    },
    {
      "cell_type": "code",
      "execution_count": 13,
      "outputs": [
        {
          "output_type": "execute_result",
          "execution_count": 13,
          "data": {
            "text/plain": "df_json: org.apache.spark.sql.DataFrame = [countryOrRegion: string, countryRegionCode: string ... 4 more fields]"
          },
          "metadata": {}
        }
      ],
      "metadata": {},
      "source": [
        "val df_json = spark.read.json(json_path)"
      ],
      "attachments": {}
    },
    {
      "cell_type": "markdown",
      "metadata": {},
      "source": [
        "### Create a dataframe from CSV files\n",
        ""
      ],
      "attachments": {}
    },
    {
      "cell_type": "code",
      "execution_count": 15,
      "outputs": [
        {
          "output_type": "execute_result",
          "execution_count": 15,
          "data": {
            "text/plain": "df_csv: org.apache.spark.sql.DataFrame = [countryOrRegion: string, holidayName: string ... 4 more fields]"
          },
          "metadata": {}
        }
      ],
      "metadata": {},
      "source": [
        "val df_csv = spark.read.option(\"header\", \"true\").csv(csv_path)"
      ],
      "attachments": {}
    },
    {
      "cell_type": "markdown",
      "metadata": {},
      "source": [
        "### Create an RDD from text file\n",
        ""
      ],
      "attachments": {}
    },
    {
      "cell_type": "code",
      "execution_count": 16,
      "outputs": [
        {
          "output_type": "execute_result",
          "execution_count": 16,
          "data": {
            "text/plain": "text: org.apache.spark.rdd.RDD[String] = wasbs://data@samplenbblob.blob.core.windows.net/samplenb/holiday.txt MapPartitionsRDD[36] at textFile at <console>:32"
          },
          "metadata": {}
        }
      ],
      "metadata": {},
      "source": [
        "val text = sc.textFile(text_path)"
      ],
      "attachments": {}
    },
    {
      "cell_type": "code",
      "execution_count": 17,
      "outputs": [
        {
          "output_type": "execute_result",
          "execution_count": 17,
          "data": {
            "text/plain": "[Argentina,Año Nuevo [New Year's Day],Año Nuevo [New Year's Day],null,AR,1970-01-01 00:00:00.0]\n[Australia,New Year's Day,New Year's Day,null,AU,1970-01-01 00:00:00.0]\n[Austria,Neujahr,Neujahr,null,AT,1970-01-01 00:00:00.0]\n[Belgium,Nieuwjaarsdag,Nieuwjaarsdag,null,BE,1970-01-01 00:00:00.0]\n[Brazil,Ano novo,Ano novo,null,BR,1970-01-01 00:00:00.0]"
          },
          "metadata": {}
        }
      ],
      "metadata": {},
      "source": [
        "text.take(5).foreach(println)"
      ],
      "attachments": {}
    }
  ]
}