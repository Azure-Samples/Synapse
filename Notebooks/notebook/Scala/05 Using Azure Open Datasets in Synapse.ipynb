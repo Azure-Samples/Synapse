{
  "metadata": {
    "saveOutput": true,
    "language_info": {
      "name": "scala"
    }
  },
  "nbformat": 4,
  "nbformat_minor": 2,
  "cells": [
    {
      "cell_type": "markdown",
      "metadata": {},
      "source": [
        "# Using Azure Open Datasets in Synapse - Enrich NYC Green Taxi Data with Holiday and Weather\n",
        "\n",
        "Synapse has [Azure Open Datasets](https://azure.microsoft.com/en-us/services/open-datasets/) package pre-installed. This notebook provides examples of how to enrich NYC Green Taxi Data with Holiday and Weather with focusing on :\n",
        "- read Azure Open Dataset\n",
        "- manipulate the data to prepare for further analysis, including column projection, filtering, grouping and joins etc. \n",
        "- create a Spark table to be used in other notebooks for modeling training"
      ],
      "attachments": {}
    },
    {
      "cell_type": "markdown",
      "metadata": {},
      "source": [
        "## Data loading \n",
        "Let's first load the [NYC green taxi trip records](https://azure.microsoft.com/en-us/services/open-datasets/catalog/nyc-taxi-limousine-commission-green-taxi-trip-records/). The Open Datasets package contains a class representing each data source (NycTlcGreen for example) to easily filter date parameters before downloading."
      ],
      "attachments": {}
    },
    {
      "cell_type": "code",
      "execution_count": 3,
      "outputs": [
        {
          "output_type": "execute_result",
          "execution_count": 3,
          "data": {
            "text/plain": "blob_account_name: String = azureopendatastorage\nnyc_blob_container_name: String = nyctlc\nnyc_blob_relative_path: String = green\nnyc_blob_sas_token: String = \"\"\nnyc_wasbs_path: String = wasbs://nyctlc@azureopendatastorage.blob.core.windows.net/green\nnyc_tlc: org.apache.spark.sql.DataFrame = [vendorID: int, lpepPickupDatetime: timestamp ... 23 more fields]"
          },
          "metadata": {}
        }
      ],
      "metadata": {},
      "source": [
        "// Load nyc green taxi trip records from azure open dataset\n",
        "val blob_account_name = \"azureopendatastorage\"\n",
        "\n",
        "val nyc_blob_container_name = \"nyctlc\"\n",
        "val nyc_blob_relative_path = \"green\"\n",
        "val nyc_blob_sas_token = \"\"\n",
        "\n",
        "val nyc_wasbs_path = f\"wasbs://$nyc_blob_container_name@$blob_account_name.blob.core.windows.net/$nyc_blob_relative_path\"\n",
        "spark.conf.set(f\"fs.azure.sas.$nyc_blob_container_name.$blob_account_name.blob.core.windows.net\",nyc_blob_sas_token)\n",
        "\n",
        "val nyc_tlc = spark.read.parquet(nyc_wasbs_path)\n",
        "\n",
        "//nyc_tlc.show(5, truncate = false)"
      ],
      "attachments": {}
    },
    {
      "cell_type": "code",
      "execution_count": 4,
      "outputs": [
        {
          "output_type": "execute_result",
          "execution_count": 4,
          "data": {
            "text/plain": "import java.sql.Timestamp\nimport org.joda.time.DateTime\nend_date: java.sql.Timestamp = 2018-06-06 00:00:00.0\nstart_date: java.sql.Timestamp = 2018-05-01 00:00:00.0\nnyc_tlc_df: org.apache.spark.sql.Dataset[org.apache.spark.sql.Row] = [vendorID: int, lpepPickupDatetime: timestamp ... 23 more fields]\n+--------+-------------------+-------------------+--------------+------------+------------+------------+---------------+--------------+----------------+---------------+----------+---------------+-----------+----------+-----+------+--------------------+---------+-----------+--------+-----------+--------+------+-------+\n|vendorID|lpepPickupDatetime |lpepDropoffDatetime|passengerCount|tripDistance|puLocationId|doLocationId|pickupLongitude|pickupLatitude|dropoffLongitude|dropoffLatitude|rateCodeID|storeAndFwdFlag|paymentType|fareAmount|extra|mtaTax|improvementSurcharge|tipAmount|tollsAmount|ehailFee|totalAmount|tripType|puYear|puMonth|\n+--------+-------------------+-------------------+--------------+------------+------------+------------+---------------+--------------+----------------+---------------+----------+---------------+-----------+----------+-----+------+--------------------+---------+-----------+--------+-----------+--------+------+-------+\n|2       |2018-05-18 20:32:54|2018-05-18 21:08:10|1             |6.73        |74          |107         |null           |null          |null            |null           |1         |N              |2          |26.5      |0.0  |0.5   |0.3                 |0.0      |0.0        |null    |27.3       |1       |2018  |5      |\n|2       |2018-05-25 20:16:31|2018-05-25 20:20:07|1             |0.51        |166         |166         |null           |null          |null            |null           |1         |N              |2          |4.5       |0.0  |0.5   |0.3                 |0.0      |0.0        |null    |5.3        |1       |2018  |5      |\n|2       |2018-05-25 20:26:02|2018-05-25 20:41:01|1             |2.6         |166         |75          |null           |null          |null            |null           |1         |N              |2          |12.0      |0.0  |0.5   |0.3                 |0.0      |0.0        |null    |12.8       |1       |2018  |5      |\n|2       |2018-05-25 20:45:36|2018-05-25 21:04:26|1             |3.04        |75          |152         |null           |null          |null            |null           |1         |N              |2          |13.5      |0.0  |0.5   |0.3                 |0.0      |0.0        |null    |14.3       |1       |2018  |5      |\n|2       |2018-05-15 14:05:40|2018-05-15 14:17:53|1             |1.6         |116         |243         |null           |null          |null            |null           |1         |N              |2          |10.0      |0.0  |0.5   |0.3                 |0.0      |0.0        |null    |10.8       |1       |2018  |5      |\n+--------+-------------------+-------------------+--------------+------------+------------+------------+---------------+--------------+----------------+---------------+----------+---------------+-----------+----------+-----+------+--------------------+---------+-----------+--------+-----------+--------+------+-------+\nonly showing top 5 rows"
          },
          "metadata": {}
        }
      ],
      "metadata": {},
      "source": [
        "// Filter data by time range\n",
        "import java.sql.Timestamp\n",
        "import org.joda.time.DateTime\n",
        "\n",
        "val end_date = new Timestamp(DateTime.parse(\"2018-06-06\").getMillis)\n",
        "val start_date = new Timestamp(DateTime.parse(\"2018-05-01\").getMillis)\n",
        "\n",
        "val nyc_tlc_df = nyc_tlc.filter((nyc_tlc(\"lpepPickupDatetime\") >= start_date) && (nyc_tlc(\"lpepPickupDatetime\") <= end_date)) \n",
        "nyc_tlc_df.show(5, truncate = false)"
      ],
      "attachments": {}
    },
    {
      "cell_type": "markdown",
      "metadata": {},
      "source": [
        "Now that the initial data is loaded. Let's do some projection on the data to \n",
        "- create new columns for the month number, day of month, day of week, and hour of day. These info is going to be used in the training model to factor in time-based seasonality.\n",
        "- add a static feature for the country code to join holiday data. "
      ],
      "attachments": {}
    },
    {
      "cell_type": "code",
      "execution_count": 5,
      "outputs": [
        {
          "output_type": "execute_result",
          "execution_count": 5,
          "data": {
            "text/plain": "import org.apache.spark.sql.functions._\nnyc_tlc_df_expand: org.apache.spark.sql.DataFrame = [vendorID: int, lpepPickupDatetime: timestamp ... 29 more fields]"
          },
          "metadata": {}
        }
      ],
      "metadata": {},
      "source": [
        "// Extract month, day of month, and day of week from pickup datetime and add a static column for the country code to join holiday data. \n",
        "import org.apache.spark.sql.functions._\n",
        "\n",
        "val nyc_tlc_df_expand = (\n",
        "                        nyc_tlc_df.withColumn(\"datetime\", to_date(col(\"lpepPickupDatetime\")))\n",
        "                                  .withColumn(\"month_num\",month(col(\"lpepPickupDatetime\")))\n",
        "                                  .withColumn(\"day_of_month\",dayofmonth(col(\"lpepPickupDatetime\")))\n",
        "                                  .withColumn(\"day_of_week\",dayofweek(col(\"lpepPickupDatetime\")))\n",
        "                                  .withColumn(\"hour_of_day\",hour(col(\"lpepPickupDatetime\")))\n",
        "                                  .withColumn(\"country_code\",lit(\"US\"))\n",
        "                        )"
      ],
      "attachments": {}
    },
    {
      "cell_type": "code",
      "execution_count": 6,
      "outputs": [],
      "metadata": {},
      "source": [
        "// Display 5 rows\n",
        "// nyc_tlc_df_expand.show(5, truncate = false)"
      ],
      "attachments": {}
    },
    {
      "cell_type": "markdown",
      "metadata": {},
      "source": [
        "Remove some of the columns that won't need for modeling or additional feature building.\n",
        "\n",
        "\n",
        ""
      ],
      "attachments": {}
    },
    {
      "cell_type": "code",
      "execution_count": 7,
      "outputs": [
        {
          "output_type": "execute_result",
          "execution_count": 7,
          "data": {
            "text/plain": "nyc_tlc_df_clean: org.apache.spark.sql.DataFrame = [vendorID: int, lpepPickupDatetime: timestamp ... 12 more fields]"
          },
          "metadata": {}
        }
      ],
      "metadata": {},
      "source": [
        "// Remove unused columns from nyc green taxi data\n",
        "val nyc_tlc_df_clean = nyc_tlc_df_expand.drop(\n",
        "                    \"lpepDropoffDatetime\", \"puLocationId\", \"doLocationId\", \"pickupLongitude\", \n",
        "                     \"pickupLatitude\", \"dropoffLongitude\",\"dropoffLatitude\" ,\"rateCodeID\", \n",
        "                     \"storeAndFwdFlag\",\"paymentType\", \"fareAmount\", \"extra\", \"mtaTax\",\n",
        "                     \"improvementSurcharge\", \"tollsAmount\", \"ehailFee\", \"tripType\" )"
      ],
      "attachments": {}
    },
    {
      "cell_type": "code",
      "execution_count": 8,
      "outputs": [
        {
          "output_type": "execute_result",
          "execution_count": 8,
          "data": {
            "text/plain": "+--------+-------------------+--------------+------------+---------+-----------+------+-------+----------+---------+------------+-----------+-----------+------------+\n|vendorID|lpepPickupDatetime |passengerCount|tripDistance|tipAmount|totalAmount|puYear|puMonth|datetime  |month_num|day_of_month|day_of_week|hour_of_day|country_code|\n+--------+-------------------+--------------+------------+---------+-----------+------+-------+----------+---------+------------+-----------+-----------+------------+\n|2       |2018-05-18 20:32:54|1             |6.73        |0.0      |27.3       |2018  |5      |2018-05-18|5        |18          |6          |20         |US          |\n|2       |2018-05-25 20:16:31|1             |0.51        |0.0      |5.3        |2018  |5      |2018-05-25|5        |25          |6          |20         |US          |\n|2       |2018-05-25 20:26:02|1             |2.6         |0.0      |12.8       |2018  |5      |2018-05-25|5        |25          |6          |20         |US          |\n|2       |2018-05-25 20:45:36|1             |3.04        |0.0      |14.3       |2018  |5      |2018-05-25|5        |25          |6          |20         |US          |\n|2       |2018-05-15 14:05:40|1             |1.6         |0.0      |10.8       |2018  |5      |2018-05-15|5        |15          |3          |14         |US          |\n+--------+-------------------+--------------+------------+---------+-----------+------+-------+----------+---------+------------+-----------+-----------+------------+\nonly showing top 5 rows"
          },
          "metadata": {}
        }
      ],
      "metadata": {},
      "source": [
        "// Display 5 rows\n",
        "nyc_tlc_df_clean.show(5, truncate = false)"
      ],
      "attachments": {}
    },
    {
      "cell_type": "markdown",
      "metadata": {},
      "source": [
        "## Enrich with holiday data\n",
        "Now that we have taxi data downloaded and roughly prepared, add in holiday data as additional features. Holiday-specific features will assist model accuracy, as major holidays are times where taxi demand increases dramatically and supply becomes limited. \n",
        "\n",
        "Let's load the [public holidays](https://azure.microsoft.com/en-us/services/open-datasets/catalog/public-holidays/) from Azure Open datasets.\n",
        ""
      ],
      "attachments": {}
    },
    {
      "cell_type": "code",
      "execution_count": 9,
      "outputs": [
        {
          "output_type": "execute_result",
          "execution_count": 9,
          "data": {
            "text/plain": "hol_blob_container_name: String = holidaydatacontainer\nhol_blob_relative_path: String = Processed\nhol_blob_sas_token: String = \"\"\nhol_wasbs_path: String = wasbs://holidaydatacontainer@azureopendatastorage.blob.core.windows.net/Processed\nhol_raw: org.apache.spark.sql.DataFrame = [countryOrRegion: string, holidayName: string ... 4 more fields]\nhol_df: org.apache.spark.sql.Dataset[org.apache.spark.sql.Row] = [countryOrRegion: string, holidayName: string ... 4 more fields]"
          },
          "metadata": {}
        }
      ],
      "metadata": {},
      "source": [
        "// Load public holidays data from azure open dataset\n",
        "val hol_blob_container_name = \"holidaydatacontainer\"\n",
        "val hol_blob_relative_path = \"Processed\"\n",
        "val hol_blob_sas_token = \"\"\n",
        "\n",
        "val hol_wasbs_path = f\"wasbs://$hol_blob_container_name@$blob_account_name.blob.core.windows.net/$hol_blob_relative_path\"\n",
        "spark.conf.set(f\"fs.azure.sas.$hol_blob_container_name.$blob_account_name.blob.core.windows.net\",hol_blob_sas_token)\n",
        "\n",
        "val hol_raw = spark.read.parquet(hol_wasbs_path)\n",
        "\n",
        "// Filter data by time range\n",
        "val hol_df = hol_raw.filter((hol_raw(\"date\") >= start_date) && (hol_raw(\"date\") <= end_date))\n",
        "\n",
        "// Display 5 rows\n",
        "// hol_df.show(5, truncate = false)"
      ],
      "attachments": {}
    },
    {
      "cell_type": "markdown",
      "metadata": {},
      "source": [
        "Rename the countryRegionCode and date columns to match the respective field names from the taxi data, and also normalize the time so it can be used as a key. "
      ],
      "attachments": {}
    },
    {
      "cell_type": "code",
      "execution_count": 10,
      "outputs": [
        {
          "output_type": "execute_result",
          "execution_count": 10,
          "data": {
            "text/plain": "hol_df_clean: org.apache.spark.sql.DataFrame = [countryOrRegion: string, holidayName: string ... 5 more fields]\n+---------------+----------------------------+----------------------------+-------------+------------+-------------------+----------+\n|countryOrRegion|holidayName                 |normalizeHolidayName        |isPaidTimeOff|country_code|date               |datetime  |\n+---------------+----------------------------+----------------------------+-------------+------------+-------------------+----------+\n|Argentina      |Día del Trabajo [Labour Day]|Día del Trabajo [Labour Day]|null         |AR          |2018-05-01 00:00:00|2018-05-01|\n|Austria        |Staatsfeiertag              |Staatsfeiertag              |null         |AT          |2018-05-01 00:00:00|2018-05-01|\n|Belarus        |Праздник труда              |Праздник труда              |null         |BY          |2018-05-01 00:00:00|2018-05-01|\n|Belgium        |Dag van de Arbeid           |Dag van de Arbeid           |null         |BE          |2018-05-01 00:00:00|2018-05-01|\n|Brazil         |Dia Mundial do Trabalho     |Dia Mundial do Trabalho     |null         |BR          |2018-05-01 00:00:00|2018-05-01|\n+---------------+----------------------------+----------------------------+-------------+------------+-------------------+----------+\nonly showing top 5 rows"
          },
          "metadata": {}
        }
      ],
      "metadata": {},
      "source": [
        "val hol_df_clean = (\n",
        "                hol_df.withColumnRenamed(\"countryRegionCode\",\"country_code\")\n",
        "                .withColumn(\"datetime\",to_date(col(\"date\")))\n",
        "                )\n",
        "\n",
        "hol_df_clean.show(5, truncate = false)"
      ],
      "attachments": {}
    },
    {
      "cell_type": "markdown",
      "metadata": {},
      "source": [
        "Next, join the holiday data with the taxi data by performing a left-join. This will preserve all records from taxi data, but add in holiday data where it exists for the corresponding datetime and country_code, which in this case is always \"US\". Preview the data to verify that they were merged correctly."
      ],
      "attachments": {}
    },
    {
      "cell_type": "code",
      "execution_count": 11,
      "outputs": [
        {
          "output_type": "execute_result",
          "execution_count": 11,
          "data": {
            "text/plain": "nyc_taxi_holiday_df: org.apache.spark.sql.DataFrame = [datetime: date, country_code: string ... 17 more fields]\n+----------+------------+--------+-------------------+--------------+------------+---------+-----------+------+-------+---------+------------+-----------+-----------+---------------+-----------+--------------------+-------------+----+\n|datetime  |country_code|vendorID|lpepPickupDatetime |passengerCount|tripDistance|tipAmount|totalAmount|puYear|puMonth|month_num|day_of_month|day_of_week|hour_of_day|countryOrRegion|holidayName|normalizeHolidayName|isPaidTimeOff|date|\n+----------+------------+--------+-------------------+--------------+------------+---------+-----------+------+-------+---------+------------+-----------+-----------+---------------+-----------+--------------------+-------------+----+\n|2018-05-18|US          |2       |2018-05-18 20:32:54|1             |6.73        |0.0      |27.3       |2018  |5      |5        |18          |6          |20         |null           |null       |null                |null         |null|\n|2018-05-25|US          |2       |2018-05-25 20:16:31|1             |0.51        |0.0      |5.3        |2018  |5      |5        |25          |6          |20         |null           |null       |null                |null         |null|\n|2018-05-25|US          |2       |2018-05-25 20:26:02|1             |2.6         |0.0      |12.8       |2018  |5      |5        |25          |6          |20         |null           |null       |null                |null         |null|\n|2018-05-25|US          |2       |2018-05-25 20:45:36|1             |3.04        |0.0      |14.3       |2018  |5      |5        |25          |6          |20         |null           |null       |null                |null         |null|\n|2018-05-15|US          |2       |2018-05-15 14:05:40|1             |1.6         |0.0      |10.8       |2018  |5      |5        |15          |3          |14         |null           |null       |null                |null         |null|\n+----------+------------+--------+-------------------+--------------+------------+---------+-----------+------+-------+---------+------------+-----------+-----------+---------------+-----------+--------------------+-------------+----+\nonly showing top 5 rows"
          },
          "metadata": {}
        }
      ],
      "metadata": {},
      "source": [
        "// enrich taxi data with holiday data\n",
        "val nyc_taxi_holiday_df = nyc_tlc_df_clean.join(hol_df_clean, Seq(\"datetime\", \"country_code\") , \"left\")\n",
        "\n",
        "nyc_taxi_holiday_df.show(5,truncate = false)"
      ],
      "attachments": {}
    },
    {
      "cell_type": "code",
      "execution_count": 12,
      "outputs": [
        {
          "output_type": "execute_result",
          "execution_count": 12,
          "data": {
            "text/plain": "result: org.apache.spark.sql.DataFrame = [datetime: date, country_code: string ... 17 more fields]\n+----------+------------+--------+-------------------+--------------+------------+---------+-----------+------+-------+---------+------------+-----------+-----------+---------------+------------+--------------------+-------------+-------------------+\n|datetime  |country_code|vendorID|lpepPickupDatetime |passengerCount|tripDistance|tipAmount|totalAmount|puYear|puMonth|month_num|day_of_month|day_of_week|hour_of_day|countryOrRegion|holidayName |normalizeHolidayName|isPaidTimeOff|date               |\n+----------+------------+--------+-------------------+--------------+------------+---------+-----------+------+-------+---------+------------+-----------+-----------+---------------+------------+--------------------+-------------+-------------------+\n|2018-05-28|US          |2       |2018-05-28 10:28:09|1             |2.01        |2.26     |13.56      |2018  |5      |5        |28          |2          |10         |United States  |Memorial Day|Memorial Day        |true         |2018-05-28 00:00:00|\n|2018-05-28|US          |2       |2018-05-28 11:18:08|1             |1.23        |0.0      |7.3        |2018  |5      |5        |28          |2          |11         |United States  |Memorial Day|Memorial Day        |true         |2018-05-28 00:00:00|\n|2018-05-28|US          |2       |2018-05-28 13:07:12|1             |71.23       |0.0      |181.8      |2018  |5      |5        |28          |2          |13         |United States  |Memorial Day|Memorial Day        |true         |2018-05-28 00:00:00|\n|2018-05-28|US          |2       |2018-05-28 00:02:29|1             |0.87        |0.0      |6.8        |2018  |5      |5        |28          |2          |0          |United States  |Memorial Day|Memorial Day        |true         |2018-05-28 00:00:00|\n|2018-05-28|US          |2       |2018-05-28 00:05:18|1             |6.54        |0.0      |24.3       |2018  |5      |5        |28          |2          |0          |United States  |Memorial Day|Memorial Day        |true         |2018-05-28 00:00:00|\n+----------+------------+--------+-------------------+--------------+------------+---------+-----------+------+-------+---------+------------+-----------+-----------+---------------+------------+--------------------+-------------+-------------------+\nonly showing top 5 rows"
          },
          "metadata": {}
        }
      ],
      "metadata": {},
      "source": [
        "// Create a temp table and filter out non empty holiday rows\n",
        "\n",
        "nyc_taxi_holiday_df.createOrReplaceTempView(\"nyc_taxi_holiday_df\")\n",
        "val result = spark.sql(\"SELECT * from nyc_taxi_holiday_df WHERE holidayName is NOT NULL \")\n",
        "result.show(5, truncate = false)"
      ],
      "attachments": {}
    },
    {
      "cell_type": "markdown",
      "metadata": {},
      "source": [
        "## Enrich with weather data¶\n",
        "\n",
        "Now we append NOAA surface weather data to the taxi and holiday data. Use a similar approach to fetch the [NOAA weather history data](https://azure.microsoft.com/en-us/services/open-datasets/catalog/noaa-integrated-surface-data/) from Azure Open Datasets. "
      ],
      "attachments": {}
    },
    {
      "cell_type": "code",
      "execution_count": 13,
      "outputs": [
        {
          "output_type": "execute_result",
          "execution_count": 13,
          "data": {
            "text/plain": "weather_blob_container_name: String = isdweatherdatacontainer\nweather_blob_relative_path: String = ISDWeather/\nweather_blob_sas_token: String = \"\"\nweather_wasbs_path: String = wasbs://isdweatherdatacontainer@azureopendatastorage.blob.core.windows.net/ISDWeather/\nisd: org.apache.spark.sql.DataFrame = [usaf: string, wban: string ... 21 more fields]"
          },
          "metadata": {}
        }
      ],
      "metadata": {},
      "source": [
        "// Load weather data from azure open dataset\n",
        "val weather_blob_container_name = \"isdweatherdatacontainer\"\n",
        "val weather_blob_relative_path = \"ISDWeather/\"\n",
        "val weather_blob_sas_token = \"\"\n",
        "\n",
        "val weather_wasbs_path = f\"wasbs://$weather_blob_container_name@$blob_account_name.blob.core.windows.net/$weather_blob_relative_path\"\n",
        "spark.conf.set(f\"fs.azure.sas.$weather_blob_container_name.$blob_account_name.blob.core.windows.net\",hol_blob_sas_token)\n",
        "\n",
        "val isd = spark.read.parquet(weather_wasbs_path)\n",
        "\n",
        "// Display 5 rows\n",
        "// isd.show(5, truncate = false)"
      ],
      "attachments": {}
    },
    {
      "cell_type": "code",
      "execution_count": 14,
      "outputs": [
        {
          "output_type": "execute_result",
          "execution_count": 14,
          "data": {
            "text/plain": "isd_df: org.apache.spark.sql.Dataset[org.apache.spark.sql.Row] = [usaf: string, wban: string ... 21 more fields]\n+------+-----+-------------------+--------+---------+---------+---------+---------+-----------+--------------+-------------+-----------------------+--------------------+----------+-----------+---------+-------------+---------------+------------+----+---+-------+-----+\n|usaf  |wban |datetime           |latitude|longitude|elevation|windAngle|windSpeed|temperature|seaLvlPressure|cloudCoverage|presentWeatherIndicator|pastWeatherIndicator|precipTime|precipDepth|snowDepth|stationName  |countryOrRegion|p_k         |year|day|version|month|\n+------+-----+-------------------+--------+---------+---------+---------+---------+-----------+--------------+-------------+-----------------------+--------------------+----------+-----------+---------+-------------+---------------+------------+----+---+-------+-----+\n|999999|53182|2018-05-26 07:55:00|36.568  |-101.61  |1000.0   |null     |null     |20.4       |null          |null         |null                   |null                |null      |null       |null     |null         |null           |999999-53182|2018|26 |1.0    |5    |\n|999999|03048|2018-05-20 05:10:00|34.356  |-106.886 |1477.0   |null     |null     |21.2       |null          |null         |null                   |null                |null      |null       |null     |SOCORRO 20 N |US             |999999-03048|2018|20 |1.0    |5    |\n|999999|03048|2018-05-15 13:15:00|34.356  |-106.886 |1477.0   |null     |null     |13.1       |null          |null         |null                   |null                |null      |null       |null     |SOCORRO 20 N |US             |999999-03048|2018|15 |1.0    |5    |\n|999999|03048|2018-05-01 21:20:00|34.356  |-106.886 |1477.0   |null     |null     |24.4       |null          |null         |null                   |null                |null      |null       |null     |SOCORRO 20 N |US             |999999-03048|2018|1  |1.0    |5    |\n|999999|03072|2018-05-09 02:05:00|32.041  |-100.25  |609.0    |null     |null     |29.2       |null          |null         |null                   |null                |null      |null       |null     |BRONTE 11 NNE|US             |999999-03072|2018|9  |1.0    |5    |\n+------+-----+-------------------+--------+---------+---------+---------+---------+-----------+--------------+-------------+-----------------------+--------------------+----------+-----------+---------+-------------+---------------+------------+----+---+-------+-----+\nonly showing top 5 rows"
          },
          "metadata": {}
        }
      ],
      "metadata": {},
      "source": [
        "// Filter data by time range\n",
        "val isd_df = isd.filter((isd(\"datetime\") >= start_date) && (isd(\"datetime\") <= end_date))\n",
        "\n",
        "// Display 5 rows\n",
        "isd_df.show(5, truncate = false)"
      ],
      "attachments": {}
    },
    {
      "cell_type": "code",
      "execution_count": 15,
      "outputs": [
        {
          "output_type": "execute_result",
          "execution_count": 15,
          "data": {
            "text/plain": "weather_df: org.apache.spark.sql.DataFrame = [usaf: string, wban: string ... 21 more fields]"
          },
          "metadata": {}
        }
      ],
      "metadata": {},
      "source": [
        "// Filter out weather info for new york city, remove the recording with null temperature \n",
        "\n",
        "val weather_df = (\n",
        "                isd_df.filter(isd_df(\"latitude\") >= \"40.53\")\n",
        "                        .filter(isd_df(\"latitude\") <= \"40.88\")\n",
        "                        .filter(isd_df(\"longitude\") >= \"-74.09\")\n",
        "                        .filter(isd_df(\"longitude\") <= \"-73.72\")\n",
        "                        .filter(isd_df(\"temperature\").isNotNull)\n",
        "                        .withColumnRenamed(\"datetime\",\"datetime_full\")\n",
        "                        )"
      ],
      "attachments": {}
    },
    {
      "cell_type": "code",
      "execution_count": 16,
      "outputs": [
        {
          "output_type": "execute_result",
          "execution_count": 16,
          "data": {
            "text/plain": "weather_df_clean: org.apache.spark.sql.DataFrame = [datetime_full: timestamp, elevation: double ... 18 more fields]"
          },
          "metadata": {}
        }
      ],
      "metadata": {},
      "source": [
        "// Remove unused columns\n",
        "val weather_df_clean = weather_df.drop(\"usaf\", \"wban\", \"longitude\", \"latitude\").withColumn(\"datetime\", to_date(col(\"datetime_full\")))\n",
        "\n",
        "//weather_df_clean.show(5, truncate = false)"
      ],
      "attachments": {}
    },
    {
      "cell_type": "markdown",
      "metadata": {},
      "source": [
        "Next group the weather data so that you have daily aggregated weather values. \n",
        ""
      ],
      "attachments": {}
    },
    {
      "cell_type": "code",
      "execution_count": 17,
      "outputs": [
        {
          "output_type": "execute_result",
          "execution_count": 17,
          "data": {
            "text/plain": "weather_df_grouped: org.apache.spark.sql.DataFrame = [datetime: date, avg_snowDepth: double ... 3 more fields]\n+----------+-------------+--------------+------------------+---------------+\n|datetime  |avg_snowDepth|max_precipTime|avg_temperature   |max_precipDepth|\n+----------+-------------+--------------+------------------+---------------+\n|2018-05-28|null         |24.0          |15.333636363636389|2540.0         |\n|2018-06-06|null         |6.0           |21.4              |0.0            |\n|2018-05-26|null         |24.0          |26.07233009708738 |2540.0         |\n|2018-05-27|null         |24.0          |18.931365313653128|7648.0         |\n|2018-06-03|null         |24.0          |18.24280303030302 |2540.0         |\n+----------+-------------+--------------+------------------+---------------+\nonly showing top 5 rows"
          },
          "metadata": {}
        }
      ],
      "metadata": {},
      "source": [
        "// Enrich weather data with aggregation statistics\n",
        "\n",
        "val weather_df_grouped = (\n",
        "                        weather_df_clean.groupBy('datetime).\n",
        "                        agg(\n",
        "                            mean('snowDepth) as \"avg_snowDepth\",\n",
        "                            max('precipTime) as \"max_precipTime\",\n",
        "                            mean('temperature) as \"avg_temperature\",\n",
        "                            max('precipDepth) as \"max_precipDepth\"\n",
        "                            )\n",
        "                        )\n",
        "\n",
        "weather_df_grouped.show(5, truncate = false)"
      ],
      "attachments": {}
    },
    {
      "cell_type": "markdown",
      "metadata": {},
      "source": [
        "Merge the taxi and holiday data you prepared with the new weather data. This time you only need the datetime key, and again perform a left-join of the data. Run the describe() function on the new dataframe to see summary statistics for each field."
      ],
      "attachments": {}
    },
    {
      "cell_type": "code",
      "execution_count": 18,
      "outputs": [
        {
          "output_type": "execute_result",
          "execution_count": 18,
          "data": {
            "text/plain": "nyc_taxi_holiday_weather_df: org.apache.spark.sql.DataFrame = [datetime: date, country_code: string ... 21 more fields]\nres64: nyc_taxi_holiday_weather_df.type = [datetime: date, country_code: string ... 21 more fields]"
          },
          "metadata": {}
        }
      ],
      "metadata": {},
      "source": [
        "// Enrich taxi data with weather\n",
        "val nyc_taxi_holiday_weather_df = nyc_taxi_holiday_df.join(weather_df_grouped, Seq(\"datetime\") ,\"left\")\n",
        "nyc_taxi_holiday_weather_df.cache()"
      ],
      "attachments": {}
    },
    {
      "cell_type": "code",
      "execution_count": 19,
      "outputs": [
        {
          "output_type": "execute_result",
          "execution_count": 19,
          "data": {
            "text/plain": "+----------+------------+--------+-------------------+--------------+------------+---------+-----------+------+-------+---------+------------+-----------+-----------+---------------+------------+--------------------+-------------+-------------------+-------------+--------------+------------------+---------------+\n|datetime  |country_code|vendorID|lpepPickupDatetime |passengerCount|tripDistance|tipAmount|totalAmount|puYear|puMonth|month_num|day_of_month|day_of_week|hour_of_day|countryOrRegion|holidayName |normalizeHolidayName|isPaidTimeOff|date               |avg_snowDepth|max_precipTime|avg_temperature   |max_precipDepth|\n+----------+------------+--------+-------------------+--------------+------------+---------+-----------+------+-------+---------+------------+-----------+-----------+---------------+------------+--------------------+-------------+-------------------+-------------+--------------+------------------+---------------+\n|2018-05-28|US          |2       |2018-05-28 10:28:09|1             |2.01        |2.26     |13.56      |2018  |5      |5        |28          |2          |10         |United States  |Memorial Day|Memorial Day        |true         |2018-05-28 00:00:00|null         |24.0          |15.333636363636389|2540.0         |\n|2018-05-28|US          |2       |2018-05-28 11:18:08|1             |1.23        |0.0      |7.3        |2018  |5      |5        |28          |2          |11         |United States  |Memorial Day|Memorial Day        |true         |2018-05-28 00:00:00|null         |24.0          |15.333636363636389|2540.0         |\n|2018-05-28|US          |2       |2018-05-28 13:07:12|1             |71.23       |0.0      |181.8      |2018  |5      |5        |28          |2          |13         |United States  |Memorial Day|Memorial Day        |true         |2018-05-28 00:00:00|null         |24.0          |15.333636363636389|2540.0         |\n|2018-05-28|US          |2       |2018-05-28 00:02:29|1             |0.87        |0.0      |6.8        |2018  |5      |5        |28          |2          |0          |United States  |Memorial Day|Memorial Day        |true         |2018-05-28 00:00:00|null         |24.0          |15.333636363636389|2540.0         |\n|2018-05-28|US          |2       |2018-05-28 00:05:18|1             |6.54        |0.0      |24.3       |2018  |5      |5        |28          |2          |0          |United States  |Memorial Day|Memorial Day        |true         |2018-05-28 00:00:00|null         |24.0          |15.333636363636389|2540.0         |\n+----------+------------+--------+-------------------+--------------+------------+---------+-----------+------+-------+---------+------------+-----------+-----------+---------------+------------+--------------------+-------------+-------------------+-------------+--------------+------------------+---------------+\nonly showing top 5 rows"
          },
          "metadata": {}
        }
      ],
      "metadata": {},
      "source": [
        "nyc_taxi_holiday_weather_df.show(5,truncate = false)"
      ],
      "attachments": {}
    },
    {
      "cell_type": "code",
      "execution_count": 20,
      "outputs": [
        {
          "output_type": "execute_result",
          "execution_count": 20,
          "data": {
            "application/json": {
              "rows": [
                [
                  "count",
                  "923257",
                  "923257",
                  "923257",
                  "923257",
                  "923257",
                  "923257",
                  "923257",
                  "923257",
                  "923257",
                  "923257",
                  "923257",
                  "923257",
                  "17606",
                  "17606",
                  "17606",
                  "0",
                  "923257",
                  "923257",
                  "923257"
                ],
                [
                  "mean",
                  null,
                  "1.833860994284365",
                  "1.357852688904606",
                  "3.2325295231988496",
                  "1.0264538909534446",
                  "16.112515713388355",
                  "2018.0",
                  "5.1364462982679795",
                  "5.1364462982679795",
                  "13.844344532454127",
                  "4.137266221647927",
                  "13.697660564718166",
                  null,
                  null,
                  null,
                  null,
                  "19.26542663635369",
                  "18.581906658840314",
                  "4213.8777393510145"
                ],
                [
                  "stddev",
                  null,
                  "0.3722055702806151",
                  "1.0397434350543044",
                  "3.7213549381277544",
                  "2.0747837921879118",
                  "13.492789079321522",
                  "0.0",
                  "0.34326204797494153",
                  "0.34326204797494153",
                  "9.330046641186325",
                  "1.9820965262931112",
                  "5.987036976846431",
                  null,
                  null,
                  null,
                  null,
                  "8.120658513433671",
                  "3.604665332363588",
                  "4389.942208506073"
                ],
                [
                  "min",
                  "US",
                  "1",
                  "0",
                  "0.0",
                  "-2.0",
                  "-235.0",
                  "2018",
                  "5",
                  "5",
                  "1",
                  "1",
                  "0",
                  "United States",
                  "Memorial Day",
                  "Memorial Day",
                  null,
                  "1.0",
                  "11.899999999999977",
                  "0.0"
                ],
                [
                  "max",
                  "US",
                  "2",
                  "9",
                  "621.1",
                  "450.0",
                  "2704.8",
                  "2018",
                  "6",
                  "6",
                  "31",
                  "7",
                  "23",
                  "United States",
                  "Memorial Day",
                  "Memorial Day",
                  null,
                  "24.0",
                  "26.07233009708738",
                  "9999.0"
                ]
              ],
              "schema": [
                "summary",
                "country_code",
                "vendorID",
                "passengerCount",
                "tripDistance",
                "tipAmount",
                "totalAmount",
                "puYear",
                "puMonth",
                "month_num",
                "day_of_month",
                "day_of_week",
                "hour_of_day",
                "countryOrRegion",
                "holidayName",
                "normalizeHolidayName",
                "avg_snowDepth",
                "max_precipTime",
                "avg_temperature",
                "max_precipDepth"
              ]
            }
          },
          "metadata": {}
        }
      ],
      "metadata": {},
      "source": [
        "// Run the describe() function on the new dataframe to see summary statistics for each field.\n",
        "display(nyc_taxi_holiday_weather_df.describe())"
      ],
      "attachments": {}
    },
    {
      "cell_type": "markdown",
      "metadata": {},
      "source": [
        "The summary statistics shows that the totalAmount field has negative values, which don't make sense in the context.\n",
        "\n",
        ""
      ],
      "attachments": {}
    },
    {
      "cell_type": "code",
      "execution_count": 21,
      "outputs": [
        {
          "output_type": "execute_result",
          "execution_count": 21,
          "data": {
            "text/plain": "final_df: org.apache.spark.sql.Dataset[org.apache.spark.sql.Row] = [datetime: date, country_code: string ... 21 more fields]"
          },
          "metadata": {}
        }
      ],
      "metadata": {},
      "source": [
        "// Remove invalid rows with less than 0 taxi fare or tip\n",
        "val final_df = (\n",
        "            nyc_taxi_holiday_weather_df.\n",
        "            filter(nyc_taxi_holiday_weather_df(\"tipAmount\") > 0).\n",
        "            filter(nyc_taxi_holiday_weather_df(\"totalAmount\") > 0)\n",
        "            )"
      ],
      "attachments": {}
    },
    {
      "cell_type": "markdown",
      "metadata": {},
      "source": [
        "## Cleaning up the existing Database\n",
        "\n",
        "First we need to drop the tables since Spark requires that a database is empty before we can drop the Database.\n",
        "\n",
        "Then we recreate the database and set the default database context to it."
      ],
      "attachments": {}
    },
    {
      "cell_type": "code",
      "execution_count": 22,
      "outputs": [
        {
          "output_type": "execute_result",
          "execution_count": 22,
          "data": {
            "text/plain": "res69: org.apache.spark.sql.DataFrame = []"
          },
          "metadata": {}
        }
      ],
      "metadata": {},
      "source": [
        "spark.sql(\"DROP TABLE IF EXISTS NYCTaxi.nyc_taxi_holiday_weather\"); "
      ],
      "attachments": {}
    },
    {
      "cell_type": "code",
      "execution_count": 23,
      "outputs": [
        {
          "output_type": "execute_result",
          "execution_count": 23,
          "data": {
            "text/plain": "res70: org.apache.spark.sql.DataFrame = []\nres71: org.apache.spark.sql.DataFrame = []\nres72: org.apache.spark.sql.DataFrame = []"
          },
          "metadata": {}
        }
      ],
      "metadata": {},
      "source": [
        "spark.sql(\"DROP DATABASE IF EXISTS NYCTaxi\"); \n",
        "spark.sql(\"CREATE DATABASE NYCTaxi\"); \n",
        "spark.sql(\"USE NYCTaxi\");"
      ],
      "attachments": {}
    },
    {
      "cell_type": "markdown",
      "metadata": {},
      "source": [
        "## Creating a new table\n",
        "We create a nyc_taxi_holiday_weather table from the nyc_taxi_holiday_weather dataframe.\n",
        ""
      ],
      "attachments": {}
    },
    {
      "cell_type": "code",
      "execution_count": 24,
      "outputs": [
        {
          "output_type": "execute_result",
          "execution_count": 24,
          "data": {
            "text/plain": "final_results: org.apache.spark.sql.DataFrame = [count(1): bigint]\n+--------+\n|count(1)|\n+--------+\n|337444  |\n+--------+"
          },
          "metadata": {}
        }
      ],
      "metadata": {},
      "source": [
        "final_df.write.saveAsTable(\"nyc_taxi_holiday_weather\");\n",
        "val final_results = spark.sql(\"SELECT COUNT(*) FROM nyc_taxi_holiday_weather\");\n",
        "final_results.show(5, truncate = false)"
      ],
      "attachments": {}
    }
  ]
}