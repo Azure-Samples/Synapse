{
  "metadata": {
    "saveOutput": true,
    "language_info": {
      "name": "scala"
    }
  },
  "nbformat": 4,
  "nbformat_minor": 2,
  "cells": [
    {
      "cell_type": "markdown",
      "metadata": {},
      "source": [
        "# Hitchhiker's Guide to Delta Lake (Scala)\n",
        "\n",
        "This tutorial has been adapted for more clarity from its original counterpart [here](https://docs.delta.io/latest/quick-start.html). This notebook helps you quickly explore the main features of [Delta Lake](https://github.com/delta-io/delta). It provides code snippets that show how to read from and write to Delta Lake tables from interactive, batch, and streaming queries.\n",
        "\n",
        "Here's what we will cover:\n",
        "* Create a table\n",
        "* Understanding meta-data\n",
        "* Read data\n",
        "* Update table data\n",
        "* Overwrite table data\n",
        "* Conditional update without overwrite\n",
        "* Read older versions of data using Time Travel\n",
        "* Write a stream of data to a table\n",
        "* Read a stream of changes from a table"
      ],
      "attachments": {}
    },
    {
      "cell_type": "markdown",
      "metadata": {},
      "source": [
        "## Configuration\n",
        "Make sure you modify this as appropriate."
      ],
      "attachments": {}
    },
    {
      "cell_type": "code",
      "execution_count": 27,
      "outputs": [
        {
          "output_type": "execute_result",
          "execution_count": 27,
          "data": {
            "text/plain": "sessionId: Int = 259512\ndeltaTablePath: String = /delta/delta-table-259512"
          },
          "metadata": {}
        }
      ],
      "metadata": {},
      "source": [
        "val sessionId = scala.util.Random.nextInt(1000000)\n",
        "val deltaTablePath = s\"/delta/delta-table-$sessionId\";"
      ],
      "attachments": {}
    },
    {
      "cell_type": "markdown",
      "metadata": {},
      "source": [
        "## Create a table\n",
        "To create a Delta Lake table, write a DataFrame out in the **delta** format. You can use existing Spark SQL code and change the format from parquet, csv, json, and so on, to delta.\n",
        "\n",
        "These operations create a new Delta Lake table using the schema that was inferred from your DataFrame. For the full set of options available when you create a new Delta Lake table, see Create a table and Write to a table (subsequent cells in this notebook)."
      ],
      "attachments": {}
    },
    {
      "cell_type": "code",
      "execution_count": 28,
      "outputs": [
        {
          "output_type": "execute_result",
          "execution_count": 28,
          "data": {
            "text/plain": "data: org.apache.spark.sql.Dataset[Long] = [id: bigint]\n+---+\n| id|\n+---+\n|  0|\n|  1|\n|  2|\n|  3|\n|  4|\n+---+"
          },
          "metadata": {}
        }
      ],
      "metadata": {},
      "source": [
        "val data = spark.range(0, 5)\n",
        "data.show\n",
        "data.write.format(\"delta\").save(deltaTablePath)"
      ],
      "attachments": {}
    },
    {
      "cell_type": "markdown",
      "metadata": {},
      "source": [
        "## Understanding Meta-data\n",
        "\n",
        "In Delta Lake, meta-data is no different from data i.e., it is stored next to the data. Therefore, an interesting side-effect here is that you can peek into meta-data using regular Spark APIs. "
      ],
      "attachments": {}
    },
    {
      "cell_type": "code",
      "execution_count": 29,
      "outputs": [
        {
          "output_type": "execute_result",
          "execution_count": 29,
          "data": {
            "text/plain": "[{\"commitInfo\":{\"timestamp\":1604881272963,\"operation\":\"WRITE\",\"operationParameters\":{\"mode\":\"ErrorIfExists\",\"partitionBy\":\"[]\"},\"isBlindAppend\":true,\"operationMetrics\":{\"numFiles\":\"6\",\"numOutputBytes\":\"2407\",\"numOutputRows\":\"5\"}}}]\n[{\"protocol\":{\"minReaderVersion\":1,\"minWriterVersion\":2}}]\n[{\"metaData\":{\"id\":\"761ad554-f686-4858-b929-959c5d310e1e\",\"format\":{\"provider\":\"parquet\",\"options\":{}},\"schemaString\":\"{\\\"type\\\":\\\"struct\\\",\\\"fields\\\":[{\\\"name\\\":\\\"id\\\",\\\"type\\\":\\\"long\\\",\\\"nullable\\\":true,\\\"metadata\\\":{}}]}\",\"partitionColumns\":[],\"configuration\":{},\"createdTime\":1604881271656}}]\n[{\"add\":{\"path\":\"part-00000-16cb00b0-82f2-4060-8477-6adf6f4fade8-c000.snappy.parquet\",\"partitionValues\":{},\"size\":262,\"modificationTime\":1604881272000,\"dataChange\":true}}]\n[{\"add\":{\"path\":\"part-00003-30b7f9c6-53d8-4e13-aa87-68eef0b118f0-c000.snappy.parquet\",\"partitionValues\":{},\"size\":429,\"modificationTime\":1604881272000,\"dataChange\":true}}]\n[{\"add\":{\"path\":\"part-00006-a0f3564c-5cf7-4244-8458-16d53fcfefb9-c000.snappy.parquet\",\"partitionValues\":{},\"size\":429,\"modificationTime\":1604881272000,\"dataChange\":true}}]\n[{\"add\":{\"path\":\"part-00009-43c71d23-011d-41fa-83e3-5b599c329dcb-c000.snappy.parquet\",\"partitionValues\":{},\"size\":429,\"modificationTime\":1604881272000,\"dataChange\":true}}]\n[{\"add\":{\"path\":\"part-00012-6c234279-7a96-4ede-9479-4651da5ed795-c000.snappy.parquet\",\"partitionValues\":{},\"size\":429,\"modificationTime\":1604881272000,\"dataChange\":true}}]\n[{\"add\":{\"path\":\"part-00015-005c730a-8a15-40df-99e1-2d8c1f70fe22-c000.snappy.parquet\",\"partitionValues\":{},\"size\":429,\"modificationTime\":1604881272000,\"dataChange\":true}}]"
          },
          "metadata": {}
        }
      ],
      "metadata": {},
      "source": [
        "spark.read.text(s\"$deltaTablePath/_delta_log/\").collect.foreach(println)"
      ],
      "attachments": {}
    },
    {
      "cell_type": "markdown",
      "metadata": {},
      "source": [
        "## Read data\n",
        "\n",
        "You read data in your Delta Lake table by specifying the path to the files: \"/tmp/delta-table-scala\""
      ],
      "attachments": {}
    },
    {
      "cell_type": "code",
      "execution_count": 30,
      "outputs": [
        {
          "output_type": "execute_result",
          "execution_count": 30,
          "data": {
            "text/plain": "df: org.apache.spark.sql.DataFrame = [id: bigint]\n+---+\n| id|\n+---+\n|  2|\n|  1|\n|  3|\n|  0|\n|  4|\n+---+"
          },
          "metadata": {}
        }
      ],
      "metadata": {},
      "source": [
        "val df = spark.read.format(\"delta\").load(deltaTablePath)\n",
        "df.show()"
      ],
      "attachments": {}
    },
    {
      "cell_type": "markdown",
      "metadata": {},
      "source": [
        "## Update table data\n",
        "\n",
        "Delta Lake supports several operations to modify tables using standard DataFrame APIs. This example runs a batch job to overwrite the data in the table.\n",
        ""
      ],
      "attachments": {}
    },
    {
      "cell_type": "code",
      "execution_count": 31,
      "outputs": [
        {
          "output_type": "execute_result",
          "execution_count": 31,
          "data": {
            "text/plain": "data: org.apache.spark.sql.Dataset[Long] = [id: bigint]\n+---+\n| id|\n+---+\n|  6|\n|  9|\n|  8|\n|  5|\n|  7|\n+---+"
          },
          "metadata": {}
        }
      ],
      "metadata": {},
      "source": [
        "val data = spark.range(5, 10)\n",
        "data.write.format(\"delta\").mode(\"overwrite\").save(deltaTablePath)\n",
        "df.show()"
      ],
      "attachments": {}
    },
    {
      "cell_type": "markdown",
      "metadata": {},
      "source": [
        "When you now inspect the meta-data, what you will notice is that the original data is over-written. Well, not in a true sense but appropriate entries are added to Delta's transaction log so it can provide an \"illusion\" that the original data was deleted. We can verify this by re-inspecting the meta-data. You will see several entries indicating reference removal to the original data."
      ],
      "attachments": {}
    },
    {
      "cell_type": "code",
      "execution_count": 32,
      "outputs": [
        {
          "output_type": "execute_result",
          "execution_count": 32,
          "data": {
            "text/plain": "[{\"commitInfo\":{\"timestamp\":1604881286043,\"operation\":\"WRITE\",\"operationParameters\":{\"mode\":\"Overwrite\",\"partitionBy\":\"[]\"},\"readVersion\":0,\"isBlindAppend\":false,\"operationMetrics\":{\"numFiles\":\"6\",\"numOutputBytes\":\"2407\",\"numOutputRows\":\"5\"}}}]\n[{\"add\":{\"path\":\"part-00000-9e64203e-551d-40ea-bd7f-51fc4c00cada-c000.snappy.parquet\",\"partitionValues\":{},\"size\":262,\"modificationTime\":1604881285000,\"dataChange\":true}}]\n[{\"add\":{\"path\":\"part-00003-3e4bb459-dcdc-4d7a-add5-df8fa134fea4-c000.snappy.parquet\",\"partitionValues\":{},\"size\":429,\"modificationTime\":1604881284000,\"dataChange\":true}}]\n[{\"add\":{\"path\":\"part-00006-7da1993b-7ef0-494b-87f9-534b83af67c2-c000.snappy.parquet\",\"partitionValues\":{},\"size\":429,\"modificationTime\":1604881284000,\"dataChange\":true}}]\n[{\"add\":{\"path\":\"part-00009-d9b518fa-c7b6-4db5-885b-c417a66c6848-c000.snappy.parquet\",\"partitionValues\":{},\"size\":429,\"modificationTime\":1604881284000,\"dataChange\":true}}]\n[{\"add\":{\"path\":\"part-00012-2a93dd5f-4304-461e-99fd-5421633a893c-c000.snappy.parquet\",\"partitionValues\":{},\"size\":429,\"modificationTime\":1604881284000,\"dataChange\":true}}]\n[{\"add\":{\"path\":\"part-00015-17076378-3ec7-4216-8e8e-b31710ef8e09-c000.snappy.parquet\",\"partitionValues\":{},\"size\":429,\"modificationTime\":1604881284000,\"dataChange\":true}}]\n[{\"remove\":{\"path\":\"part-00000-16cb00b0-82f2-4060-8477-6adf6f4fade8-c000.snappy.parquet\",\"deletionTimestamp\":1604881286042,\"dataChange\":true}}]\n[{\"remove\":{\"path\":\"part-00009-43c71d23-011d-41fa-83e3-5b599c329dcb-c000.snappy.parquet\",\"deletionTimestamp\":1604881286042,\"dataChange\":true}}]\n[{\"remove\":{\"path\":\"part-00006-a0f3564c-5cf7-4244-8458-16d53fcfefb9-c000.snappy.parquet\",\"deletionTimestamp\":1604881286042,\"dataChange\":true}}]\n[{\"remove\":{\"path\":\"part-00012-6c234279-7a96-4ede-9479-4651da5ed795-c000.snappy.parquet\",\"deletionTimestamp\":1604881286042,\"dataChange\":true}}]\n[{\"remove\":{\"path\":\"part-00003-30b7f9c6-53d8-4e13-aa87-68eef0b118f0-c000.snappy.parquet\",\"deletionTimestamp\":1604881286042,\"dataChange\":true}}]\n[{\"remove\":{\"path\":\"part-00015-005c730a-8a15-40df-99e1-2d8c1f70fe22-c000.snappy.parquet\",\"deletionTimestamp\":1604881286042,\"dataChange\":true}}]\n[{\"commitInfo\":{\"timestamp\":1604881272963,\"operation\":\"WRITE\",\"operationParameters\":{\"mode\":\"ErrorIfExists\",\"partitionBy\":\"[]\"},\"isBlindAppend\":true,\"operationMetrics\":{\"numFiles\":\"6\",\"numOutputBytes\":\"2407\",\"numOutputRows\":\"5\"}}}]\n[{\"protocol\":{\"minReaderVersion\":1,\"minWriterVersion\":2}}]\n[{\"metaData\":{\"id\":\"761ad554-f686-4858-b929-959c5d310e1e\",\"format\":{\"provider\":\"parquet\",\"options\":{}},\"schemaString\":\"{\\\"type\\\":\\\"struct\\\",\\\"fields\\\":[{\\\"name\\\":\\\"id\\\",\\\"type\\\":\\\"long\\\",\\\"nullable\\\":true,\\\"metadata\\\":{}}]}\",\"partitionColumns\":[],\"configuration\":{},\"createdTime\":1604881271656}}]\n[{\"add\":{\"path\":\"part-00000-16cb00b0-82f2-4060-8477-6adf6f4fade8-c000.snappy.parquet\",\"partitionValues\":{},\"size\":262,\"modificationTime\":1604881272000,\"dataChange\":true}}]\n[{\"add\":{\"path\":\"part-00003-30b7f9c6-53d8-4e13-aa87-68eef0b118f0-c000.snappy.parquet\",\"partitionValues\":{},\"size\":429,\"modificationTime\":1604881272000,\"dataChange\":true}}]\n[{\"add\":{\"path\":\"part-00006-a0f3564c-5cf7-4244-8458-16d53fcfefb9-c000.snappy.parquet\",\"partitionValues\":{},\"size\":429,\"modificationTime\":1604881272000,\"dataChange\":true}}]\n[{\"add\":{\"path\":\"part-00009-43c71d23-011d-41fa-83e3-5b599c329dcb-c000.snappy.parquet\",\"partitionValues\":{},\"size\":429,\"modificationTime\":1604881272000,\"dataChange\":true}}]\n[{\"add\":{\"path\":\"part-00012-6c234279-7a96-4ede-9479-4651da5ed795-c000.snappy.parquet\",\"partitionValues\":{},\"size\":429,\"modificationTime\":1604881272000,\"dataChange\":true}}]\n[{\"add\":{\"path\":\"part-00015-005c730a-8a15-40df-99e1-2d8c1f70fe22-c000.snappy.parquet\",\"partitionValues\":{},\"size\":429,\"modificationTime\":1604881272000,\"dataChange\":true}}]"
          },
          "metadata": {}
        }
      ],
      "metadata": {},
      "source": [
        "spark.read.text(s\"$deltaTablePath/_delta_log/\").collect.foreach(println)"
      ],
      "attachments": {}
    },
    {
      "cell_type": "markdown",
      "metadata": {},
      "source": [
        "## Save as catalog tables\n",
        "\n",
        "Delta Lake can write to managed or external catalog tables."
      ],
      "attachments": {}
    },
    {
      "cell_type": "code",
      "execution_count": 33,
      "outputs": [],
      "metadata": {},
      "source": [
        "// Write data to a new managed catalog table.\n",
        "data.write.format(\"delta\").saveAsTable(\"ManagedDeltaTable\")"
      ],
      "attachments": {}
    },
    {
      "cell_type": "code",
      "execution_count": 34,
      "outputs": [
        {
          "output_type": "execute_result",
          "execution_count": 34,
          "data": {
            "text/plain": "res68: org.apache.spark.sql.DataFrame = []"
          },
          "metadata": {}
        }
      ],
      "metadata": {},
      "source": [
        "// Define an external catalog table that points to the existing Delta Lake data in storage.\n",
        "spark.sql(s\"CREATE TABLE ExternalDeltaTable USING DELTA LOCATION '$deltaTablePath'\")"
      ],
      "attachments": {}
    },
    {
      "cell_type": "code",
      "execution_count": 35,
      "outputs": [
        {
          "output_type": "execute_result",
          "execution_count": 35,
          "data": {
            "text/plain": "+--------+------------------+-----------+\n|database|         tableName|isTemporary|\n+--------+------------------+-----------+\n| default|externaldeltatable|      false|\n| default| manageddeltatable|      false|\n+--------+------------------+-----------+\n\n+----------------------------+-------------------------------------------------------------------------------------------------------+-------+\n|col_name                    |data_type                                                                                              |comment|\n+----------------------------+-------------------------------------------------------------------------------------------------------+-------+\n|id                          |bigint                                                                                                 |null   |\n|                            |                                                                                                       |       |\n|# Detailed Table Information|                                                                                                       |       |\n|Database                    |default                                                                                                |       |\n|Table                       |manageddeltatable                                                                                      |       |\n|Owner                       |trusted-service-user                                                                                   |       |\n|Created Time                |Mon Nov 09 00:21:41 UTC 2020                                                                           |       |\n|Last Access                 |Thu Jan 01 00:00:00 UTC 1970                                                                           |       |\n|Created By                  |Spark 2.4.4.2.6.99.201-22124361                                                                        |       |\n|Type                        |MANAGED                                                                                                |       |\n|Provider                    |delta                                                                                                  |       |\n|Table Properties            |[transient_lastDdlTime=1604881301]                                                                     |       |\n|Statistics                  |2407 bytes                                                                                             |       |\n|Location                    |abfss://data@<data lake>.dfs.core.windows.net/synapse/workspaces/<workspace name>/warehouse/manageddeltatable|       |\n|Serde Library               |org.apache.hadoop.hive.serde2.lazy.LazySimpleSerDe                                                     |       |\n|InputFormat                 |org.apache.hadoop.mapred.SequenceFileInputFormat                                                       |       |\n|OutputFormat                |org.apache.hadoop.hive.ql.io.HiveSequenceFileOutputFormat                                              |       |\n|Storage Properties          |[serialization.format=1]                                                                               |       |\n+----------------------------+-------------------------------------------------------------------------------------------------------+-------+\n\n+----------------------------+----------------------------------------------------------------------+-------+\n|col_name                    |data_type                                                             |comment|\n+----------------------------+----------------------------------------------------------------------+-------+\n|id                          |bigint                                                                |null   |\n|                            |                                                                      |       |\n|# Detailed Table Information|                                                                      |       |\n|Database                    |default                                                               |       |\n|Table                       |externaldeltatable                                                    |       |\n|Owner                       |trusted-service-user                                                  |       |\n|Created Time                |Mon Nov 09 00:21:44 UTC 2020                                          |       |\n|Last Access                 |Thu Jan 01 00:00:00 UTC 1970                                          |       |\n|Created By                  |Spark 2.4.4.2.6.99.201-22124361                                       |       |\n|Type                        |EXTERNAL                                                              |       |\n|Provider                    |DELTA                                                                 |       |\n|Table Properties            |[transient_lastDdlTime=1604881304]                                    |       |\n|Location                    |abfss://data@<data lake>.dfs.core.windows.net/delta/delta-table-259512|       |\n|Serde Library               |org.apache.hadoop.hive.serde2.lazy.LazySimpleSerDe                    |       |\n|InputFormat                 |org.apache.hadoop.mapred.SequenceFileInputFormat                      |       |\n|OutputFormat                |org.apache.hadoop.hive.ql.io.HiveSequenceFileOutputFormat             |       |\n|Storage Properties          |[serialization.format=1]                                              |       |\n+----------------------------+----------------------------------------------------------------------+-------+"
          },
          "metadata": {}
        }
      ],
      "metadata": {},
      "source": [
        "// List the 2 new tables.\n",
        "spark.sql(\"SHOW TABLES\").show\n",
        "\n",
        "// Explore their properties.\n",
        "spark.sql(\"DESCRIBE EXTENDED ManagedDeltaTable\").show(truncate=false)\n",
        "spark.sql(\"DESCRIBE EXTENDED ExternalDeltaTable\").show(truncate=false)"
      ],
      "attachments": {}
    },
    {
      "cell_type": "markdown",
      "metadata": {},
      "source": [
        "## Conditional update without overwrite\n",
        "\n",
        "Delta Lake provides programmatic APIs to conditional update, delete, and merge (upsert) data into tables. For more information on these operations, see [Table Deletes, Updates, and Merges](https://docs.delta.io/latest/delta-update.html)."
      ],
      "attachments": {}
    },
    {
      "cell_type": "code",
      "execution_count": 36,
      "outputs": [
        {
          "output_type": "execute_result",
          "execution_count": 36,
          "data": {
            "text/plain": "import io.delta.tables._\nimport org.apache.spark.sql.functions._\ndeltaTable: io.delta.tables.DeltaTable = io.delta.tables.DeltaTable@236a0d01"
          },
          "metadata": {}
        }
      ],
      "metadata": {},
      "source": [
        "import io.delta.tables._\n",
        "import org.apache.spark.sql.functions._\n",
        "\n",
        "val deltaTable = DeltaTable.forPath(deltaTablePath)"
      ],
      "attachments": {}
    },
    {
      "cell_type": "code",
      "execution_count": 37,
      "outputs": [
        {
          "output_type": "execute_result",
          "execution_count": 37,
          "data": {
            "text/plain": "+---+\n| id|\n+---+\n|  9|\n|106|\n|108|\n|  5|\n|  7|\n+---+"
          },
          "metadata": {}
        }
      ],
      "metadata": {},
      "source": [
        "// Update every even value by adding 100 to it\n",
        "deltaTable.update(\n",
        "  condition = expr(\"id % 2 == 0\"),\n",
        "  set = Map(\"id\" -> expr(\"id + 100\")))\n",
        "deltaTable.toDF.show"
      ],
      "attachments": {}
    },
    {
      "cell_type": "code",
      "execution_count": 38,
      "outputs": [
        {
          "output_type": "execute_result",
          "execution_count": 38,
          "data": {
            "text/plain": "+---+\n| id|\n+---+\n|  9|\n|  5|\n|  7|\n+---+"
          },
          "metadata": {}
        }
      ],
      "metadata": {},
      "source": [
        "// Delete every even value\n",
        "deltaTable.delete(condition = expr(\"id % 2 == 0\"))\n",
        "deltaTable.toDF.show"
      ],
      "attachments": {}
    },
    {
      "cell_type": "code",
      "execution_count": 39,
      "outputs": [
        {
          "output_type": "execute_result",
          "execution_count": 39,
          "data": {
            "text/plain": "newData: org.apache.spark.sql.DataFrame = [id: bigint]\n+---+\n| id|\n+---+\n|  1|\n| 13|\n| -1|\n|  4|\n|  8|\n| -1|\n|  2|\n|  6|\n|  3|\n|  0|\n| 14|\n| 10|\n| 17|\n| 12|\n| 19|\n| -1|\n| 16|\n| 11|\n| 18|\n| 15|\n+---+"
          },
          "metadata": {}
        }
      ],
      "metadata": {},
      "source": [
        "// Upsert (merge) new data\n",
        "val newData = spark.range(0, 20).toDF\n",
        "\n",
        "deltaTable.as(\"oldData\").\n",
        "  merge(\n",
        "    newData.as(\"newData\"),\n",
        "    \"oldData.id = newData.id\").\n",
        "  whenMatched.\n",
        "  update(Map(\"id\" -> lit(-1))).\n",
        "  whenNotMatched.\n",
        "  insert(Map(\"id\" -> col(\"newData.id\"))).\n",
        "  execute()\n",
        "\n",
        "deltaTable.toDF.show()"
      ],
      "attachments": {}
    },
    {
      "cell_type": "markdown",
      "metadata": {},
      "source": [
        "## History\n",
        "Delta's most powerful feature is the ability to allow looking into history i.e., the changes that were made to the underlying Delta Table. The cell below shows how simple it is to inspect the history."
      ],
      "attachments": {}
    },
    {
      "cell_type": "code",
      "execution_count": 40,
      "outputs": [
        {
          "output_type": "execute_result",
          "execution_count": 40,
          "data": {
            "text/plain": "+-------+-------------------+------+--------+---------+-------------------------------------------------------------------+----+--------+---------+-----------+--------------+-------------+--------------------------------------------------------------------------------------------------------------------------------------------------------------------------------------------------------------+\n|version|timestamp          |userId|userName|operation|operationParameters                                                |job |notebook|clusterId|readVersion|isolationLevel|isBlindAppend|operationMetrics                                                                                                                                                                                              |\n+-------+-------------------+------+--------+---------+-------------------------------------------------------------------+----+--------+---------+-----------+--------------+-------------+--------------------------------------------------------------------------------------------------------------------------------------------------------------------------------------------------------------+\n|4      |2020-11-09 00:22:13|null  |null    |MERGE    |[predicate -> (oldData.`id` = newData.`id`)]                       |null|null    |null     |3          |null          |false        |[numTargetRowsCopied -> 0, numTargetRowsDeleted -> 0, numTargetFilesAdded -> 21, numTargetRowsInserted -> 17, numTargetRowsUpdated -> 3, numOutputRows -> 20, numSourceRows -> 20, numTargetFilesRemoved -> 3]|\n|3      |2020-11-09 00:22:03|null  |null    |DELETE   |[predicate -> [\"((`id` % CAST(2 AS BIGINT)) = CAST(0 AS BIGINT))\"]]|null|null    |null     |2          |null          |false        |[numRemovedFiles -> 2, numDeletedRows -> 2, numAddedFiles -> 1, numCopiedRows -> 0]                                                                                                                           |\n|2      |2020-11-09 00:21:53|null  |null    |UPDATE   |[predicate -> ((id#3120L % cast(2 as bigint)) = cast(0 as bigint))]|null|null    |null     |1          |null          |false        |[numRemovedFiles -> 2, numAddedFiles -> 2, numUpdatedRows -> 2, numCopiedRows -> 0]                                                                                                                           |\n|1      |2020-11-09 00:21:26|null  |null    |WRITE    |[mode -> Overwrite, partitionBy -> []]                             |null|null    |null     |0          |null          |false        |[numFiles -> 6, numOutputBytes -> 2407, numOutputRows -> 5]                                                                                                                                                   |\n|0      |2020-11-09 00:21:13|null  |null    |WRITE    |[mode -> ErrorIfExists, partitionBy -> []]                         |null|null    |null     |null       |null          |true         |[numFiles -> 6, numOutputBytes -> 2407, numOutputRows -> 5]                                                                                                                                                   |\n+-------+-------------------+------+--------+---------+-------------------------------------------------------------------+----+--------+---------+-----------+--------------+-------------+--------------------------------------------------------------------------------------------------------------------------------------------------------------------------------------------------------------+"
          },
          "metadata": {}
        }
      ],
      "metadata": {},
      "source": [
        "deltaTable.history.show(false)"
      ],
      "attachments": {}
    },
    {
      "cell_type": "markdown",
      "metadata": {},
      "source": [
        "## Read older versions of data using Time Travel\n",
        "\n",
        "You can query previous snapshots of your Delta Lake table by using a feature called Time Travel. If you want to access the data that you overwrote, you can query a snapshot of the table before you overwrote the first set of data using the versionAsOf option.\n",
        "\n",
        "Once you run the cell below, you should see the first set of data, from before you overwrote it. Time Travel is an extremely powerful feature that takes advantage of the power of the Delta Lake transaction log to access data that is no longer in the table. Removing the version 0 option (or specifying version 1) would let you see the newer data again. For more information, see [Query an older snapshot of a table (time travel)](https://docs.delta.io/latest/delta-batch.html#deltatimetravel)."
      ],
      "attachments": {}
    },
    {
      "cell_type": "code",
      "execution_count": 41,
      "outputs": [
        {
          "output_type": "execute_result",
          "execution_count": 41,
          "data": {
            "text/plain": "df: org.apache.spark.sql.DataFrame = [id: bigint]\n+---+\n| id|\n+---+\n|  2|\n|  1|\n|  3|\n|  0|\n|  4|\n+---+"
          },
          "metadata": {}
        }
      ],
      "metadata": {},
      "source": [
        "val df = spark.read.format(\"delta\").option(\"versionAsOf\", 0).load(deltaTablePath)\n",
        "df.show()"
      ],
      "attachments": {}
    },
    {
      "cell_type": "markdown",
      "metadata": {},
      "source": [
        "## Write a stream of data to a table\n",
        "\n",
        "You can also write to a Delta Lake table using Spark's Structured Streaming. The Delta Lake transaction log guarantees exactly-once processing, even when there are other streams or batch queries running concurrently against the table. By default, streams run in append mode, which adds new records to the table.\n",
        "\n",
        "For more information about Delta Lake integration with Structured Streaming, see [Table Streaming Reads and Writes](https://docs.delta.io/latest/delta-streaming.html).\n",
        "\n",
        "In the cells below, here's what we are doing:\n",
        "\n",
        "1. *Cell 28* Setup a simple Spark Structured Streaming job to generate a sequence and make the job write into our Delta Table\n",
        "2. *Cell 30* Show the newly appended data\n",
        "3. *Cell 31* Inspect history\n",
        "4. *Cell 32* Stop the structured streaming job\n",
        "5. *Cell 33* Inspect history <-- You'll notice appends have stopped"
      ],
      "attachments": {}
    },
    {
      "cell_type": "code",
      "execution_count": 42,
      "outputs": [
        {
          "output_type": "execute_result",
          "execution_count": 42,
          "data": {
            "text/plain": "streamingDf: org.apache.spark.sql.DataFrame = [timestamp: timestamp, value: bigint]\nstream: org.apache.spark.sql.streaming.StreamingQuery = org.apache.spark.sql.execution.streaming.StreamingQueryWrapper@6f846098"
          },
          "metadata": {}
        }
      ],
      "metadata": {},
      "source": [
        "val streamingDf = spark.readStream.format(\"rate\").load()\n",
        "val stream = streamingDf.select($\"value\" as \"id\").writeStream.format(\"delta\").option(\"checkpointLocation\", s\"/tmp/checkpoint-$sessionId\").start(deltaTablePath)"
      ],
      "attachments": {}
    },
    {
      "cell_type": "markdown",
      "metadata": {},
      "source": [
        "## Read a stream of changes from a table\n",
        "\n",
        "While the stream is writing to the Delta Lake table, you can also read from that table as streaming source. For example, you can start another streaming query that prints all the changes made to the Delta Lake table."
      ],
      "attachments": {}
    },
    {
      "cell_type": "code",
      "execution_count": 43,
      "outputs": [
        {
          "output_type": "execute_result",
          "execution_count": 43,
          "data": {
            "text/plain": "+---+\n| id|\n+---+\n| 19|\n| 18|\n| 17|\n| 16|\n| 15|\n| 14|\n| 13|\n| 12|\n| 11|\n| 10|\n|  8|\n|  6|\n|  4|\n|  3|\n|  2|\n|  1|\n|  0|\n| -1|\n| -1|\n| -1|\n+---+"
          },
          "metadata": {}
        }
      ],
      "metadata": {},
      "source": [
        "deltaTable.toDF.sort($\"id\".desc).show"
      ],
      "attachments": {}
    },
    {
      "cell_type": "code",
      "execution_count": 44,
      "outputs": [
        {
          "output_type": "execute_result",
          "execution_count": 44,
          "data": {
            "text/plain": "+-------+-------------------+------+--------+----------------+--------------------+----+--------+---------+-----------+--------------+-------------+--------------------+\n|version|          timestamp|userId|userName|       operation| operationParameters| job|notebook|clusterId|readVersion|isolationLevel|isBlindAppend|    operationMetrics|\n+-------+-------------------+------+--------+----------------+--------------------+----+--------+---------+-----------+--------------+-------------+--------------------+\n|      5|2020-11-09 00:22:43|  null|    null|STREAMING UPDATE|[outputMode -> Ap...|null|    null|     null|          4|          null|         true|[numRemovedFiles ...|\n|      4|2020-11-09 00:22:13|  null|    null|           MERGE|[predicate -> (ol...|null|    null|     null|          3|          null|        false|[numTargetRowsCop...|\n|      3|2020-11-09 00:22:03|  null|    null|          DELETE|[predicate -> [\"(...|null|    null|     null|          2|          null|        false|[numRemovedFiles ...|\n|      2|2020-11-09 00:21:53|  null|    null|          UPDATE|[predicate -> ((i...|null|    null|     null|          1|          null|        false|[numRemovedFiles ...|\n|      1|2020-11-09 00:21:26|  null|    null|           WRITE|[mode -> Overwrit...|null|    null|     null|          0|          null|        false|[numFiles -> 6, n...|\n|      0|2020-11-09 00:21:13|  null|    null|           WRITE|[mode -> ErrorIfE...|null|    null|     null|       null|          null|         true|[numFiles -> 6, n...|\n+-------+-------------------+------+--------+----------------+--------------------+----+--------+---------+-----------+--------------+-------------+--------------------+"
          },
          "metadata": {}
        }
      ],
      "metadata": {},
      "source": [
        "deltaTable.history.show"
      ],
      "attachments": {}
    },
    {
      "cell_type": "code",
      "execution_count": 45,
      "outputs": [],
      "metadata": {},
      "source": [
        "stream.stop"
      ],
      "attachments": {}
    },
    {
      "cell_type": "code",
      "execution_count": 46,
      "outputs": [
        {
          "output_type": "execute_result",
          "execution_count": 46,
          "data": {
            "text/plain": "+-------+-------------------+------+--------+----------------+--------------------+----+--------+---------+-----------+--------------+-------------+--------------------+\n|version|          timestamp|userId|userName|       operation| operationParameters| job|notebook|clusterId|readVersion|isolationLevel|isBlindAppend|    operationMetrics|\n+-------+-------------------+------+--------+----------------+--------------------+----+--------+---------+-----------+--------------+-------------+--------------------+\n|      5|2020-11-09 00:22:43|  null|    null|STREAMING UPDATE|[outputMode -> Ap...|null|    null|     null|          4|          null|         true|[numRemovedFiles ...|\n|      4|2020-11-09 00:22:13|  null|    null|           MERGE|[predicate -> (ol...|null|    null|     null|          3|          null|        false|[numTargetRowsCop...|\n|      3|2020-11-09 00:22:03|  null|    null|          DELETE|[predicate -> [\"(...|null|    null|     null|          2|          null|        false|[numRemovedFiles ...|\n|      2|2020-11-09 00:21:53|  null|    null|          UPDATE|[predicate -> ((i...|null|    null|     null|          1|          null|        false|[numRemovedFiles ...|\n|      1|2020-11-09 00:21:26|  null|    null|           WRITE|[mode -> Overwrit...|null|    null|     null|          0|          null|        false|[numFiles -> 6, n...|\n|      0|2020-11-09 00:21:13|  null|    null|           WRITE|[mode -> ErrorIfE...|null|    null|     null|       null|          null|         true|[numFiles -> 6, n...|\n+-------+-------------------+------+--------+----------------+--------------------+----+--------+---------+-----------+--------------+-------------+--------------------+"
          },
          "metadata": {}
        }
      ],
      "metadata": {},
      "source": [
        "deltaTable.history.show"
      ],
      "attachments": {}
    },
    {
      "cell_type": "markdown",
      "metadata": {},
      "source": [
        "## Compaction\n",
        "\n",
        "If a Delta Table is growing too large, you can compact it by repartitioning into a smaller number of files.\n",
        "\n",
        "The option `dataChange = false` is an optimization that tells Delta Lake to do the repartition without marking the underlying data as \"modified\". This ensures that any other concurrent operations (such as streaming reads/writes) aren't negatively impacted.\n",
        ""
      ],
      "attachments": {}
    },
    {
      "cell_type": "code",
      "execution_count": 47,
      "outputs": [
        {
          "output_type": "execute_result",
          "execution_count": 47,
          "data": {
            "text/plain": "partitionCount: Int = 2"
          },
          "metadata": {}
        }
      ],
      "metadata": {},
      "source": [
        "val partitionCount = 2\n",
        "\n",
        "spark.\n",
        "    read.\n",
        "    format(\"delta\").\n",
        "    load(deltaTablePath).\n",
        "    repartition(partitionCount).\n",
        "    write.\n",
        "    option(\"dataChange\", \"false\").\n",
        "    format(\"delta\").\n",
        "    mode(\"overwrite\").\n",
        "    save(deltaTablePath)    "
      ],
      "attachments": {}
    },
    {
      "cell_type": "markdown",
      "metadata": {},
      "source": [
        "## Convert Parquet to Delta\n",
        "You can do an in-place conversion from the Parquet format to Delta.## Cell title\n",
        ""
      ],
      "attachments": {}
    },
    {
      "cell_type": "code",
      "execution_count": 48,
      "outputs": [
        {
          "output_type": "execute_result",
          "execution_count": 48,
          "data": {
            "text/plain": "parquetPath: String = /parquet/parquet-table-259512\ndata: org.apache.spark.sql.Dataset[Long] = [id: bigint]\nres99: Boolean = false"
          },
          "metadata": {}
        }
      ],
      "metadata": {},
      "source": [
        "val parquetPath = s\"/parquet/parquet-table-$sessionId\"\n",
        "\n",
        "val data = spark.range(0,5)\n",
        "data.write.parquet(parquetPath)\n",
        "\n",
        "// Confirm that the data isn't in the Delta format\n",
        "DeltaTable.isDeltaTable(parquetPath)"
      ],
      "attachments": {}
    },
    {
      "cell_type": "code",
      "execution_count": 49,
      "outputs": [
        {
          "output_type": "execute_result",
          "execution_count": 49,
          "data": {
            "text/plain": "res100: io.delta.tables.DeltaTable = io.delta.tables.DeltaTable@5900f632\nres103: Boolean = true"
          },
          "metadata": {}
        }
      ],
      "metadata": {},
      "source": [
        "DeltaTable.convertToDelta(spark, s\"parquet.`$parquetPath`\")\n",
        "\n",
        "// Confirm that the converted data is now in the Delta format\n",
        "DeltaTable.isDeltaTable(parquetPath)"
      ],
      "attachments": {}
    },
    {
      "cell_type": "markdown",
      "metadata": {},
      "source": [
        "## SQL Support\n",
        "Delta supports table utility commands through SQL.  You can use SQL to:\n",
        "* Get a DeltaTable's history\n",
        "* Vacuum a DeltaTable\n",
        "* Convert a Parquet file to Delta\n",
        ""
      ],
      "attachments": {}
    },
    {
      "cell_type": "code",
      "execution_count": 50,
      "outputs": [
        {
          "output_type": "execute_result",
          "execution_count": 50,
          "data": {
            "text/plain": "+-------+-------------------+------+--------+----------------+--------------------+----+--------+---------+-----------+--------------+-------------+--------------------+\n|version|          timestamp|userId|userName|       operation| operationParameters| job|notebook|clusterId|readVersion|isolationLevel|isBlindAppend|    operationMetrics|\n+-------+-------------------+------+--------+----------------+--------------------+----+--------+---------+-----------+--------------+-------------+--------------------+\n|      6|2020-11-09 00:22:59|  null|    null|           WRITE|[mode -> Overwrit...|null|    null|     null|          5|          null|        false|[numFiles -> 2, n...|\n|      5|2020-11-09 00:22:43|  null|    null|STREAMING UPDATE|[outputMode -> Ap...|null|    null|     null|          4|          null|         true|[numRemovedFiles ...|\n|      4|2020-11-09 00:22:13|  null|    null|           MERGE|[predicate -> (ol...|null|    null|     null|          3|          null|        false|[numTargetRowsCop...|\n|      3|2020-11-09 00:22:03|  null|    null|          DELETE|[predicate -> [\"(...|null|    null|     null|          2|          null|        false|[numRemovedFiles ...|\n|      2|2020-11-09 00:21:53|  null|    null|          UPDATE|[predicate -> ((i...|null|    null|     null|          1|          null|        false|[numRemovedFiles ...|\n|      1|2020-11-09 00:21:26|  null|    null|           WRITE|[mode -> Overwrit...|null|    null|     null|          0|          null|        false|[numFiles -> 6, n...|\n|      0|2020-11-09 00:21:13|  null|    null|           WRITE|[mode -> ErrorIfE...|null|    null|     null|       null|          null|         true|[numFiles -> 6, n...|\n+-------+-------------------+------+--------+----------------+--------------------+----+--------+---------+-----------+--------------+-------------+--------------------+"
          },
          "metadata": {}
        }
      ],
      "metadata": {},
      "source": [
        "spark.sql(s\"DESCRIBE HISTORY delta.`$deltaTablePath`\").show()"
      ],
      "attachments": {}
    },
    {
      "cell_type": "code",
      "execution_count": 51,
      "outputs": [
        {
          "output_type": "execute_result",
          "execution_count": 51,
          "data": {
            "text/plain": "Deleted 0 files and directories in a total of 1 directories.\n+--------------------+\n|                path|\n+--------------------+\n|abfss://data@...|\n+--------------------+"
          },
          "metadata": {}
        }
      ],
      "metadata": {},
      "source": [
        "spark.sql(s\"VACUUM delta.`$deltaTablePath`\").show()"
      ],
      "attachments": {}
    },
    {
      "cell_type": "code",
      "execution_count": 52,
      "outputs": [
        {
          "output_type": "execute_result",
          "execution_count": 52,
          "data": {
            "text/plain": "parquetId: Int = 633\nparquetPath: String = /parquet/parquet-table-259512-633\ndata: org.apache.spark.sql.Dataset[Long] = [id: bigint]\nres110: Boolean = false\nres113: org.apache.spark.sql.DataFrame = []\nres115: Boolean = true"
          },
          "metadata": {}
        }
      ],
      "metadata": {},
      "source": [
        "val parquetId = scala.util.Random.nextInt(1000)\n",
        "val parquetPath = s\"/parquet/parquet-table-$sessionId-$parquetId\"\n",
        "\n",
        "val data = spark.range(0,5)\n",
        "data.write.parquet(parquetPath)\n",
        "\n",
        "// Confirm that the data isn't in the Delta format\n",
        "DeltaTable.isDeltaTable(parquetPath)\n",
        "\n",
        "// Use SQL to convert the parquet table to Delta\n",
        "spark.sql(s\"CONVERT TO DELTA parquet.`$parquetPath`\")\n",
        "\n",
        "DeltaTable.isDeltaTable(parquetPath)"
      ],
      "attachments": {}
    }
  ]
}