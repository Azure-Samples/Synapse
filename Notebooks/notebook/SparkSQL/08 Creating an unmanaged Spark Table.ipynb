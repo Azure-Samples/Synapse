{
  "metadata": {
    "saveOutput": true,
    "language_info": {
      "name": "sql"
    }
  },
  "nbformat": 4,
  "nbformat_minor": 2,
  "cells": [
    {
      "cell_type": "markdown",
      "metadata": {},
      "source": [
        "# Creating an unmanaged (external) Spark table\n",
        "This notebook describes how to create an unmanaged (also known as external) table from Spark. \n",
        "The table is created in /datalake/cities which may exist already (so you can attach to existing data) it can be created when you insert data."
      ],
      "attachments": {}
    },
    {
      "cell_type": "code",
      "execution_count": 4,
      "outputs": [
        {
          "output_type": "execute_result",
          "execution_count": 4,
          "data": {
            "application/json": {
              "isSummary": false,
              "language": "sql",
              "table": {
                "rows": [],
                "schema": {}
              }
            }
          },
          "metadata": {}
        }
      ],
      "metadata": {
        "diagram": {
          "activateDiagramType": 1,
          "chartConfig": {
            "category": "bar",
            "keys": [],
            "values": [],
            "yLabel": "",
            "xLabel": "",
            "aggregation": "SUM",
            "aggByBackend": false
          },
          "aggData": "{}",
          "isSummary": false,
          "previewData": {
            "filter": null
          },
          "isSql": true
        }
      },
      "source": [
        "DROP TABLE IF EXISTS cities"
      ],
      "attachments": {}
    },
    {
      "cell_type": "code",
      "execution_count": 5,
      "outputs": [
        {
          "output_type": "execute_result",
          "execution_count": 5,
          "data": {
            "application/json": {
              "isSummary": false,
              "language": "sql",
              "table": {
                "rows": [],
                "schema": {}
              }
            }
          },
          "metadata": {}
        }
      ],
      "metadata": {
        "diagram": {
          "activateDiagramType": 1,
          "chartConfig": {
            "category": "bar",
            "keys": [],
            "values": [],
            "yLabel": "",
            "xLabel": "",
            "aggregation": "SUM",
            "aggByBackend": false
          },
          "aggData": "{}",
          "isSummary": false,
          "previewData": {
            "filter": null
          },
          "isSql": true
        }
      },
      "source": [
        "CREATE TABLE cities\n",
        "  (name STRING, population INT)\n",
        "  USING PARQUET\n",
        "  LOCATION '/datalake/cities'\n",
        "  OPTIONS ('compression'='snappy')"
      ],
      "attachments": {}
    },
    {
      "cell_type": "markdown",
      "metadata": {},
      "source": [
        "Insert a few rows into the table using a list of values.\n",
        ""
      ],
      "attachments": {}
    },
    {
      "cell_type": "code",
      "execution_count": 6,
      "outputs": [
        {
          "output_type": "execute_result",
          "execution_count": 6,
          "data": {
            "application/json": {
              "isSummary": false,
              "language": "sql",
              "table": {
                "rows": [],
                "schema": {}
              }
            }
          },
          "metadata": {}
        }
      ],
      "metadata": {
        "diagram": {
          "activateDiagramType": 1,
          "chartConfig": {
            "category": "bar",
            "keys": [],
            "values": [],
            "yLabel": "",
            "xLabel": "",
            "aggregation": "SUM",
            "aggByBackend": false
          },
          "aggData": "{}",
          "isSummary": false,
          "previewData": {
            "filter": null
          },
          "isSql": true
        }
      },
      "source": [
        "INSERT INTO cities VALUES ('Seattle', 730400), ('San Francisco', 881549), ('Beijing', 21540000), ('Bangalore', 10540000)"
      ],
      "attachments": {}
    },
    {
      "cell_type": "markdown",
      "metadata": {},
      "source": [
        "* Retrieve values back. Click on 'Chart' below to review the visualization.\n",
        ""
      ],
      "attachments": {}
    },
    {
      "cell_type": "code",
      "execution_count": 7,
      "outputs": [
        {
          "output_type": "execute_result",
          "execution_count": 7,
          "data": {
            "application/json": {
              "isSummary": false,
              "language": "sql",
              "table": {
                "rows": [
                  {
                    "name": "Bangalore",
                    "population": 10540000
                  },
                  {
                    "name": "Bangalore",
                    "population": 10540000
                  },
                  {
                    "name": "Bangalore",
                    "population": 10540000
                  },
                  {
                    "name": "Bangalore",
                    "population": 10540000
                  },
                  {
                    "name": "Bangalore",
                    "population": 10540000
                  },
                  {
                    "name": "Bangalore",
                    "population": 10540000
                  },
                  {
                    "name": "Beijing",
                    "population": 21540000
                  },
                  {
                    "name": "Beijing",
                    "population": 21540000
                  },
                  {
                    "name": "Beijing",
                    "population": 21540000
                  },
                  {
                    "name": "Beijing",
                    "population": 21540000
                  },
                  {
                    "name": "Beijing",
                    "population": 21540000
                  },
                  {
                    "name": "Beijing",
                    "population": 21540000
                  },
                  {
                    "name": "San Francisco",
                    "population": 881549
                  },
                  {
                    "name": "San Francisco",
                    "population": 881549
                  },
                  {
                    "name": "San Francisco",
                    "population": 881549
                  },
                  {
                    "name": "San Francisco",
                    "population": 881549
                  },
                  {
                    "name": "San Francisco",
                    "population": 881549
                  },
                  {
                    "name": "San Francisco",
                    "population": 881549
                  },
                  {
                    "name": "Seattle",
                    "population": 730400
                  },
                  {
                    "name": "Seattle",
                    "population": 730400
                  },
                  {
                    "name": "Seattle",
                    "population": 730400
                  },
                  {
                    "name": "Seattle",
                    "population": 730400
                  },
                  {
                    "name": "Seattle",
                    "population": 730400
                  },
                  {
                    "name": "Seattle",
                    "population": 730400
                  }
                ],
                "schema": {
                  "name": "string",
                  "population": "integer"
                }
              }
            }
          },
          "metadata": {}
        }
      ],
      "metadata": {
        "diagram": {
          "activateDiagramType": 1,
          "chartConfig": {
            "category": "bar",
            "keys": [
              "name"
            ],
            "values": [
              "population"
            ],
            "yLabel": "population",
            "xLabel": "name",
            "aggregation": "SUM",
            "aggByBackend": false
          },
          "aggData": "{\"population\":{\"Bangalore\":63240000,\"Beijing\":129240000,\"San Francisco\":5289294,\"Seattle\":4382400}}",
          "isSummary": false,
          "previewData": {
            "filter": null
          },
          "isSql": true
        }
      },
      "source": [
        "SELECT * FROM cities ORDER BY name"
      ],
      "attachments": {}
    },
    {
      "cell_type": "markdown",
      "metadata": {},
      "source": [
        "Drop the table. Please note the data will remain in the data lake.\n",
        ""
      ],
      "attachments": {}
    },
    {
      "cell_type": "code",
      "execution_count": 8,
      "outputs": [
        {
          "output_type": "execute_result",
          "execution_count": 8,
          "data": {
            "application/json": {
              "isSummary": false,
              "language": "sql",
              "table": {
                "rows": [],
                "schema": {}
              }
            }
          },
          "metadata": {}
        }
      ],
      "metadata": {
        "diagram": {
          "activateDiagramType": 1,
          "chartConfig": {
            "category": "bar",
            "keys": [],
            "values": [],
            "yLabel": "",
            "xLabel": "",
            "aggregation": "SUM",
            "aggByBackend": false
          },
          "aggData": "{}",
          "isSummary": false,
          "previewData": {
            "filter": null
          },
          "isSql": true
        }
      },
      "source": [
        "DROP TABLE cities"
      ],
      "attachments": {}
    }
  ]
}