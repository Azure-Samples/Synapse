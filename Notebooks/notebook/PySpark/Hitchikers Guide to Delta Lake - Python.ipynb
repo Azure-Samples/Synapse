{
  "metadata": {
    "saveOutput": true,
    "language_info": {
      "name": "python"
    }
  },
  "nbformat": 4,
  "nbformat_minor": 2,
  "cells": [
    {
      "cell_type": "markdown",
      "metadata": {},
      "source": [
        "# Hitchhiker's Guide to Delta Lake (Python)\n",
        "\n",
        "This tutorial has been adapted for more clarity from its original counterpart [here](https://docs.delta.io/latest/quick-start.html). This notebook helps you quickly explore the main features of [Delta Lake](https://github.com/delta-io/delta). It provides code snippets that show how to read from and write to Delta Lake tables from interactive, batch, and streaming queries.\n",
        "\n",
        "Here's what we will cover:\n",
        "* Create a table\n",
        "* Understanding meta-data\n",
        "* Read data\n",
        "* Update table data\n",
        "* Overwrite table data\n",
        "* Conditional update without overwrite\n",
        "* Read older versions of data using Time Travel\n",
        "* Write a stream of data to a table\n",
        "* Read a stream of changes from a table"
      ],
      "attachments": {}
    },
    {
      "cell_type": "markdown",
      "metadata": {},
      "source": [
        "## Configuration\n",
        "Make sure you modify this as appropriate."
      ],
      "attachments": {}
    },
    {
      "cell_type": "code",
      "execution_count": 1,
      "outputs": [
        {
          "output_type": "execute_result",
          "execution_count": 1,
          "data": {
            "text/plain": "'/delta/delta-table-274467'"
          },
          "metadata": {}
        }
      ],
      "metadata": {},
      "source": [
        "import random\n",
        "\n",
        "session_id = random.randint(0,1000000)\n",
        "delta_table_path = \"/delta/delta-table-{0}\".format(session_id)\n",
        "\n",
        "delta_table_path"
      ],
      "attachments": {}
    },
    {
      "cell_type": "markdown",
      "metadata": {},
      "source": [
        "## Create a table\n",
        "To create a Delta Lake table, write a DataFrame out in the **delta** format. You can use existing Spark SQL code and change the format from parquet, csv, json, and so on, to delta.\n",
        "\n",
        "These operations create a new Delta Lake table using the schema that was inferred from your DataFrame. For the full set of options available when you create a new Delta Lake table, see Create a table and Write to a table (subsequent cells in this notebook)."
      ],
      "attachments": {}
    },
    {
      "cell_type": "code",
      "execution_count": 2,
      "outputs": [
        {
          "output_type": "execute_result",
          "execution_count": 2,
          "data": {
            "text/plain": "+---+\n| id|\n+---+\n|  0|\n|  1|\n|  2|\n|  3|\n|  4|\n+---+"
          },
          "metadata": {}
        }
      ],
      "metadata": {},
      "source": [
        "data = spark.range(0,5)\n",
        "data.show()\n",
        "data.write.format(\"delta\").save(delta_table_path)"
      ],
      "attachments": {}
    },
    {
      "cell_type": "markdown",
      "metadata": {},
      "source": [
        "## Understanding Meta-data\n",
        "\n",
        "In Delta Lake, meta-data is no different from data i.e., it is stored next to the data. Therefore, an interesting side-effect here is that you can peek into meta-data using regular Spark APIs. "
      ],
      "attachments": {}
    },
    {
      "cell_type": "code",
      "execution_count": 3,
      "outputs": [
        {
          "output_type": "execute_result",
          "execution_count": 3,
          "data": {
            "text/plain": "['{\"commitInfo\":{\"timestamp\":1604887749799,\"operation\":\"WRITE\",\"operationParameters\":{\"mode\":\"ErrorIfExists\",\"partitionBy\":\"[]\"},\"isBlindAppend\":true,\"operationMetrics\":{\"numFiles\":\"2\",\"numOutputBytes\":\"879\",\"numOutputRows\":\"5\"}}}', '{\"protocol\":{\"minReaderVersion\":1,\"minWriterVersion\":2}}', '{\"metaData\":{\"id\":\"ec85acf0-8df1-4ae7-aaa2-4aff1481bd0e\",\"format\":{\"provider\":\"parquet\",\"options\":{}},\"schemaString\":\"{\\\\\"type\\\\\":\\\\\"struct\\\\\",\\\\\"fields\\\\\":[{\\\\\"name\\\\\":\\\\\"id\\\\\",\\\\\"type\\\\\":\\\\\"long\\\\\",\\\\\"nullable\\\\\":true,\\\\\"metadata\\\\\":{}}]}\",\"partitionColumns\":[],\"configuration\":{},\"createdTime\":1604887743030}}', '{\"add\":{\"path\":\"part-00000-91ac127f-d247-4b8a-8252-5ef4917ad76c-c000.snappy.parquet\",\"partitionValues\":{},\"size\":437,\"modificationTime\":1604887749000,\"dataChange\":true}}', '{\"add\":{\"path\":\"part-00001-696011ab-e813-4b91-bace-1fbad8238a73-c000.snappy.parquet\",\"partitionValues\":{},\"size\":442,\"modificationTime\":1604887749000,\"dataChange\":true}}']"
          },
          "metadata": {}
        }
      ],
      "metadata": {},
      "source": [
        "[log_line.value for log_line in spark.read.text(delta_table_path + \"/_delta_log/\").collect()]"
      ],
      "attachments": {}
    },
    {
      "cell_type": "markdown",
      "metadata": {},
      "source": [
        "## Read data\n",
        "\n",
        "You read data in your Delta Lake table by specifying the path to the files."
      ],
      "attachments": {}
    },
    {
      "cell_type": "code",
      "execution_count": 4,
      "outputs": [
        {
          "output_type": "execute_result",
          "execution_count": 4,
          "data": {
            "text/plain": "+---+\n| id|\n+---+\n|  2|\n|  3|\n|  4|\n|  0|\n|  1|\n+---+"
          },
          "metadata": {}
        }
      ],
      "metadata": {},
      "source": [
        "df = spark.read.format(\"delta\").load(delta_table_path)\n",
        "df.show()"
      ],
      "attachments": {}
    },
    {
      "cell_type": "markdown",
      "metadata": {},
      "source": [
        "## Update table data\n",
        "\n",
        "Delta Lake supports several operations to modify tables using standard DataFrame APIs. This example runs a batch job to overwrite the data in the table.\n",
        ""
      ],
      "attachments": {}
    },
    {
      "cell_type": "code",
      "execution_count": 5,
      "outputs": [
        {
          "output_type": "execute_result",
          "execution_count": 5,
          "data": {
            "text/plain": "+---+\n| id|\n+---+\n|  8|\n|  9|\n|  6|\n|  7|\n|  5|\n+---+"
          },
          "metadata": {}
        }
      ],
      "metadata": {},
      "source": [
        "data = spark.range(5,10)\n",
        "data.write.format(\"delta\").mode(\"overwrite\").save(delta_table_path)\n",
        "df.show()"
      ],
      "attachments": {}
    },
    {
      "cell_type": "markdown",
      "metadata": {},
      "source": [
        "When you now inspect the meta-data, what you will notice is that the original data is over-written. Well, not in a true sense but appropriate entries are added to Delta's transaction log so it can provide an \"illusion\" that the original data was deleted. We can verify this by re-inspecting the meta-data. You will see several entries indicating reference removal to the original data."
      ],
      "attachments": {}
    },
    {
      "cell_type": "code",
      "execution_count": 6,
      "outputs": [
        {
          "output_type": "execute_result",
          "execution_count": 6,
          "data": {
            "text/plain": "['{\"commitInfo\":{\"timestamp\":1604887780290,\"operation\":\"WRITE\",\"operationParameters\":{\"mode\":\"Overwrite\",\"partitionBy\":\"[]\"},\"readVersion\":0,\"isBlindAppend\":false,\"operationMetrics\":{\"numFiles\":\"6\",\"numOutputBytes\":\"2407\",\"numOutputRows\":\"5\"}}}', '{\"add\":{\"path\":\"part-00000-86282aa8-8df4-4c11-8d23-e057b9fd7792-c000.snappy.parquet\",\"partitionValues\":{},\"size\":262,\"modificationTime\":1604887779000,\"dataChange\":true}}', '{\"add\":{\"path\":\"part-00003-ce768928-47d1-4f54-86bc-c2a925432b68-c000.snappy.parquet\",\"partitionValues\":{},\"size\":429,\"modificationTime\":1604887778000,\"dataChange\":true}}', '{\"add\":{\"path\":\"part-00006-0f91bd77-0ed5-4864-9d05-6f75ba6bbd73-c000.snappy.parquet\",\"partitionValues\":{},\"size\":429,\"modificationTime\":1604887779000,\"dataChange\":true}}', '{\"add\":{\"path\":\"part-00009-eb3d574e-f178-400e-a6b8-e6613cf61176-c000.snappy.parquet\",\"partitionValues\":{},\"size\":429,\"modificationTime\":1604887778000,\"dataChange\":true}}', '{\"add\":{\"path\":\"part-00012-36f1dfaf-9150-4ea2-a63a-867c5c7cabf7-c000.snappy.parquet\",\"partitionValues\":{},\"size\":429,\"modificationTime\":1604887779000,\"dataChange\":true}}', '{\"add\":{\"path\":\"part-00015-6e09d4e5-a9d6-4e04-9b63-ff5bbff1c7fc-c000.snappy.parquet\",\"partitionValues\":{},\"size\":429,\"modificationTime\":1604887778000,\"dataChange\":true}}', '{\"remove\":{\"path\":\"part-00001-696011ab-e813-4b91-bace-1fbad8238a73-c000.snappy.parquet\",\"deletionTimestamp\":1604887780290,\"dataChange\":true}}', '{\"remove\":{\"path\":\"part-00000-91ac127f-d247-4b8a-8252-5ef4917ad76c-c000.snappy.parquet\",\"deletionTimestamp\":1604887780290,\"dataChange\":true}}', '{\"commitInfo\":{\"timestamp\":1604887749799,\"operation\":\"WRITE\",\"operationParameters\":{\"mode\":\"ErrorIfExists\",\"partitionBy\":\"[]\"},\"isBlindAppend\":true,\"operationMetrics\":{\"numFiles\":\"2\",\"numOutputBytes\":\"879\",\"numOutputRows\":\"5\"}}}', '{\"protocol\":{\"minReaderVersion\":1,\"minWriterVersion\":2}}', '{\"metaData\":{\"id\":\"ec85acf0-8df1-4ae7-aaa2-4aff1481bd0e\",\"format\":{\"provider\":\"parquet\",\"options\":{}},\"schemaString\":\"{\\\\\"type\\\\\":\\\\\"struct\\\\\",\\\\\"fields\\\\\":[{\\\\\"name\\\\\":\\\\\"id\\\\\",\\\\\"type\\\\\":\\\\\"long\\\\\",\\\\\"nullable\\\\\":true,\\\\\"metadata\\\\\":{}}]}\",\"partitionColumns\":[],\"configuration\":{},\"createdTime\":1604887743030}}', '{\"add\":{\"path\":\"part-00000-91ac127f-d247-4b8a-8252-5ef4917ad76c-c000.snappy.parquet\",\"partitionValues\":{},\"size\":437,\"modificationTime\":1604887749000,\"dataChange\":true}}', '{\"add\":{\"path\":\"part-00001-696011ab-e813-4b91-bace-1fbad8238a73-c000.snappy.parquet\",\"partitionValues\":{},\"size\":442,\"modificationTime\":1604887749000,\"dataChange\":true}}']"
          },
          "metadata": {}
        }
      ],
      "metadata": {},
      "source": [
        "[log_line.value for log_line in spark.read.text(delta_table_path + \"/_delta_log/\").collect()]"
      ],
      "attachments": {}
    },
    {
      "cell_type": "markdown",
      "metadata": {},
      "source": [
        "## Save as catalog tables\n",
        "\n",
        "Delta Lake can write to managed or external catalog tables."
      ],
      "attachments": {}
    },
    {
      "cell_type": "code",
      "execution_count": 7,
      "outputs": [],
      "metadata": {},
      "source": [
        "# Write data to a new managed catalog table.\n",
        "data.write.format(\"delta\").saveAsTable(\"ManagedDeltaTable\")"
      ],
      "attachments": {}
    },
    {
      "cell_type": "code",
      "execution_count": 8,
      "outputs": [
        {
          "output_type": "execute_result",
          "execution_count": 8,
          "data": {
            "text/plain": "DataFrame[]"
          },
          "metadata": {}
        }
      ],
      "metadata": {},
      "source": [
        "# Define an external catalog table that points to the existing Delta Lake data in storage.\n",
        "spark.sql(\"CREATE TABLE ExternalDeltaTable USING DELTA LOCATION '{0}'\".format(delta_table_path))"
      ],
      "attachments": {}
    },
    {
      "cell_type": "code",
      "execution_count": 9,
      "outputs": [
        {
          "output_type": "execute_result",
          "execution_count": 9,
          "data": {
            "text/plain": "+--------+------------------+-----------+\n|database|         tableName|isTemporary|\n+--------+------------------+-----------+\n| default|externaldeltatable|      false|\n| default| manageddeltatable|      false|\n+--------+------------------+-----------+\n\n+----------------------------+-------------------------------------------------------------------------------------------------------+-------+\n|col_name                    |data_type                                                                                              |comment|\n+----------------------------+-------------------------------------------------------------------------------------------------------+-------+\n|id                          |bigint                                                                                                 |null   |\n|                            |                                                                                                       |       |\n|# Detailed Table Information|                                                                                                       |       |\n|Database                    |default                                                                                                |       |\n|Table                       |manageddeltatable                                                                                      |       |\n|Owner                       |trusted-service-user                                                                                   |       |\n|Created Time                |Mon Nov 09 02:10:01 UTC 2020                                                                           |       |\n|Last Access                 |Thu Jan 01 00:00:00 UTC 1970                                                                           |       |\n|Created By                  |Spark 2.4.4.2.6.99.201-22124361                                                                        |       |\n|Type                        |MANAGED                                                                                                |       |\n|Provider                    |delta                                                                                                  |       |\n|Table Properties            |[transient_lastDdlTime=1604887801]                                                                     |       |\n|Statistics                  |2407 bytes                                                                                             |       |\n|Location                    |abfss://data@<data lake>.dfs.core.windows.net/synapse/workspaces/<workspace name>/warehouse/manageddeltatable|       |\n|Serde Library               |org.apache.hadoop.hive.serde2.lazy.LazySimpleSerDe                                                     |       |\n|InputFormat                 |org.apache.hadoop.mapred.SequenceFileInputFormat                                                       |       |\n|OutputFormat                |org.apache.hadoop.hive.ql.io.HiveSequenceFileOutputFormat                                              |       |\n|Storage Properties          |[serialization.format=1]                                                                               |       |\n+----------------------------+-------------------------------------------------------------------------------------------------------+-------+\n\n+----------------------------+----------------------------------------------------------------------+-------+\n|col_name                    |data_type                                                             |comment|\n+----------------------------+----------------------------------------------------------------------+-------+\n|id                          |bigint                                                                |null   |\n|                            |                                                                      |       |\n|# Detailed Table Information|                                                                      |       |\n|Database                    |default                                                               |       |\n|Table                       |externaldeltatable                                                    |       |\n|Owner                       |trusted-service-user                                                  |       |\n|Created Time                |Mon Nov 09 02:10:05 UTC 2020                                          |       |\n|Last Access                 |Thu Jan 01 00:00:00 UTC 1970                                          |       |\n|Created By                  |Spark 2.4.4.2.6.99.201-22124361                                       |       |\n|Type                        |EXTERNAL                                                              |       |\n|Provider                    |DELTA                                                                 |       |\n|Table Properties            |[transient_lastDdlTime=1604887805]                                    |       |\n|Location                    |abfss://data@<data lake>.dfs.core.windows.net/delta/delta-table-274467|       |\n|Serde Library               |org.apache.hadoop.hive.serde2.lazy.LazySimpleSerDe                    |       |\n|InputFormat                 |org.apache.hadoop.mapred.SequenceFileInputFormat                      |       |\n|OutputFormat                |org.apache.hadoop.hive.ql.io.HiveSequenceFileOutputFormat             |       |\n|Storage Properties          |[serialization.format=1]                                              |       |\n+----------------------------+----------------------------------------------------------------------+-------+"
          },
          "metadata": {}
        }
      ],
      "metadata": {},
      "source": [
        "# List the 2 new tables.\n",
        "spark.sql(\"SHOW TABLES\").show()\n",
        "\n",
        "# Explore their properties.\n",
        "spark.sql(\"DESCRIBE EXTENDED ManagedDeltaTable\").show(truncate=False)\n",
        "spark.sql(\"DESCRIBE EXTENDED ExternalDeltaTable\").show(truncate=False)"
      ],
      "attachments": {}
    },
    {
      "cell_type": "markdown",
      "metadata": {},
      "source": [
        "## Conditional update without overwrite\n",
        "\n",
        "Delta Lake provides programmatic APIs to conditional update, delete, and merge (upsert) data into tables. For more information on these operations, see [Table Deletes, Updates, and Merges](https://docs.delta.io/latest/delta-update.html)."
      ],
      "attachments": {}
    },
    {
      "cell_type": "code",
      "execution_count": 10,
      "outputs": [],
      "metadata": {},
      "source": [
        "from delta.tables import *\n",
        "from pyspark.sql.functions import *\n",
        "\n",
        "delta_table = DeltaTable.forPath(spark, delta_table_path)"
      ],
      "attachments": {}
    },
    {
      "cell_type": "code",
      "execution_count": 11,
      "outputs": [
        {
          "output_type": "execute_result",
          "execution_count": 11,
          "data": {
            "text/plain": "+---+\n| id|\n+---+\n|  9|\n|108|\n|106|\n|  7|\n|  5|\n+---+"
          },
          "metadata": {}
        }
      ],
      "metadata": {},
      "source": [
        "# Update every even value by adding 100 to it\n",
        "delta_table.update(\n",
        "  condition = expr(\"id % 2 == 0\"),\n",
        "  set = { \"id\": expr(\"id + 100\") })\n",
        "delta_table.toDF().show()"
      ],
      "attachments": {}
    },
    {
      "cell_type": "code",
      "execution_count": 12,
      "outputs": [
        {
          "output_type": "execute_result",
          "execution_count": 12,
          "data": {
            "text/plain": "+---+\n| id|\n+---+\n|  9|\n|  7|\n|  5|\n+---+"
          },
          "metadata": {}
        }
      ],
      "metadata": {},
      "source": [
        "# Delete every even value\n",
        "delta_table.delete(\"id % 2 == 0\")\n",
        "delta_table.toDF().show()"
      ],
      "attachments": {}
    },
    {
      "cell_type": "code",
      "execution_count": 13,
      "outputs": [
        {
          "output_type": "execute_result",
          "execution_count": 13,
          "data": {
            "text/plain": "+---+\n| id|\n+---+\n| 19|\n| -1|\n|  6|\n|  1|\n| 12|\n| 15|\n| 17|\n|  3|\n| 10|\n|  2|\n| -1|\n| 16|\n| 18|\n|  0|\n| -1|\n|  4|\n| 14|\n| 11|\n| 13|\n|  8|\n+---+"
          },
          "metadata": {}
        }
      ],
      "metadata": {},
      "source": [
        "# Upsert (merge) new data\n",
        "new_data = spark.range(0,20).alias(\"newData\")\n",
        "\n",
        "delta_table.alias(\"oldData\")\\\n",
        "    .merge(new_data.alias(\"newData\"), \"oldData.id = newData.id\")\\\n",
        "    .whenMatchedUpdate(set = { \"id\": lit(\"-1\")})\\\n",
        "    .whenNotMatchedInsert(values = { \"id\": col(\"newData.id\") })\\\n",
        "    .execute()\n",
        "\n",
        "delta_table.toDF().show(100)"
      ],
      "attachments": {}
    },
    {
      "cell_type": "markdown",
      "metadata": {},
      "source": [
        "## History\n",
        "Delta's most powerful feature is the ability to allow looking into history i.e., the changes that were made to the underlying Delta Table. The cell below shows how simple it is to inspect the history."
      ],
      "attachments": {}
    },
    {
      "cell_type": "code",
      "execution_count": 14,
      "outputs": [
        {
          "output_type": "execute_result",
          "execution_count": 14,
          "data": {
            "text/plain": "+-------+-------------------+------+--------+---------+-------------------------------------------------------------------+----+--------+---------+-----------+--------------+-------------+--------------------------------------------------------------------------------------------------------------------------------------------------------------------------------------------------------------+\n|version|          timestamp|userId|userName|operation|                                                operationParameters| job|notebook|clusterId|readVersion|isolationLevel|isBlindAppend|                                                                                                                                                                                              operationMetrics|\n+-------+-------------------+------+--------+---------+-------------------------------------------------------------------+----+--------+---------+-----------+--------------+-------------+--------------------------------------------------------------------------------------------------------------------------------------------------------------------------------------------------------------+\n|      4|2020-11-09 02:10:36|  null|    null|    MERGE|                       [predicate -> (oldData.`id` = newData.`id`)]|null|    null|     null|          3|          null|        false|[numTargetRowsCopied -> 0, numTargetRowsDeleted -> 0, numTargetFilesAdded -> 21, numTargetRowsInserted -> 17, numTargetRowsUpdated -> 3, numOutputRows -> 20, numSourceRows -> 20, numTargetFilesRemoved -> 3]|\n|      3|2020-11-09 02:10:24|  null|    null|   DELETE|[predicate -> [\"((`id` % CAST(2 AS BIGINT)) = CAST(0 AS BIGINT))\"]]|null|    null|     null|          2|          null|        false|                                                                                                                           [numRemovedFiles -> 2, numDeletedRows -> 2, numAddedFiles -> 1, numCopiedRows -> 0]|\n|      2|2020-11-09 02:10:14|  null|    null|   UPDATE| [predicate -> ((id#505L % cast(2 as bigint)) = cast(0 as bigint))]|null|    null|     null|          1|          null|        false|                                                                                                                           [numRemovedFiles -> 2, numAddedFiles -> 2, numUpdatedRows -> 2, numCopiedRows -> 0]|\n|      1|2020-11-09 02:09:40|  null|    null|    WRITE|                             [mode -> Overwrite, partitionBy -> []]|null|    null|     null|          0|          null|        false|                                                                                                                                                   [numFiles -> 6, numOutputBytes -> 2407, numOutputRows -> 5]|\n|      0|2020-11-09 02:09:10|  null|    null|    WRITE|                         [mode -> ErrorIfExists, partitionBy -> []]|null|    null|     null|       null|          null|         true|                                                                                                                                                    [numFiles -> 2, numOutputBytes -> 879, numOutputRows -> 5]|\n+-------+-------------------+------+--------+---------+-------------------------------------------------------------------+----+--------+---------+-----------+--------------+-------------+--------------------------------------------------------------------------------------------------------------------------------------------------------------------------------------------------------------+"
          },
          "metadata": {}
        }
      ],
      "metadata": {},
      "source": [
        "delta_table.history().show(20, 1000, False)"
      ],
      "attachments": {}
    },
    {
      "cell_type": "markdown",
      "metadata": {},
      "source": [
        "## Read older versions of data using Time Travel\n",
        "\n",
        "You can query previous snapshots of your Delta Lake table by using a feature called Time Travel. If you want to access the data that you overwrote, you can query a snapshot of the table before you overwrote the first set of data using the versionAsOf option.\n",
        "\n",
        "Once you run the cell below, you should see the first set of data, from before you overwrote it. Time Travel is an extremely powerful feature that takes advantage of the power of the Delta Lake transaction log to access data that is no longer in the table. Removing the version 0 option (or specifying version 1) would let you see the newer data again. For more information, see [Query an older snapshot of a table (time travel)](https://docs.delta.io/latest/delta-batch.html#deltatimetravel)."
      ],
      "attachments": {}
    },
    {
      "cell_type": "code",
      "execution_count": 15,
      "outputs": [
        {
          "output_type": "execute_result",
          "execution_count": 15,
          "data": {
            "text/plain": "+---+\n| id|\n+---+\n|  2|\n|  3|\n|  4|\n|  0|\n|  1|\n+---+"
          },
          "metadata": {}
        }
      ],
      "metadata": {},
      "source": [
        "df = spark.read.format(\"delta\").option(\"versionAsOf\", 0).load(delta_table_path)\n",
        "df.show()"
      ],
      "attachments": {}
    },
    {
      "cell_type": "markdown",
      "metadata": {},
      "source": [
        "## Write a stream of data to a table\n",
        "\n",
        "You can also write to a Delta Lake table using Spark's Structured Streaming. The Delta Lake transaction log guarantees exactly-once processing, even when there are other streams or batch queries running concurrently against the table. By default, streams run in append mode, which adds new records to the table.\n",
        "\n",
        "For more information about Delta Lake integration with Structured Streaming, see [Table Streaming Reads and Writes](https://docs.delta.io/latest/delta-streaming.html).\n",
        "\n",
        "In the cells below, here's what we are doing:\n",
        "\n",
        "1. *Cell 28* Setup a simple Spark Structured Streaming job to generate a sequence and make the job write into our Delta Table\n",
        "2. *Cell 30* Show the newly appended data\n",
        "3. *Cell 31* Inspect history\n",
        "4. *Cell 32* Stop the structured streaming job\n",
        "5. *Cell 33* Inspect history <-- You'll notice appends have stopped"
      ],
      "attachments": {}
    },
    {
      "cell_type": "code",
      "execution_count": 16,
      "outputs": [],
      "metadata": {},
      "source": [
        "streaming_df = spark.readStream.format(\"rate\").load()\n",
        "stream = streaming_df\\\n",
        "    .selectExpr(\"value as id\")\\\n",
        "    .writeStream\\\n",
        "    .format(\"delta\")\\\n",
        "    .option(\"checkpointLocation\", \"/tmp/checkpoint-{0}\".format(session_id))\\\n",
        "    .start(delta_table_path)"
      ],
      "attachments": {}
    },
    {
      "cell_type": "markdown",
      "metadata": {},
      "source": [
        "## Read a stream of changes from a table\n",
        "\n",
        "While the stream is writing to the Delta Lake table, you can also read from that table as streaming source. For example, you can start another streaming query that prints all the changes made to the Delta Lake table."
      ],
      "attachments": {}
    },
    {
      "cell_type": "code",
      "execution_count": 17,
      "outputs": [
        {
          "output_type": "execute_result",
          "execution_count": 17,
          "data": {
            "text/plain": "+---+\n| id|\n+---+\n| 19|\n| 18|\n| 17|\n| 16|\n| 15|\n| 14|\n| 13|\n| 12|\n| 11|\n| 10|\n|  8|\n|  6|\n|  4|\n|  3|\n|  2|\n|  1|\n|  0|\n| -1|\n| -1|\n| -1|\n+---+"
          },
          "metadata": {}
        }
      ],
      "metadata": {},
      "source": [
        "delta_table.toDF().sort(col(\"id\").desc()).show(100)"
      ],
      "attachments": {}
    },
    {
      "cell_type": "code",
      "execution_count": 18,
      "outputs": [
        {
          "output_type": "execute_result",
          "execution_count": 18,
          "data": {
            "text/plain": "+-------+-------------------+----------------+-------------------------------------------------------------------------------------+-----------+--------------------------------------------------------------------------------------------------------------------------------------------------------------------------------------------------------------+\n|version|          timestamp|       operation|                                                                  operationParameters|readVersion|                                                                                                                                                                                              operationMetrics|\n+-------+-------------------+----------------+-------------------------------------------------------------------------------------+-----------+--------------------------------------------------------------------------------------------------------------------------------------------------------------------------------------------------------------+\n|      5|2020-11-09 02:11:06|STREAMING UPDATE|[outputMode -> Append, queryId -> 3633eedb-fb8f-4f35-928e-3b23fcde7c55, epochId -> 0]|          4|                                                                                                                         [numRemovedFiles -> 0, numOutputRows -> 1, numOutputBytes -> 429, numAddedFiles -> 1]|\n|      4|2020-11-09 02:10:36|           MERGE|                                         [predicate -> (oldData.`id` = newData.`id`)]|          3|[numTargetRowsCopied -> 0, numTargetRowsDeleted -> 0, numTargetFilesAdded -> 21, numTargetRowsInserted -> 17, numTargetRowsUpdated -> 3, numOutputRows -> 20, numSourceRows -> 20, numTargetFilesRemoved -> 3]|\n|      3|2020-11-09 02:10:24|          DELETE|                  [predicate -> [\"((`id` % CAST(2 AS BIGINT)) = CAST(0 AS BIGINT))\"]]|          2|                                                                                                                           [numRemovedFiles -> 2, numDeletedRows -> 2, numAddedFiles -> 1, numCopiedRows -> 0]|\n|      2|2020-11-09 02:10:14|          UPDATE|                   [predicate -> ((id#505L % cast(2 as bigint)) = cast(0 as bigint))]|          1|                                                                                                                           [numRemovedFiles -> 2, numAddedFiles -> 2, numUpdatedRows -> 2, numCopiedRows -> 0]|\n|      1|2020-11-09 02:09:40|           WRITE|                                               [mode -> Overwrite, partitionBy -> []]|          0|                                                                                                                                                   [numFiles -> 6, numOutputBytes -> 2407, numOutputRows -> 5]|\n|      0|2020-11-09 02:09:10|           WRITE|                                           [mode -> ErrorIfExists, partitionBy -> []]|       null|                                                                                                                                                    [numFiles -> 2, numOutputBytes -> 879, numOutputRows -> 5]|\n+-------+-------------------+----------------+-------------------------------------------------------------------------------------+-----------+--------------------------------------------------------------------------------------------------------------------------------------------------------------------------------------------------------------+"
          },
          "metadata": {}
        }
      ],
      "metadata": {},
      "source": [
        "delta_table.history().drop(\"userId\", \"userName\", \"job\", \"notebook\", \"clusterId\", \"isolationLevel\", \"isBlindAppend\").show(20, 1000, False)"
      ],
      "attachments": {}
    },
    {
      "cell_type": "code",
      "execution_count": 19,
      "outputs": [],
      "metadata": {},
      "source": [
        "stream.stop()"
      ],
      "attachments": {}
    },
    {
      "cell_type": "code",
      "execution_count": 20,
      "outputs": [
        {
          "output_type": "execute_result",
          "execution_count": 20,
          "data": {
            "text/plain": "+-------+-------------------+----------------+-------------------------------------------------------------------------------------+-----------+--------------------------------------------------------------------------------------------------------------------------------------------------------------------------------------------------------------+\n|version|          timestamp|       operation|                                                                  operationParameters|readVersion|                                                                                                                                                                                              operationMetrics|\n+-------+-------------------+----------------+-------------------------------------------------------------------------------------+-----------+--------------------------------------------------------------------------------------------------------------------------------------------------------------------------------------------------------------+\n|      5|2020-11-09 02:11:06|STREAMING UPDATE|[outputMode -> Append, queryId -> 3633eedb-fb8f-4f35-928e-3b23fcde7c55, epochId -> 0]|          4|                                                                                                                         [numRemovedFiles -> 0, numOutputRows -> 1, numOutputBytes -> 429, numAddedFiles -> 1]|\n|      4|2020-11-09 02:10:36|           MERGE|                                         [predicate -> (oldData.`id` = newData.`id`)]|          3|[numTargetRowsCopied -> 0, numTargetRowsDeleted -> 0, numTargetFilesAdded -> 21, numTargetRowsInserted -> 17, numTargetRowsUpdated -> 3, numOutputRows -> 20, numSourceRows -> 20, numTargetFilesRemoved -> 3]|\n|      3|2020-11-09 02:10:24|          DELETE|                  [predicate -> [\"((`id` % CAST(2 AS BIGINT)) = CAST(0 AS BIGINT))\"]]|          2|                                                                                                                           [numRemovedFiles -> 2, numDeletedRows -> 2, numAddedFiles -> 1, numCopiedRows -> 0]|\n|      2|2020-11-09 02:10:14|          UPDATE|                   [predicate -> ((id#505L % cast(2 as bigint)) = cast(0 as bigint))]|          1|                                                                                                                           [numRemovedFiles -> 2, numAddedFiles -> 2, numUpdatedRows -> 2, numCopiedRows -> 0]|\n|      1|2020-11-09 02:09:40|           WRITE|                                               [mode -> Overwrite, partitionBy -> []]|          0|                                                                                                                                                   [numFiles -> 6, numOutputBytes -> 2407, numOutputRows -> 5]|\n|      0|2020-11-09 02:09:10|           WRITE|                                           [mode -> ErrorIfExists, partitionBy -> []]|       null|                                                                                                                                                    [numFiles -> 2, numOutputBytes -> 879, numOutputRows -> 5]|\n+-------+-------------------+----------------+-------------------------------------------------------------------------------------+-----------+--------------------------------------------------------------------------------------------------------------------------------------------------------------------------------------------------------------+"
          },
          "metadata": {}
        }
      ],
      "metadata": {},
      "source": [
        "delta_table.history().drop(\"userId\", \"userName\", \"job\", \"notebook\", \"clusterId\", \"isolationLevel\", \"isBlindAppend\").show(100, 1000, False)"
      ],
      "attachments": {}
    },
    {
      "cell_type": "markdown",
      "metadata": {},
      "source": [
        "## Compaction\n",
        "\n",
        "If a Delta Table is growing too large, you can compact it by repartitioning into a smaller number of files.\n",
        "\n",
        "The option `dataChange = false` is an optimization that tells Delta Lake to do the repartition without marking the underlying data as \"modified\". This ensures that any other concurrent operations (such as streaming reads/writes) aren't negatively impacted.\n",
        ""
      ],
      "attachments": {}
    },
    {
      "cell_type": "code",
      "execution_count": 21,
      "outputs": [],
      "metadata": {},
      "source": [
        "partition_count = 2\n",
        "\n",
        "spark.read\\\n",
        "    .format(\"delta\")\\\n",
        "    .load(delta_table_path)\\\n",
        "    .repartition(partition_count)\\\n",
        "    .write.option(\"dataChange\", \"false\")\\\n",
        "    .format(\"delta\")\\\n",
        "    .mode(\"overwrite\")\\\n",
        "    .save(delta_table_path)    "
      ],
      "attachments": {}
    },
    {
      "cell_type": "markdown",
      "metadata": {},
      "source": [
        "## Convert Parquet to Delta\n",
        "You can do an in-place conversion from the Parquet format to Delta."
      ],
      "attachments": {}
    },
    {
      "cell_type": "code",
      "execution_count": 22,
      "outputs": [
        {
          "output_type": "execute_result",
          "execution_count": 22,
          "data": {
            "text/plain": "False"
          },
          "metadata": {}
        }
      ],
      "metadata": {},
      "source": [
        "parquet_path = \"/parquet/parquet-table-{0}\".format(session_id)\n",
        "\n",
        "data = spark.range(0,5)\n",
        "data.write.parquet(parquet_path)\n",
        "\n",
        "# Confirm that the data isn't in the Delta format\n",
        "DeltaTable.isDeltaTable(spark, parquet_path)"
      ],
      "attachments": {}
    },
    {
      "cell_type": "code",
      "execution_count": 23,
      "outputs": [
        {
          "output_type": "execute_result",
          "execution_count": 23,
          "data": {
            "text/plain": "True"
          },
          "metadata": {}
        }
      ],
      "metadata": {},
      "source": [
        "DeltaTable.convertToDelta(spark, \"parquet.`{0}`\".format(parquet_path))\n",
        "\n",
        "# Confirm that the converted data is now in the Delta format\n",
        "DeltaTable.isDeltaTable(spark, parquet_path)"
      ],
      "attachments": {}
    },
    {
      "cell_type": "markdown",
      "metadata": {},
      "source": [
        "## SQL Support\n",
        "Delta supports table utility commands through SQL.  You can use SQL to:\n",
        "* Get a DeltaTable's history\n",
        "* Vacuum a DeltaTable\n",
        "* Convert a Parquet file to Delta\n",
        ""
      ],
      "attachments": {}
    },
    {
      "cell_type": "code",
      "execution_count": 24,
      "outputs": [
        {
          "output_type": "execute_result",
          "execution_count": 24,
          "data": {
            "text/plain": "+-------+-------------------+------+--------+----------------+--------------------+----+--------+---------+-----------+--------------+-------------+--------------------+\n|version|          timestamp|userId|userName|       operation| operationParameters| job|notebook|clusterId|readVersion|isolationLevel|isBlindAppend|    operationMetrics|\n+-------+-------------------+------+--------+----------------+--------------------+----+--------+---------+-----------+--------------+-------------+--------------------+\n|      6|2020-11-09 02:11:23|  null|    null|           WRITE|[mode -> Overwrit...|null|    null|     null|          5|          null|        false|[numFiles -> 2, n...|\n|      5|2020-11-09 02:11:06|  null|    null|STREAMING UPDATE|[outputMode -> Ap...|null|    null|     null|          4|          null|         true|[numRemovedFiles ...|\n|      4|2020-11-09 02:10:36|  null|    null|           MERGE|[predicate -> (ol...|null|    null|     null|          3|          null|        false|[numTargetRowsCop...|\n|      3|2020-11-09 02:10:24|  null|    null|          DELETE|[predicate -> [\"(...|null|    null|     null|          2|          null|        false|[numRemovedFiles ...|\n|      2|2020-11-09 02:10:14|  null|    null|          UPDATE|[predicate -> ((i...|null|    null|     null|          1|          null|        false|[numRemovedFiles ...|\n|      1|2020-11-09 02:09:40|  null|    null|           WRITE|[mode -> Overwrit...|null|    null|     null|          0|          null|        false|[numFiles -> 6, n...|\n|      0|2020-11-09 02:09:10|  null|    null|           WRITE|[mode -> ErrorIfE...|null|    null|     null|       null|          null|         true|[numFiles -> 2, n...|\n+-------+-------------------+------+--------+----------------+--------------------+----+--------+---------+-----------+--------------+-------------+--------------------+"
          },
          "metadata": {}
        }
      ],
      "metadata": {},
      "source": [
        "spark.sql(\"DESCRIBE HISTORY delta.`{0}`\".format(delta_table_path)).show()"
      ],
      "attachments": {}
    },
    {
      "cell_type": "code",
      "execution_count": 25,
      "outputs": [
        {
          "output_type": "execute_result",
          "execution_count": 25,
          "data": {
            "text/plain": "+--------------------+\n|                path|\n+--------------------+\n|abfss://data@arca...|\n+--------------------+"
          },
          "metadata": {}
        }
      ],
      "metadata": {},
      "source": [
        "spark.sql(\"VACUUM delta.`{0}`\".format(delta_table_path)).show()"
      ],
      "attachments": {}
    },
    {
      "cell_type": "code",
      "execution_count": 26,
      "outputs": [
        {
          "output_type": "execute_result",
          "execution_count": 26,
          "data": {
            "text/plain": "True"
          },
          "metadata": {}
        }
      ],
      "metadata": {},
      "source": [
        "parquet_id = random.randint(0,1000)\n",
        "parquet_path = \"/parquet/parquet-table-{0}-{1}\".format(session_id, parquet_path)\n",
        "\n",
        "data = spark.range(0,5)\n",
        "data.write.parquet(parquet_path)\n",
        "\n",
        "# Confirm that the data isn't in the Delta format\n",
        "DeltaTable.isDeltaTable(spark, parquet_path)\n",
        "\n",
        "# Use SQL to convert the parquet table to Delta\n",
        "spark.sql(\"CONVERT TO DELTA parquet.`{0}`\".format(parquet_path))\n",
        "\n",
        "DeltaTable.isDeltaTable(spark, parquet_path)"
      ],
      "attachments": {}
    }
  ]
}