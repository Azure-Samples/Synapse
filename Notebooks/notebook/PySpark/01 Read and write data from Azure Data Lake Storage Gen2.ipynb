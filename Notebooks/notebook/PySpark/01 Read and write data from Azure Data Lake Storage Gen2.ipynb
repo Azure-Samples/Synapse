{
  "metadata": {
    "saveOutput": true,
    "language_info": {
      "name": "python"
    }
  },
  "nbformat": 4,
  "nbformat_minor": 2,
  "cells": [
    {
      "cell_type": "markdown",
      "metadata": {},
      "source": [
        "# Access data on Azure Data Lake Storage Gen2 (ADLS Gen2) with Synapse Spark\n",
        "\n",
        "Azure Data Lake Storage Gen2 (ADLS Gen2) is used as the storage account associated with a Synapse workspace. A synapse workspace can have a default ADLS Gen2 storage account and additional linked storage accounts. \n",
        "\n",
        "You can access data on ADLS Gen2 with Synapse Spark via following URL:\n",
        "    \n",
        "    abfss://<container_name>@<storage_account_name>.dfs.core.windows.net/<path>\n",
        "\n",
        "This notebook provides examples of how to read data from ADLS Gen2 account into a Spark context and how to write the output of Spark jobs directly into an ADLS Gen2 location.\n",
        "\n",
        "## Pre-requisites\n",
        "Synapse leverage AAD pass-through to access any ADLS Gen2 account (or folder) to which you have a **Blob Storage Contributor** permission. No credentials or access token is required. "
      ],
      "attachments": {}
    },
    {
      "cell_type": "markdown",
      "metadata": {},
      "source": [
        "## Load a sample data\n",
        "\n",
        "Let's first load the [public holidays](https://azure.microsoft.com/en-us/services/open-datasets/catalog/public-holidays/) of last 6 months from Azure Open datasets as a sample."
      ],
      "attachments": {}
    },
    {
      "cell_type": "code",
      "execution_count": 3,
      "outputs": [],
      "metadata": {},
      "source": [
        "from azureml.opendatasets import PublicHolidays\n",
        "\n",
        "from datetime import datetime\n",
        "from dateutil import parser\n",
        "from dateutil.relativedelta import relativedelta\n",
        "\n",
        "\n",
        "end_date = datetime.today()\n",
        "start_date = datetime.today() - relativedelta(months=6)\n",
        "hol = PublicHolidays(start_date=start_date, end_date=end_date)\n",
        "hol_df = hol.to_spark_dataframe()"
      ],
      "attachments": {}
    },
    {
      "cell_type": "code",
      "execution_count": 4,
      "outputs": [
        {
          "output_type": "execute_result",
          "data": {
            "text/plain": "+---------------+-------------------------+-------------------------+-------------+-----------------+-------------------+\n|countryOrRegion|holidayName              |normalizeHolidayName     |isPaidTimeOff|countryRegionCode|date               |\n+---------------+-------------------------+-------------------------+-------------+-----------------+-------------------+\n|Czech          |Den české státnosti      |Den české státnosti      |null         |CZ               |2019-09-28 00:00:00|\n|Norway         |Søndag                   |Søndag                   |null         |NO               |2019-09-29 00:00:00|\n|Sweden         |Söndag                   |Söndag                   |null         |SE               |2019-09-29 00:00:00|\n|India          |Gandhi Jayanti           |Gandhi Jayanti           |true         |IN               |2019-10-02 00:00:00|\n|Germany        |Tag der Deutschen Einheit|Tag der Deutschen Einheit|null         |DE               |2019-10-03 00:00:00|\n+---------------+-------------------------+-------------------------+-------------+-----------------+-------------------+\nonly showing top 5 rows"
          },
          "execution_count": 4,
          "metadata": {}
        }
      ],
      "metadata": {},
      "source": [
        "# Display 5 rows\n",
        "hol_df.show(5, truncate = False)"
      ],
      "attachments": {}
    },
    {
      "cell_type": "markdown",
      "metadata": {},
      "source": [
        "## Write data to the default ADLS Gen2 storage\n",
        "\n",
        "We are going to write the spark dateframe to your default ADLS Gen2 storage account.\n",
        ""
      ],
      "attachments": {}
    },
    {
      "cell_type": "code",
      "execution_count": 6,
      "outputs": [
        {
          "output_type": "execute_result",
          "data": {
            "text/plain": "Primary storage account path: abfss://data@samplenbadlsgen2eastus.dfs.core.windows.net/samplenb/"
          },
          "execution_count": 6,
          "metadata": {}
        }
      ],
      "metadata": {},
      "source": [
        "from pyspark.sql import SparkSession\n",
        "from pyspark.sql.types import *\n",
        "\n",
        "# Primary storage info\n",
        "account_name = 'Your primary storage account name' # fill in your primary account name\n",
        "container_name = 'Your container name' # fill in your container name\n",
        "relative_path = 'Your relative path' # fill in your relative folder path\n",
        "\n",
        "adls_path = 'abfss://%s@%s.dfs.core.windows.net/%s' % (container_name, account_name, relative_path)\n",
        "print('Primary storage account path: ' + adls_path)"
      ],
      "attachments": {}
    },
    {
      "cell_type": "markdown",
      "metadata": {},
      "source": [
        "### Save a dataframe as Parquet, JSON or CSV\n",
        "If you have a dataframe, you can save it to Parquet or JSON with the .write.parquet(), .write.json() and .write.csv() methods respectively.\n",
        "\n",
        "Dataframes can be saved in any format, regardless of the input format.\n",
        ""
      ],
      "attachments": {}
    },
    {
      "cell_type": "code",
      "execution_count": 7,
      "outputs": [
        {
          "output_type": "execute_result",
          "data": {
            "text/plain": "parquet file path: abfss://data@samplenbadlsgen2eastus.dfs.core.windows.net/samplenb/holiday.parquet\njson file path： abfss://data@samplenbadlsgen2eastus.dfs.core.windows.net/samplenb/holiday.json\ncsv file path: abfss://data@samplenbadlsgen2eastus.dfs.core.windows.net/samplenb/holiday.csv"
          },
          "execution_count": 7,
          "metadata": {}
        }
      ],
      "metadata": {},
      "source": [
        "parquet_path = adls_path + 'holiday.parquet'\n",
        "json_path = adls_path + 'holiday.json'\n",
        "csv_path = adls_path + 'holiday.csv'\n",
        "print('parquet file path: ' + parquet_path)\n",
        "print('json file path： ' + json_path)\n",
        "print('csv file path: ' + csv_path)"
      ],
      "attachments": {}
    },
    {
      "cell_type": "code",
      "execution_count": 10,
      "outputs": [],
      "metadata": {},
      "source": [
        "hol_df.write.parquet(parquet_path, mode = 'overwrite')\n",
        "hol_df.write.json(json_path, mode = 'overwrite')\n",
        "hol_df.write.csv(csv_path, mode = 'overwrite', header = 'true')"
      ],
      "attachments": {}
    },
    {
      "cell_type": "markdown",
      "metadata": {},
      "source": [
        "### Save a dataframe as text files\n",
        "If you have a dataframe that you want ot save as text file, you must first covert it to an RDD and then save that RDD as a text file.\n",
        ""
      ],
      "attachments": {}
    },
    {
      "cell_type": "code",
      "execution_count": 11,
      "outputs": [
        {
          "output_type": "execute_result",
          "data": {
            "text/plain": "text file path: abfss://data@samplenbadlsgen2eastus.dfs.core.windows.net/samplenb/holiday.txt"
          },
          "execution_count": 11,
          "metadata": {}
        }
      ],
      "metadata": {},
      "source": [
        "# Define the text file path\n",
        "text_path = adls_path + 'holiday.txt'\n",
        "print('text file path: ' + text_path)"
      ],
      "attachments": {}
    },
    {
      "cell_type": "code",
      "execution_count": 12,
      "outputs": [
        {
          "output_type": "execute_result",
          "data": {
            "text/plain": "<class 'pyspark.rdd.RDD'>"
          },
          "execution_count": 12,
          "metadata": {}
        }
      ],
      "metadata": {},
      "source": [
        "# Covert spark dataframe into RDD \n",
        "hol_RDD = hol_df.rdd\n",
        "type(hol_RDD)"
      ],
      "attachments": {}
    },
    {
      "cell_type": "markdown",
      "metadata": {},
      "source": [
        "If you have an RDD, you can convert it to a text file like the following:\n",
        ""
      ],
      "attachments": {}
    },
    {
      "cell_type": "code",
      "execution_count": 13,
      "outputs": [],
      "metadata": {},
      "source": [
        " # Save RDD as text file\n",
        "hol_RDD.saveAsTextFile(text_path)"
      ],
      "attachments": {}
    },
    {
      "cell_type": "markdown",
      "metadata": {},
      "source": [
        "# Read data from the default ADLS Gen2 storage\n",
        ""
      ],
      "attachments": {}
    },
    {
      "cell_type": "markdown",
      "metadata": {},
      "source": [
        "### Create a dataframe from parquet files\n",
        ""
      ],
      "attachments": {}
    },
    {
      "cell_type": "code",
      "execution_count": 14,
      "outputs": [],
      "metadata": {},
      "source": [
        "df_parquet = spark.read.parquet(parquet_path)"
      ],
      "attachments": {}
    },
    {
      "cell_type": "markdown",
      "metadata": {},
      "source": [
        "### Create a dataframe from JSON files\n",
        ""
      ],
      "attachments": {}
    },
    {
      "cell_type": "code",
      "execution_count": 15,
      "outputs": [],
      "metadata": {},
      "source": [
        "df_json = spark.read.json(json_path)"
      ],
      "attachments": {}
    },
    {
      "cell_type": "markdown",
      "metadata": {},
      "source": [
        "### Create a dataframe from CSV files\n",
        ""
      ],
      "attachments": {}
    },
    {
      "cell_type": "code",
      "execution_count": 16,
      "outputs": [],
      "metadata": {},
      "source": [
        "df_csv = spark.read.csv(csv_path, header = 'true')"
      ],
      "attachments": {}
    },
    {
      "cell_type": "markdown",
      "metadata": {},
      "source": [
        "### Create an RDD from text file\n",
        ""
      ],
      "attachments": {}
    },
    {
      "cell_type": "code",
      "execution_count": 17,
      "outputs": [],
      "metadata": {},
      "source": [
        "text = sc.textFile(text_path)"
      ],
      "attachments": {}
    }
  ]
}