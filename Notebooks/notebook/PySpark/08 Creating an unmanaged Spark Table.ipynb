{
  "metadata": {
    "saveOutput": true,
    "language_info": {
      "name": "python"
    }
  },
  "nbformat": 4,
  "nbformat_minor": 2,
  "cells": [
    {
      "cell_type": "markdown",
      "metadata": {},
      "source": [
        "# Creating an unmanaged (external) Spark table\n",
        "This notebook describes how to create an unmanaged (also known as external) table from Spark. \n",
        "The table is created in /datalake/cities which may exist already (so you can attach to existing data) it can be created when you insert data."
      ],
      "attachments": {}
    },
    {
      "cell_type": "code",
      "execution_count": 4,
      "outputs": [
        {
          "output_type": "execute_result",
          "execution_count": 4,
          "data": {
            "text/plain": "DataFrame[]"
          },
          "metadata": {}
        }
      ],
      "metadata": {},
      "source": [
        "spark.sql(\"CREATE TABLE cities (name STRING, population INT) USING PARQUET  LOCATION \\'/datalake/cities\\' OPTIONS (\\'compression\\'=\\'snappy\\')\")"
      ],
      "attachments": {}
    },
    {
      "cell_type": "markdown",
      "metadata": {},
      "source": [
        "Insert a few rows into the table using a list of values.\n",
        ""
      ],
      "attachments": {}
    },
    {
      "cell_type": "code",
      "execution_count": 5,
      "outputs": [
        {
          "output_type": "execute_result",
          "execution_count": 5,
          "data": {
            "text/plain": "DataFrame[]"
          },
          "metadata": {}
        }
      ],
      "metadata": {},
      "source": [
        "spark.sql(\"INSERT INTO cities VALUES (\\'Seattle\\', 730400), (\\'San Francisco\\', 881549), (\\'Beijing\\', 21540000), (\\'Bangalore\\', 10540000)\")"
      ],
      "attachments": {}
    },
    {
      "cell_type": "markdown",
      "metadata": {},
      "source": [
        "* Retrieve values back. Click on 'Chart' below to review the visualization.\n",
        ""
      ],
      "attachments": {}
    },
    {
      "cell_type": "code",
      "execution_count": 6,
      "outputs": [
        {
          "output_type": "execute_result",
          "execution_count": 6,
          "data": {
            "application/json": {
              "table": {
                "rows": [
                  {
                    "name": "Bangalore",
                    "population": 10540000
                  },
                  {
                    "name": "Bangalore",
                    "population": 10540000
                  },
                  {
                    "name": "Beijing",
                    "population": 21540000
                  },
                  {
                    "name": "Beijing",
                    "population": 21540000
                  },
                  {
                    "name": "San Francisco",
                    "population": 881549
                  },
                  {
                    "name": "San Francisco",
                    "population": 881549
                  },
                  {
                    "name": "Seattle",
                    "population": 730400
                  },
                  {
                    "name": "Seattle",
                    "population": 730400
                  }
                ],
                "schema": {
                  "name": "string",
                  "population": "int"
                }
              },
              "isSummary": false,
              "language": "scala"
            }
          },
          "metadata": {}
        }
      ],
      "metadata": {
        "diagram": {
          "activateDiagramType": 1,
          "chartConfig": {
            "category": "bar",
            "keys": [
              "name"
            ],
            "values": [
              "population"
            ],
            "yLabel": "population",
            "xLabel": "name",
            "aggregation": "SUM",
            "aggByBackend": false
          },
          "aggData": "{\"population\":{\"Bangalore\":21080000,\"Beijing\":43080000,\"San Francisco\":1763098,\"Seattle\":1460800}}",
          "isSummary": false,
          "previewData": {
            "filter": null
          },
          "isSql": false
        }
      },
      "source": [
        "display(spark.sql(\"SELECT * FROM cities ORDER BY name\"))"
      ],
      "attachments": {}
    },
    {
      "cell_type": "markdown",
      "metadata": {},
      "source": [
        "Drop the table. Please note the data will remain in the data lake.\n",
        ""
      ],
      "attachments": {}
    },
    {
      "cell_type": "code",
      "execution_count": 7,
      "outputs": [
        {
          "output_type": "execute_result",
          "execution_count": 7,
          "data": {
            "text/plain": "DataFrame[]"
          },
          "metadata": {}
        }
      ],
      "metadata": {},
      "source": [
        "spark.sql(\"DROP TABLE cities\")"
      ],
      "attachments": {}
    }
  ]
}