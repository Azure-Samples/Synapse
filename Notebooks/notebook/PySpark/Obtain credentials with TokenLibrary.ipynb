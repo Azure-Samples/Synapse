{
  "metadata": {
    "saveOutput": true,
    "language_info": {
      "name": "python"
    }
  },
  "nbformat": 4,
  "nbformat_minor": 2,
  "cells": [
    {
      "cell_type": "code",
      "execution_count": null,
      "outputs": [],
      "metadata": {},
      "source": [
        "# By default Synapse uses AAD passthrough for authentication\n",
        "# However, Linked services can be used for storing and retreiving credentials (e.g, account key)\n",
        "# Example connection string (for storage): \"DefaultEndpointsProtocol=https;AccountName=<accountname>;AccountKey=<accountkey>\"\n",
        "\n",
        "from pyspark.sql import SparkSession\n",
        "\n",
        "sc = SparkSession.builder.getOrCreate()\n",
        "token_library = sc._jvm.com.microsoft.azure.synapse.tokenlibrary.TokenLibrary\n",
        "connection_string = token_library.getConnectionString(\"<linkedServiceName>\")\n",
        "account_key = token_library.getConnectionStringAsMap(\"<linkedServiceName>\").get(\"AccountKey\")"
      ],
      "attachments": {}
    }
  ]
}
