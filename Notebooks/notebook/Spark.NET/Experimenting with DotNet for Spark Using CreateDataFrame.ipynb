{
  "metadata": {
    "saveOutput": true,
    "language_info": {
      "name": "csharp"
    }
  },
  "nbformat": 4,
  "nbformat_minor": 2,
  "cells": [
    {
      "cell_type": "markdown",
      "metadata": {},
      "source": [
        "# Experimenting with .NET for Apache Spark Using the CreateDataFrame API\n",
        "\n",
        "A Spark DataFrame is a distributed collection of data organized into named columns that provides operations to filter, group, or compute aggregates, and can be used with Spark SQL. It is conceptually equivalent to a table in a relational database or a data frame in R/Python, but with richer optimizations under the hood. \n",
        "\n",
        "DataFrames can be constructed from structured data files, existing RDDs, tables in Hive, or external databases.\n",
        "Another way of creating Spark Dataframes is by using the `CreateDataFrame` API that takes in data in the form of List of Row objects along with the schema and returns a `DataFrame` object. Let's look at a simple example below:\n",
        ""
      ],
      "attachments": {}
    },
    {
      "cell_type": "code",
      "execution_count": 5,
      "outputs": [
        {
          "output_type": "execute_result",
          "data": {
            "text/plain": "+-----+---+\n| Name|Age|\n+-----+---+\n|Alice| 20|\n|  Bob| 30|\n+-----+---+"
          },
          "execution_count": 5,
          "metadata": {}
        }
      ],
      "metadata": {},
      "source": [
        "using Microsoft.Spark.Sql.Types;\n",
        "\n",
        "// List of GenericRow objects that contain the data for each row of the DataFrame\n",
        "var data = new List<GenericRow>();\n",
        "data.Add(new GenericRow(new object[] { \"Alice\", 20 }));\n",
        "data.Add(new GenericRow(new object[] { \"Bob\", 30}));\n",
        "\n",
        "// Schema of the DataFrame\n",
        "var schema = new StructType(new List<StructField>()\n",
        "{\n",
        "    new StructField(\"Name\", new StringType()),\n",
        "    new StructField(\"Age\", new IntegerType())\n",
        "});\n",
        "\n",
        "// Calling CreateDataFrame with the data and schema\n",
        "DataFrame df = spark.CreateDataFrame(data, schema);\n",
        "\n",
        "// Displaying the returned dataframe\n",
        "df.Show();"
      ],
      "attachments": {}
    },
    {
      "cell_type": "markdown",
      "metadata": {},
      "source": [
        "## A more real-life example\n",
        "\n",
        "Now let's take a look at a more complex example closer to a real-life use case.\n",
        ""
      ],
      "attachments": {}
    },
    {
      "cell_type": "code",
      "execution_count": 3,
      "outputs": [
        {
          "output_type": "execute_result",
          "data": {
            "text/plain": "+------+--------------------+------+--------------------+-------+--------------------+--------------------+\n|    Id|                Time|Market|          Searchtext|Latency|               Links|        Clickedlinks|\n+------+--------------------+------+--------------------+-------+--------------------+--------------------+\n|399266|2019-10-15T11:53:04Z| en-us|  how to make nachos|     73|www.nachos.com;ww...|                NULL|\n|382045|2019-10-15T11:53:25Z| en-gb|    best ski resorts|    614|skiresorts.com;sk...|ski-europe.com;ww...|\n|382045|2019-10-16T11:53:42Z| en-gb|          broken leg|     74|mayoclinic.com/he...|mayoclinic.com/he...|\n|106479|2019-10-16T11:53:10Z| en-ca| south park episodes|     24|southparkstudios....|southparkstudios.com|\n|906441|2019-10-16T11:54:18Z| en-us|              cosmos|   1213|cosmos.com;wikipe...|                NULL|\n|351530|2019-10-16T11:54:29Z| en-fr|           microsoft|    241|microsoft.com;wik...|                NULL|\n|640806|2019-10-16T11:54:32Z| en-us| wireless headphones|    502|www.amazon.com;re...|www.amazon.com;st...|\n|304305|2019-10-16T11:54:45Z| en-us|       dominos pizza|     60|dominos.com;wikip...|         dominos.com|\n|460748|2019-10-16T11:54:58Z| en-us|                yelp|   1270|yelp.com;apple.co...|            yelp.com|\n|354841|2019-10-16T11:59:00Z| en-us|          how to run|    610|running.about.com...|running.about.com...|\n|354068|2019-10-16T12:00:07Z| en-mx|         what is sql|    422|wikipedia.org/wik...|wikipedia.org/wik...|\n|674364|2019-10-16T12:00:21Z| en-us|mexican food redmond|    283|eltoreador.com;ye...|                NULL|\n|347413|2019-10-16T12:11:34Z| en-gr|           microsoft|    305|microsoft.com;wik...|                NULL|\n|848434|2019-10-16T12:12:14Z| en-ch|            facebook|     10|facebook.com;face...|        facebook.com|\n|604846|2019-10-16T12:13:18Z| en-us|           wikipedia|    612|wikipedia.org;en....|       wikipedia.org|\n|840614|2019-10-16T12:13:41Z| en-us|                xbox|   1220|xbox.com;en.wikip...|    xbox.com/xbox360|\n|656666|2019-10-16T12:15:19Z| en-us|             hotmail|    691|hotmail.com;login...|                NULL|\n|951513|2019-10-16T12:17:37Z| en-us|             pokemon|     63|pokemon.com;pokem...|         pokemon.com|\n|350350|2019-10-16T12:18:17Z| en-us|             wolfram|     30|wolframalpha.com;...|                NULL|\n|641615|2019-10-16T12:19:21Z| en-us|                kahn|    119|khanacademy.org;e...|     khanacademy.org|\n+------+--------------------+------+--------------------+-------+--------------------+--------------------+\nonly showing top 20 rows"
          },
          "execution_count": 3,
          "metadata": {}
        }
      ],
      "metadata": {},
      "source": [
        "using Microsoft.Spark.Sql.Types;\n",
        "\n",
        "// Data as list of Rows\n",
        "var searchlogData = new List<GenericRow>();\n",
        "searchlogData.Add(new GenericRow(new object[] {399266 , \"2019-10-15T11:53:04Z\" , \"en-us\" , \"how to make nachos\" , 73 , \"www.nachos.com;www.wikipedia.com\" , \"NULL\"})); \n",
        "searchlogData.Add(new GenericRow(new object[] {382045 , \"2019-10-15T11:53:25Z\" , \"en-gb\" , \"best ski resorts\" , 614 , \"skiresorts.com;ski-europe.com;www.travelersdigest.com/ski_resorts.htm\" , \"ski-europe.com;www.travelersdigest.com/ski_resorts.htm\"})); \n",
        "searchlogData.Add(new GenericRow(new object[] {382045 , \"2019-10-16T11:53:42Z\" , \"en-gb\" , \"broken leg\" , 74 , \"mayoclinic.com/health;webmd.com/a-to-z-guides;mybrokenleg.com;wikipedia.com/Bone_fracture\" , \"mayoclinic.com/health;webmd.com/a-to-z-guides;mybrokenleg.com;wikipedia.com/Bone_fracture\"}));\n",
        "searchlogData.Add(new GenericRow(new object[] {106479 , \"2019-10-16T11:53:10Z\" , \"en-ca\" , \"south park episodes\" , 24 , \"southparkstudios.com;wikipedia.org/wiki/Sout_Park;imdb.com/title/tt0121955;simon.com/mall\" , \"southparkstudios.com\"}));\n",
        "searchlogData.Add(new GenericRow(new object[] {906441 , \"2019-10-16T11:54:18Z\" , \"en-us\" , \"cosmos\" , 1213 , \"cosmos.com;wikipedia.org/wiki/Cosmos:_A_Personal_Voyage;hulu.com/cosmos\" , \"NULL\"}));\n",
        "searchlogData.Add(new GenericRow(new object[] {351530 , \"2019-10-16T11:54:29Z\" , \"en-fr\" , \"microsoft\" , 241 , \"microsoft.com;wikipedia.org/wiki/Microsoft;xbox.com\" , \"NULL\"}));\n",
        "searchlogData.Add(new GenericRow(new object[] {640806 , \"2019-10-16T11:54:32Z\" , \"en-us\" , \"wireless headphones\" , 502 , \"www.amazon.com;reviews.cnet.com/wireless-headphones;store.apple.com\" , \"www.amazon.com;store.apple.com\"}));\n",
        "searchlogData.Add(new GenericRow(new object[] {304305 , \"2019-10-16T11:54:45Z\" , \"en-us\" , \"dominos pizza\" , 60 , \"dominos.com;wikipedia.org/wiki/Domino's_Pizza;facebook.com/dominos\" , \"dominos.com\"})); \n",
        "searchlogData.Add(new GenericRow(new object[] {460748 , \"2019-10-16T11:54:58Z\" , \"en-us\" , \"yelp\" , 1270 , \"yelp.com;apple.com/us/app/yelp;wikipedia.org/wiki/Yelp_Inc.;facebook.com/yelp\" , \"yelp.com\"}));\n",
        "searchlogData.Add(new GenericRow(new object[] {354841 , \"2019-10-16T11:59:00Z\" , \"en-us\" , \"how to run\" , 610 , \"running.about.com;ehow.com;go.com\" , \"running.about.com;ehow.com\"}));\n",
        "searchlogData.Add(new GenericRow(new object[] {354068 , \"2019-10-16T12:00:07Z\" , \"en-mx\" , \"what is sql\" , 422 , \"wikipedia.org/wiki/SQL;sqlcourse.com/intro.html;wikipedia.org/wiki/Microsoft_SQL\" , \"wikipedia.org/wiki/SQL\"}));\n",
        "searchlogData.Add(new GenericRow(new object[] {674364 , \"2019-10-16T12:00:21Z\" , \"en-us\" , \"mexican food redmond\" , 283 , \"eltoreador.com;yelp.com/c/redmond-wa/mexican;agaverest.com\" , \"NULL\"}));\n",
        "searchlogData.Add(new GenericRow(new object[] {347413 , \"2019-10-16T12:11:34Z\" , \"en-gr\" , \"microsoft\" , 305 , \"microsoft.com;wikipedia.org/wiki/Microsoft;xbox.com\" , \"NULL\"}));\n",
        "searchlogData.Add(new GenericRow(new object[] {848434 , \"2019-10-16T12:12:14Z\" , \"en-ch\" , \"facebook\" , 10 , \"facebook.com;facebook.com/login;wikipedia.org/wiki/Facebook\" , \"facebook.com\"}));\n",
        "searchlogData.Add(new GenericRow(new object[] {604846 , \"2019-10-16T12:13:18Z\" , \"en-us\" , \"wikipedia\" , 612 , \"wikipedia.org;en.wikipedia.org;en.wikipedia.org/wiki/Wikipedia\" , \"wikipedia.org\"}));\n",
        "searchlogData.Add(new GenericRow(new object[] {840614 , \"2019-10-16T12:13:41Z\" , \"en-us\" , \"xbox\" , 1220 , \"xbox.com;en.wikipedia.org/wiki/Xbox;xbox.com/xbox360\" , \"xbox.com/xbox360\"}));\n",
        "searchlogData.Add(new GenericRow(new object[] {656666 , \"2019-10-16T12:15:19Z\" , \"en-us\" , \"hotmail\" , 691 , \"hotmail.com;login.live.com;msn.com;en.wikipedia.org/wiki/Hotmail\" , \"NULL\"}));\n",
        "searchlogData.Add(new GenericRow(new object[] {951513 , \"2019-10-16T12:17:37Z\" , \"en-us\" , \"pokemon\" , 63 , \"pokemon.com;pokemon.com/us;serebii.net\" , \"pokemon.com\"}));\n",
        "searchlogData.Add(new GenericRow(new object[] {350350 , \"2019-10-16T12:18:17Z\" , \"en-us\" , \"wolfram\" , 30 , \"wolframalpha.com;wolfram.com;mathworld.wolfram.com;en.wikipedia.org/wiki/Stephen_Wolfram\" , \"NULL\"}));\n",
        "searchlogData.Add(new GenericRow(new object[] {641615 , \"2019-10-16T12:19:21Z\" , \"en-us\" , \"kahn\" , 119 , \"khanacademy.org;en.wikipedia.org/wiki/Khan_(title);answers.com/topic/genghis-khan;en.wikipedia.org/wiki/Khan_(name)\" , \"khanacademy.org\"}));\n",
        "searchlogData.Add(new GenericRow(new object[] {321065 , \"2019-10-16T12:20:19Z\" , \"en-us\" , \"clothes\" , 732 , \"gap.com;overstock.com;forever21.com;footballfanatics.com/college_washington_state_cougars\" , \"footballfanatics.com/college_washington_state_cougars\"}));\n",
        "searchlogData.Add(new GenericRow(new object[] {651777 , \"2019-10-16T12:20:49Z\" , \"en-us\" , \"food recipes\" , 183 , \"allrecipes.com;foodnetwork.com;simplyrecipes.com\" , \"foodnetwork.com\"}));\n",
        "searchlogData.Add(new GenericRow(new object[] {666352 , \"2019-10-16T12:21:16Z\" , \"en-us\" , \"weight loss\" , 630 , \"en.wikipedia.org/wiki/Weight_loss;webmd.com/diet;exercise.about.com\" , \"webmd.com/diet\"}));\n",
        "\n",
        "// Schema for the above data\n",
        "// For a full list of types you can use, please see the following link:\n",
        "// https://docs.microsoft.com/en-us/dotnet/api/microsoft.spark.sql.types?view=spark-dotnet\n",
        "var searchlogSchema = new StructType(new List<StructField>()\n",
        "            { \n",
        "                new StructField(\"Id\", new IntegerType()),\n",
        "                new StructField(\"Time\", new StringType()),\n",
        "                new StructField(\"Market\", new StringType()),\n",
        "                new StructField(\"Searchtext\", new StringType()),\n",
        "                new StructField(\"Latency\", new IntegerType()),\n",
        "                new StructField(\"Links\", new StringType()),\n",
        "                new StructField(\"Clickedlinks\", new StringType())\n",
        "            });\n",
        " \n",
        " // Creating a DataFrame using the above data and schema as input to the CreateDataFrame API\n",
        "DataFrame dfSearchlog = spark.CreateDataFrame(searchlogData, searchlogSchema);\n",
        "\n",
        "// Displaying the created DataFrame\n",
        "dfSearchlog.Show()"
      ],
      "attachments": {}
    },
    {
      "cell_type": "markdown",
      "metadata": {},
      "source": [
        "## Casting String type to Timestamp type\n",
        "\n",
        "We will now convert the Column `Time` which is currently of `StringType()` to `TimeStamp()` type using the `Column.Cast()` method.\n",
        ""
      ],
      "attachments": {}
    },
    {
      "cell_type": "code",
      "execution_count": 20,
      "outputs": [
        {
          "output_type": "execute_result",
          "data": {
            "text/plain": "+------+------+--------------------+-------+--------------------+--------------------+-------------------+\n|    Id|Market|          Searchtext|Latency|               Links|        Clickedlinks|               Time|\n+------+------+--------------------+-------+--------------------+--------------------+-------------------+\n|399266| en-us|  how to make nachos|     73|www.nachos.com;ww...|                NULL|2019-10-15 11:53:04|\n|382045| en-gb|    best ski resorts|    614|skiresorts.com;sk...|ski-europe.com;ww...|2019-10-15 11:53:25|\n|382045| en-gb|          broken leg|     74|mayoclinic.com/he...|mayoclinic.com/he...|2019-10-16 11:53:42|\n|106479| en-ca| south park episodes|     24|southparkstudios....|southparkstudios.com|2019-10-16 11:53:10|\n|906441| en-us|              cosmos|   1213|cosmos.com;wikipe...|                NULL|2019-10-16 11:54:18|\n|351530| en-fr|           microsoft|    241|microsoft.com;wik...|                NULL|2019-10-16 11:54:29|\n|640806| en-us| wireless headphones|    502|www.amazon.com;re...|www.amazon.com;st...|2019-10-16 11:54:32|\n|304305| en-us|       dominos pizza|     60|dominos.com;wikip...|         dominos.com|2019-10-16 11:54:45|\n|460748| en-us|                yelp|   1270|yelp.com;apple.co...|            yelp.com|2019-10-16 11:54:58|\n|354841| en-us|          how to run|    610|running.about.com...|running.about.com...|2019-10-16 11:59:00|\n|354068| en-mx|         what is sql|    422|wikipedia.org/wik...|wikipedia.org/wik...|2019-10-16 12:00:07|\n|674364| en-us|mexican food redmond|    283|eltoreador.com;ye...|                NULL|2019-10-16 12:00:21|\n|347413| en-gr|           microsoft|    305|microsoft.com;wik...|                NULL|2019-10-16 12:11:34|\n|848434| en-ch|            facebook|     10|facebook.com;face...|        facebook.com|2019-10-16 12:12:14|\n|604846| en-us|           wikipedia|    612|wikipedia.org;en....|       wikipedia.org|2019-10-16 12:13:18|\n|840614| en-us|                xbox|   1220|xbox.com;en.wikip...|    xbox.com/xbox360|2019-10-16 12:13:41|\n|656666| en-us|             hotmail|    691|hotmail.com;login...|                NULL|2019-10-16 12:15:19|\n|951513| en-us|             pokemon|     63|pokemon.com;pokem...|         pokemon.com|2019-10-16 12:17:37|\n|350350| en-us|             wolfram|     30|wolframalpha.com;...|                NULL|2019-10-16 12:18:17|\n|641615| en-us|                kahn|    119|khanacademy.org;e...|     khanacademy.org|2019-10-16 12:19:21|\n+------+------+--------------------+-------+--------------------+--------------------+-------------------+\nonly showing top 20 rows"
          },
          "execution_count": 20,
          "metadata": {}
        }
      ],
      "metadata": {},
      "source": [
        "// Function to convert the Time column from StringType to TimestampType\n",
        "public DataFrame CastColumn(DataFrame df_, string colName, string t)\n",
        "{\n",
        "    df_ = df_.WithColumn(\"NewCol__\", df_[colName].Cast(t));\n",
        "    df_ = df_.Drop(colName);\n",
        "    df_ = df_.WithColumnRenamed(\"NewCol__\", colName);\n",
        "    return df_;\n",
        "}\n",
        "\n",
        "// Calling castColumn function to return the new DataFrame\n",
        "DataFrame dfTimestampCast = CastColumn(dfSearchlog, \"Time\", \"timestamp\");\n",
        "\n",
        "// Display the new DataFrame\n",
        "dfTimestampCast.Show();"
      ],
      "attachments": {}
    }
  ]
}