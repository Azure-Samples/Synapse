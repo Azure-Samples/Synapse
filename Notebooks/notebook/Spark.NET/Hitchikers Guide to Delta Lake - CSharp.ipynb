{
  "metadata": {
    "saveOutput": true,
    "language_info": {
      "name": "csharp"
    }
  },
  "nbformat": 4,
  "nbformat_minor": 2,
  "cells": [
    {
      "cell_type": "markdown",
      "metadata": {},
      "source": [
        "# Hitchhiker's Guide to Delta Lake (.NET for Spark C#)\n",
        "\n",
        "This tutorial has been adapted for more clarity from its original counterpart [here](https://docs.delta.io/latest/quick-start.html). This notebook helps you quickly explore the main features of [Delta Lake](https://github.com/delta-io/delta). It provides code snippets that show how to read from and write to Delta Lake tables from interactive, batch, and streaming queries.\n",
        "\n",
        "Here's what we will cover:\n",
        "* Create a table\n",
        "* Understanding meta-data\n",
        "* Read data\n",
        "* Update table data\n",
        "* Overwrite table data\n",
        "* Conditional update without overwrite\n",
        "* Read older versions of data using Time Travel\n",
        "* Write a stream of data to a table\n",
        "* Read a stream of changes from a table"
      ],
      "attachments": {}
    },
    {
      "cell_type": "markdown",
      "metadata": {},
      "source": [
        "## Configuration\n",
        "Make sure you modify this as appropriate."
      ],
      "attachments": {}
    },
    {
      "cell_type": "code",
      "execution_count": 27,
      "outputs": [
        {
          "output_type": "execute_result",
          "execution_count": 27,
          "data": {
            "text/plain": "/delta/delta-table-4339968"
          },
          "metadata": {}
        }
      ],
      "metadata": {},
      "source": [
        "var sessionId = (new Random()).Next(10000000);\n",
        "var deltaTablePath = $\"/delta/delta-table-{sessionId}\";\n",
        "\n",
        "deltaTablePath"
      ],
      "attachments": {}
    },
    {
      "cell_type": "markdown",
      "metadata": {},
      "source": [
        "## Create a table\n",
        "To create a Delta Lake table, write a DataFrame out in the **delta** format. You can use existing Spark SQL code and change the format from parquet, csv, json, and so on, to delta.\n",
        "\n",
        "These operations create a new Delta Lake table using the schema that was inferred from your DataFrame. For the full set of options available when you create a new Delta Lake table, see Create a table and Write to a table (subsequent cells in this notebook)."
      ],
      "attachments": {}
    },
    {
      "cell_type": "code",
      "execution_count": 28,
      "outputs": [
        {
          "output_type": "execute_result",
          "execution_count": 28,
          "data": {
            "text/plain": "+---+\n| id|\n+---+\n|  0|\n|  1|\n|  2|\n|  3|\n|  4|\n+---+"
          },
          "metadata": {}
        }
      ],
      "metadata": {},
      "source": [
        "var data = spark.Range(0,5);\n",
        "data.Show();\n",
        "data.Write().Format(\"delta\").Save(deltaTablePath);"
      ],
      "attachments": {}
    },
    {
      "cell_type": "markdown",
      "metadata": {},
      "source": [
        "## Understanding Meta-data\n",
        "\n",
        "In Delta Lake, meta-data is no different from data i.e., it is stored next to the data. Therefore, an interesting side-effect here is that you can peek into meta-data using regular Spark APIs. "
      ],
      "attachments": {}
    },
    {
      "cell_type": "code",
      "execution_count": 29,
      "outputs": [
        {
          "output_type": "execute_result",
          "execution_count": 29,
          "data": {
            "text/plain": "{\"commitInfo\":{\"timestamp\":1604887209838,\"operation\":\"WRITE\",\"operationParameters\":{\"mode\":\"ErrorIfExists\",\"partitionBy\":\"[]\"},\"isBlindAppend\":true,\"operationMetrics\":{\"numFiles\":\"6\",\"numOutputBytes\":\"2407\",\"numOutputRows\":\"5\"}}}\n{\"protocol\":{\"minReaderVersion\":1,\"minWriterVersion\":2}}\n{\"metaData\":{\"id\":\"c1e86e66-d6b6-4fc0-8ab8-bf906e74fccf\",\"format\":{\"provider\":\"parquet\",\"options\":{}},\"schemaString\":\"{\\\"type\\\":\\\"struct\\\",\\\"fields\\\":[{\\\"name\\\":\\\"id\\\",\\\"type\\\":\\\"long\\\",\\\"nullable\\\":true,\\\"metadata\\\":{}}]}\",\"partitionColumns\":[],\"configuration\":{},\"createdTime\":1604887208575}}\n{\"add\":{\"path\":\"part-00000-541921aa-d731-4e1b-a49e-69114154574b-c000.snappy.parquet\",\"partitionValues\":{},\"size\":262,\"modificationTime\":1604887209000,\"dataChange\":true}}\n{\"add\":{\"path\":\"part-00003-98f8511d-d355-4410-873d-b951d24e4e68-c000.snappy.parquet\",\"partitionValues\":{},\"size\":429,\"modificationTime\":1604887209000,\"dataChange\":true}}\n{\"add\":{\"path\":\"part-00006-1c72f731-9bd9-42b8-a98c-314857aabb7c-c000.snappy.parquet\",\"partitionValues\":{},\"size\":429,\"modificationTime\":1604887209000,\"dataChange\":true}}\n{\"add\":{\"path\":\"part-00009-3667b038-7134-4343-9f5f-08fd8ac53c24-c000.snappy.parquet\",\"partitionValues\":{},\"size\":429,\"modificationTime\":1604887209000,\"dataChange\":true}}\n{\"add\":{\"path\":\"part-00012-84366c80-d053-4e59-9951-0dd339417225-c000.snappy.parquet\",\"partitionValues\":{},\"size\":429,\"modificationTime\":1604887209000,\"dataChange\":true}}\n{\"add\":{\"path\":\"part-00015-bdac1862-2ca9-45be-b529-8001810eb7fe-c000.snappy.parquet\",\"partitionValues\":{},\"size\":429,\"modificationTime\":1604887209000,\"dataChange\":true}}"
          },
          "metadata": {}
        }
      ],
      "metadata": {},
      "source": [
        "using System.Linq;\n",
        "spark.Read().Text($\"{deltaTablePath}/_delta_log/\").Collect().ToList().ForEach(x => Console.WriteLine(x.GetAs<string>(\"value\")));"
      ],
      "attachments": {}
    },
    {
      "cell_type": "markdown",
      "metadata": {},
      "source": [
        "## Read data\n",
        "\n",
        "You read data in your Delta Lake table by specifying the path to the files."
      ],
      "attachments": {}
    },
    {
      "cell_type": "code",
      "execution_count": 30,
      "outputs": [
        {
          "output_type": "execute_result",
          "execution_count": 30,
          "data": {
            "text/plain": "+---+\n| id|\n+---+\n|  0|\n|  3|\n|  2|\n|  4|\n|  1|\n+---+"
          },
          "metadata": {}
        }
      ],
      "metadata": {},
      "source": [
        "var df = spark.Read().Format(\"delta\").Load(deltaTablePath);\n",
        "df.Show()"
      ],
      "attachments": {}
    },
    {
      "cell_type": "markdown",
      "metadata": {},
      "source": [
        "## Update table data\n",
        "\n",
        "Delta Lake supports several operations to modify tables using standard DataFrame APIs. This example runs a batch job to overwrite the data in the table.\n",
        ""
      ],
      "attachments": {}
    },
    {
      "cell_type": "code",
      "execution_count": 31,
      "outputs": [
        {
          "output_type": "execute_result",
          "execution_count": 31,
          "data": {
            "text/plain": "+---+\n| id|\n+---+\n|  9|\n|  5|\n|  7|\n|  6|\n|  8|\n+---+"
          },
          "metadata": {}
        }
      ],
      "metadata": {},
      "source": [
        "var data = spark.Range(5,10);\n",
        "data.Write().Format(\"delta\").Mode(\"overwrite\").Save(deltaTablePath);\n",
        "df.Show();"
      ],
      "attachments": {}
    },
    {
      "cell_type": "markdown",
      "metadata": {},
      "source": [
        "When you now inspect the meta-data, what you will notice is that the original data is over-written. Well, not in a true sense but appropriate entries are added to Delta's transaction log so it can provide an \"illusion\" that the original data was deleted. We can verify this by re-inspecting the meta-data. You will see several entries indicating reference removal to the original data."
      ],
      "attachments": {}
    },
    {
      "cell_type": "code",
      "execution_count": 32,
      "outputs": [
        {
          "output_type": "execute_result",
          "execution_count": 32,
          "data": {
            "text/plain": "{\"commitInfo\":{\"timestamp\":1604887222146,\"operation\":\"WRITE\",\"operationParameters\":{\"mode\":\"Overwrite\",\"partitionBy\":\"[]\"},\"readVersion\":0,\"isBlindAppend\":false,\"operationMetrics\":{\"numFiles\":\"6\",\"numOutputBytes\":\"2407\",\"numOutputRows\":\"5\"}}}\n{\"add\":{\"path\":\"part-00000-e5e5f4d5-aea5-4630-bc2b-f79d0bcfbe6f-c000.snappy.parquet\",\"partitionValues\":{},\"size\":262,\"modificationTime\":1604887221000,\"dataChange\":true}}\n{\"add\":{\"path\":\"part-00003-feddbddc-3c95-45ff-9597-75b2d0f61fd9-c000.snappy.parquet\",\"partitionValues\":{},\"size\":429,\"modificationTime\":1604887221000,\"dataChange\":true}}\n{\"add\":{\"path\":\"part-00006-071155a4-69a8-43ff-b4bd-2a97343c165a-c000.snappy.parquet\",\"partitionValues\":{},\"size\":429,\"modificationTime\":1604887221000,\"dataChange\":true}}\n{\"add\":{\"path\":\"part-00009-f9be07aa-7998-41a4-8f62-bca74739fe47-c000.snappy.parquet\",\"partitionValues\":{},\"size\":429,\"modificationTime\":1604887221000,\"dataChange\":true}}\n{\"add\":{\"path\":\"part-00012-6fe0f2c9-8792-4da2-834b-c8b2608fedd2-c000.snappy.parquet\",\"partitionValues\":{},\"size\":429,\"modificationTime\":1604887221000,\"dataChange\":true}}\n{\"add\":{\"path\":\"part-00015-8fafae9a-915e-4189-b806-cd06634f43e5-c000.snappy.parquet\",\"partitionValues\":{},\"size\":429,\"modificationTime\":1604887221000,\"dataChange\":true}}\n{\"remove\":{\"path\":\"part-00003-98f8511d-d355-4410-873d-b951d24e4e68-c000.snappy.parquet\",\"deletionTimestamp\":1604887222146,\"dataChange\":true}}\n{\"remove\":{\"path\":\"part-00012-84366c80-d053-4e59-9951-0dd339417225-c000.snappy.parquet\",\"deletionTimestamp\":1604887222146,\"dataChange\":true}}\n{\"remove\":{\"path\":\"part-00009-3667b038-7134-4343-9f5f-08fd8ac53c24-c000.snappy.parquet\",\"deletionTimestamp\":1604887222146,\"dataChange\":true}}\n{\"remove\":{\"path\":\"part-00015-bdac1862-2ca9-45be-b529-8001810eb7fe-c000.snappy.parquet\",\"deletionTimestamp\":1604887222146,\"dataChange\":true}}\n{\"remove\":{\"path\":\"part-00006-1c72f731-9bd9-42b8-a98c-314857aabb7c-c000.snappy.parquet\",\"deletionTimestamp\":1604887222146,\"dataChange\":true}}\n{\"remove\":{\"path\":\"part-00000-541921aa-d731-4e1b-a49e-69114154574b-c000.snappy.parquet\",\"deletionTimestamp\":1604887222146,\"dataChange\":true}}\n{\"commitInfo\":{\"timestamp\":1604887209838,\"operation\":\"WRITE\",\"operationParameters\":{\"mode\":\"ErrorIfExists\",\"partitionBy\":\"[]\"},\"isBlindAppend\":true,\"operationMetrics\":{\"numFiles\":\"6\",\"numOutputBytes\":\"2407\",\"numOutputRows\":\"5\"}}}\n{\"protocol\":{\"minReaderVersion\":1,\"minWriterVersion\":2}}\n{\"metaData\":{\"id\":\"c1e86e66-d6b6-4fc0-8ab8-bf906e74fccf\",\"format\":{\"provider\":\"parquet\",\"options\":{}},\"schemaString\":\"{\\\"type\\\":\\\"struct\\\",\\\"fields\\\":[{\\\"name\\\":\\\"id\\\",\\\"type\\\":\\\"long\\\",\\\"nullable\\\":true,\\\"metadata\\\":{}}]}\",\"partitionColumns\":[],\"configuration\":{},\"createdTime\":1604887208575}}\n{\"add\":{\"path\":\"part-00000-541921aa-d731-4e1b-a49e-69114154574b-c000.snappy.parquet\",\"partitionValues\":{},\"size\":262,\"modificationTime\":1604887209000,\"dataChange\":true}}\n{\"add\":{\"path\":\"part-00003-98f8511d-d355-4410-873d-b951d24e4e68-c000.snappy.parquet\",\"partitionValues\":{},\"size\":429,\"modificationTime\":1604887209000,\"dataChange\":true}}\n{\"add\":{\"path\":\"part-00006-1c72f731-9bd9-42b8-a98c-314857aabb7c-c000.snappy.parquet\",\"partitionValues\":{},\"size\":429,\"modificationTime\":1604887209000,\"dataChange\":true}}\n{\"add\":{\"path\":\"part-00009-3667b038-7134-4343-9f5f-08fd8ac53c24-c000.snappy.parquet\",\"partitionValues\":{},\"size\":429,\"modificationTime\":1604887209000,\"dataChange\":true}}\n{\"add\":{\"path\":\"part-00012-84366c80-d053-4e59-9951-0dd339417225-c000.snappy.parquet\",\"partitionValues\":{},\"size\":429,\"modificationTime\":1604887209000,\"dataChange\":true}}\n{\"add\":{\"path\":\"part-00015-bdac1862-2ca9-45be-b529-8001810eb7fe-c000.snappy.parquet\",\"partitionValues\":{},\"size\":429,\"modificationTime\":1604887209000,\"dataChange\":true}}"
          },
          "metadata": {}
        }
      ],
      "metadata": {},
      "source": [
        "spark.Read().Text($\"{deltaTablePath}/_delta_log/\").Collect().ToList().ForEach(x => Console.WriteLine(x.GetAs<string>(\"value\")));"
      ],
      "attachments": {}
    },
    {
      "cell_type": "markdown",
      "metadata": {},
      "source": [
        "## Save as catalog tables\n",
        "\n",
        "Delta Lake can write to managed or external catalog tables.\n",
        ""
      ],
      "attachments": {}
    },
    {
      "cell_type": "code",
      "execution_count": 33,
      "outputs": [],
      "metadata": {},
      "source": [
        "// Write data to a new managed catalog table.\n",
        "data.Write().Format(\"delta\").SaveAsTable(\"ManagedDeltaTable\");"
      ],
      "attachments": {}
    },
    {
      "cell_type": "code",
      "execution_count": 34,
      "outputs": [],
      "metadata": {},
      "source": [
        "// Define an external catalog table that points to the existing Delta Lake data in storage.\n",
        "spark.Sql($\"CREATE TABLE ExternalDeltaTable USING DELTA LOCATION '{deltaTablePath}'\");"
      ],
      "attachments": {}
    },
    {
      "cell_type": "code",
      "execution_count": 35,
      "outputs": [
        {
          "output_type": "execute_result",
          "execution_count": 35,
          "data": {
            "text/plain": "+--------+------------------+-----------+\n|database|         tableName|isTemporary|\n+--------+------------------+-----------+\n| default|externaldeltatable|      false|\n| default| manageddeltatable|      false|\n+--------+------------------+-----------+\n\n+----------------------------+-------------------------------------------------------------------------------------------------------+-------+\n|col_name                    |data_type                                                                                              |comment|\n+----------------------------+-------------------------------------------------------------------------------------------------------+-------+\n|id                          |bigint                                                                                                 |null   |\n|                            |                                                                                                       |       |\n|# Detailed Table Information|                                                                                                       |       |\n|Database                    |default                                                                                                |       |\n|Table                       |manageddeltatable                                                                                      |       |\n|Owner                       |trusted-service-user                                                                                   |       |\n|Created Time                |Mon Nov 09 02:00:36 UTC 2020                                                                           |       |\n|Last Access                 |Thu Jan 01 00:00:00 UTC 1970                                                                           |       |\n|Created By                  |Spark 2.4.4.2.6.99.201-22124361                                                                        |       |\n|Type                        |MANAGED                                                                                                |       |\n|Provider                    |delta                                                                                                  |       |\n|Table Properties            |[transient_lastDdlTime=1604887236]                                                                     |       |\n|Statistics                  |2407 bytes                                                                                             |       |\n|Location                    |abfss://data@<data lake>.dfs.core.windows.net/synapse/workspaces/<workspace name>/warehouse/manageddeltatable|       |\n|Serde Library               |org.apache.hadoop.hive.serde2.lazy.LazySimpleSerDe                                                     |       |\n|InputFormat                 |org.apache.hadoop.mapred.SequenceFileInputFormat                                                       |       |\n|OutputFormat                |org.apache.hadoop.hive.ql.io.HiveSequenceFileOutputFormat                                              |       |\n|Storage Properties          |[serialization.format=1]                                                                               |       |\n+----------------------------+-------------------------------------------------------------------------------------------------------+-------+\n\n+----------------------------+-----------------------------------------------------------------------+-------+\n|col_name                    |data_type                                                              |comment|\n+----------------------------+-----------------------------------------------------------------------+-------+\n|id                          |bigint                                                                 |null   |\n|                            |                                                                       |       |\n|# Detailed Table Information|                                                                       |       |\n|Database                    |default                                                                |       |\n|Table                       |externaldeltatable                                                     |       |\n|Owner                       |trusted-service-user                                                   |       |\n|Created Time                |Mon Nov 09 02:00:39 UTC 2020                                           |       |\n|Last Access                 |Thu Jan 01 00:00:00 UTC 1970                                           |       |\n|Created By                  |Spark 2.4.4.2.6.99.201-22124361                                        |       |\n|Type                        |EXTERNAL                                                               |       |\n|Provider                    |DELTA                                                                  |       |\n|Table Properties            |[transient_lastDdlTime=1604887239]                                     |       |\n|Location                    |abfss://data@<data lake>.dfs.core.windows.net/delta/delta-table-4339968|       |\n|Serde Library               |org.apache.hadoop.hive.serde2.lazy.LazySimpleSerDe                     |       |\n|InputFormat                 |org.apache.hadoop.mapred.SequenceFileInputFormat                       |       |\n|OutputFormat                |org.apache.hadoop.hive.ql.io.HiveSequenceFileOutputFormat              |       |\n|Storage Properties          |[serialization.format=1]                                               |       |\n+----------------------------+-----------------------------------------------------------------------+-------+"
          },
          "metadata": {}
        }
      ],
      "metadata": {},
      "source": [
        "// List the 2 new tables.\n",
        "spark.Sql(\"SHOW TABLES\").Show();\n",
        "\n",
        "// Explore their properties.\n",
        "spark.Sql(\"DESCRIBE EXTENDED ManagedDeltaTable\").Show(truncate: 0);\n",
        "spark.Sql(\"DESCRIBE EXTENDED ExternalDeltaTable\").Show(truncate: 0);"
      ],
      "attachments": {}
    },
    {
      "cell_type": "markdown",
      "metadata": {},
      "source": [
        "## Conditional update without overwrite\n",
        "\n",
        "Delta Lake provides programmatic APIs to conditional update, delete, and merge (upsert) data into tables. For more information on these operations, see [Table Deletes, Updates, and Merges](https://docs.delta.io/latest/delta-update.html)."
      ],
      "attachments": {}
    },
    {
      "cell_type": "code",
      "execution_count": 36,
      "outputs": [],
      "metadata": {},
      "source": [
        "using Microsoft.Spark.Extensions.Delta;\n",
        "using Microsoft.Spark.Extensions.Delta.Tables;\n",
        "using Microsoft.Spark.Sql;\n",
        "using static Microsoft.Spark.Sql.Functions;\n",
        "\n",
        "var deltaTable = DeltaTable.ForPath(deltaTablePath);"
      ],
      "attachments": {}
    },
    {
      "cell_type": "code",
      "execution_count": 37,
      "outputs": [
        {
          "output_type": "execute_result",
          "execution_count": 37,
          "data": {
            "text/plain": "+---+\n| id|\n+---+\n|108|\n|  9|\n|  5|\n|  7|\n|106|\n+---+"
          },
          "metadata": {}
        }
      ],
      "metadata": {},
      "source": [
        "// Update every even value by adding 100 to it\n",
        "deltaTable.Update(\n",
        "  condition: Expr(\"id % 2 == 0\"),\n",
        "  set: new Dictionary<string, Column>(){{ \"id\", Expr(\"id + 100\") }});\n",
        "deltaTable.ToDF().Show();"
      ],
      "attachments": {}
    },
    {
      "cell_type": "code",
      "execution_count": 38,
      "outputs": [
        {
          "output_type": "execute_result",
          "execution_count": 38,
          "data": {
            "text/plain": "+---+\n| id|\n+---+\n|  9|\n|  5|\n|  7|\n+---+"
          },
          "metadata": {}
        }
      ],
      "metadata": {},
      "source": [
        "// Delete every even value\n",
        "deltaTable.Delete(condition: Expr(\"id % 2 == 0\"));\n",
        "deltaTable.ToDF().Show();"
      ],
      "attachments": {}
    },
    {
      "cell_type": "code",
      "execution_count": 39,
      "outputs": [
        {
          "output_type": "execute_result",
          "execution_count": 39,
          "data": {
            "text/plain": "+---+\n| id|\n+---+\n|  0|\n|  1|\n| -1|\n| 11|\n| 17|\n| -1|\n| 18|\n|  3|\n| 14|\n| 19|\n| 10|\n|  4|\n| -1|\n| 16|\n|  2|\n|  6|\n| 12|\n|  8|\n| 15|\n| 13|\n+---+"
          },
          "metadata": {}
        }
      ],
      "metadata": {},
      "source": [
        "// Upsert (merge) new data\n",
        "var newData = spark.Range(20).As(\"newData\");\n",
        "\n",
        "deltaTable\n",
        "    .As(\"oldData\")\n",
        "    .Merge(newData, \"oldData.id = newData.id\")\n",
        "    .WhenMatched()\n",
        "        .Update(new Dictionary<string, Column>() {{\"id\", Lit(\"-1\")}})\n",
        "    .WhenNotMatched()\n",
        "        .Insert(new Dictionary<string, Column>() {{\"id\", Col(\"newData.id\")}})\n",
        "    .Execute();\n",
        "\n",
        "deltaTable.ToDF().Show(100);"
      ],
      "attachments": {}
    },
    {
      "cell_type": "markdown",
      "metadata": {},
      "source": [
        "## History\n",
        "Delta's most powerful feature is the ability to allow looking into history i.e., the changes that were made to the underlying Delta Table. The cell below shows how simple it is to inspect the history."
      ],
      "attachments": {}
    },
    {
      "cell_type": "code",
      "execution_count": 40,
      "outputs": [
        {
          "output_type": "execute_result",
          "execution_count": 40,
          "data": {
            "text/plain": "+-------+-------------------+------+--------+---------+-------------------------------------------------------------------+----+--------+---------+-----------+--------------+-------------+--------------------------------------------------------------------------------------------------------------------------------------------------------------------------------------------------------------+\n|version|          timestamp|userId|userName|operation|                                                operationParameters| job|notebook|clusterId|readVersion|isolationLevel|isBlindAppend|                                                                                                                                                                                              operationMetrics|\n+-------+-------------------+------+--------+---------+-------------------------------------------------------------------+----+--------+---------+-----------+--------------+-------------+--------------------------------------------------------------------------------------------------------------------------------------------------------------------------------------------------------------+\n|      4|2020-11-09 02:01:09|  null|    null|    MERGE|                       [predicate -> (oldData.`id` = newData.`id`)]|null|    null|     null|          3|          null|        false|[numTargetRowsCopied -> 0, numTargetRowsDeleted -> 0, numTargetFilesAdded -> 21, numTargetRowsInserted -> 17, numTargetRowsUpdated -> 3, numOutputRows -> 20, numSourceRows -> 20, numTargetFilesRemoved -> 3]|\n|      3|2020-11-09 02:00:58|  null|    null|   DELETE|[predicate -> [\"((`id` % CAST(2 AS BIGINT)) = CAST(0 AS BIGINT))\"]]|null|    null|     null|          2|          null|        false|                                                                                                                           [numRemovedFiles -> 2, numDeletedRows -> 2, numAddedFiles -> 1, numCopiedRows -> 0]|\n|      2|2020-11-09 02:00:48|  null|    null|   UPDATE|[predicate -> ((id#2835L % cast(2 as bigint)) = cast(0 as bigint))]|null|    null|     null|          1|          null|        false|                                                                                                                           [numRemovedFiles -> 2, numAddedFiles -> 2, numUpdatedRows -> 2, numCopiedRows -> 0]|\n|      1|2020-11-09 02:00:22|  null|    null|    WRITE|                             [mode -> Overwrite, partitionBy -> []]|null|    null|     null|          0|          null|        false|                                                                                                                                                   [numFiles -> 6, numOutputBytes -> 2407, numOutputRows -> 5]|\n|      0|2020-11-09 02:00:10|  null|    null|    WRITE|                         [mode -> ErrorIfExists, partitionBy -> []]|null|    null|     null|       null|          null|         true|                                                                                                                                                   [numFiles -> 6, numOutputBytes -> 2407, numOutputRows -> 5]|\n+-------+-------------------+------+--------+---------+-------------------------------------------------------------------+----+--------+---------+-----------+--------------+-------------+--------------------------------------------------------------------------------------------------------------------------------------------------------------------------------------------------------------+"
          },
          "metadata": {}
        }
      ],
      "metadata": {},
      "source": [
        "deltaTable.History().Show(20, 1000, false);"
      ],
      "attachments": {}
    },
    {
      "cell_type": "markdown",
      "metadata": {},
      "source": [
        "## Read older versions of data using Time Travel\n",
        "\n",
        "You can query previous snapshots of your Delta Lake table by using a feature called Time Travel. If you want to access the data that you overwrote, you can query a snapshot of the table before you overwrote the first set of data using the versionAsOf option.\n",
        "\n",
        "Once you run the cell below, you should see the first set of data, from before you overwrote it. Time Travel is an extremely powerful feature that takes advantage of the power of the Delta Lake transaction log to access data that is no longer in the table. Removing the version 0 option (or specifying version 1) would let you see the newer data again. For more information, see [Query an older snapshot of a table (time travel)](https://docs.delta.io/latest/delta-batch.html#deltatimetravel)."
      ],
      "attachments": {}
    },
    {
      "cell_type": "code",
      "execution_count": 41,
      "outputs": [
        {
          "output_type": "execute_result",
          "execution_count": 41,
          "data": {
            "text/plain": "+---+\n| id|\n+---+\n|  0|\n|  3|\n|  2|\n|  4|\n|  1|\n+---+"
          },
          "metadata": {}
        }
      ],
      "metadata": {},
      "source": [
        "var df = spark.Read().Format(\"delta\").Option(\"versionAsOf\", 0).Load(deltaTablePath);\n",
        "df.Show();"
      ],
      "attachments": {}
    },
    {
      "cell_type": "markdown",
      "metadata": {},
      "source": [
        "## Write a stream of data to a table\n",
        "\n",
        "You can also write to a Delta Lake table using Spark's Structured Streaming. The Delta Lake transaction log guarantees exactly-once processing, even when there are other streams or batch queries running concurrently against the table. By default, streams run in append mode, which adds new records to the table.\n",
        "\n",
        "For more information about Delta Lake integration with Structured Streaming, see [Table Streaming Reads and Writes](https://docs.delta.io/latest/delta-streaming.html).\n",
        "\n",
        "In the cells below, here's what we are doing:\n",
        "\n",
        "1. *Cell 28* Setup a simple Spark Structured Streaming job to generate a sequence and make the job write into our Delta Table\n",
        "2. *Cell 30* Show the newly appended data\n",
        "3. *Cell 31* Inspect history\n",
        "4. *Cell 32* Stop the structured streaming job\n",
        "5. *Cell 33* Inspect history <-- You'll notice appends have stopped"
      ],
      "attachments": {}
    },
    {
      "cell_type": "code",
      "execution_count": 42,
      "outputs": [],
      "metadata": {},
      "source": [
        "var streamingDf = spark.ReadStream().Format(\"rate\").Load();\n",
        "var stream = streamingDf.SelectExpr(\"value as id\").WriteStream().Format(\"delta\").Option(\"checkpointLocation\", $\"/tmp/checkpoint-{sessionId}\").Start(deltaTablePath);"
      ],
      "attachments": {}
    },
    {
      "cell_type": "markdown",
      "metadata": {},
      "source": [
        "## Read a stream of changes from a table\n",
        "\n",
        "While the stream is writing to the Delta Lake table, you can also read from that table as streaming source. For example, you can start another streaming query that prints all the changes made to the Delta Lake table."
      ],
      "attachments": {}
    },
    {
      "cell_type": "code",
      "execution_count": 43,
      "outputs": [
        {
          "output_type": "execute_result",
          "execution_count": 43,
          "data": {
            "text/plain": "+---+\n| id|\n+---+\n| 19|\n| 18|\n| 17|\n| 16|\n| 15|\n| 14|\n| 13|\n| 12|\n| 11|\n| 10|\n|  8|\n|  6|\n|  4|\n|  3|\n|  2|\n|  1|\n|  0|\n| -1|\n| -1|\n| -1|\n+---+"
          },
          "metadata": {}
        }
      ],
      "metadata": {},
      "source": [
        "deltaTable.ToDF().Sort(Col(\"id\").Desc()).Show(100);"
      ],
      "attachments": {}
    },
    {
      "cell_type": "code",
      "execution_count": 44,
      "outputs": [
        {
          "output_type": "execute_result",
          "execution_count": 44,
          "data": {
            "text/plain": "+-------+-------------------+----------------+-------------------------------------------------------------------------------------+-----------+--------------------------------------------------------------------------------------------------------------------------------------------------------------------------------------------------------------+\n|version|          timestamp|       operation|                                                                  operationParameters|readVersion|                                                                                                                                                                                              operationMetrics|\n+-------+-------------------+----------------+-------------------------------------------------------------------------------------+-----------+--------------------------------------------------------------------------------------------------------------------------------------------------------------------------------------------------------------+\n|      5|2020-11-09 02:01:40|STREAMING UPDATE|[outputMode -> Append, queryId -> a197cb0d-0919-4ead-9e5a-45c83aa10000, epochId -> 0]|          4|                                                                                                                         [numRemovedFiles -> 0, numOutputRows -> 1, numOutputBytes -> 429, numAddedFiles -> 1]|\n|      4|2020-11-09 02:01:09|           MERGE|                                         [predicate -> (oldData.`id` = newData.`id`)]|          3|[numTargetRowsCopied -> 0, numTargetRowsDeleted -> 0, numTargetFilesAdded -> 21, numTargetRowsInserted -> 17, numTargetRowsUpdated -> 3, numOutputRows -> 20, numSourceRows -> 20, numTargetFilesRemoved -> 3]|\n|      3|2020-11-09 02:00:58|          DELETE|                  [predicate -> [\"((`id` % CAST(2 AS BIGINT)) = CAST(0 AS BIGINT))\"]]|          2|                                                                                                                           [numRemovedFiles -> 2, numDeletedRows -> 2, numAddedFiles -> 1, numCopiedRows -> 0]|\n|      2|2020-11-09 02:00:48|          UPDATE|                  [predicate -> ((id#2835L % cast(2 as bigint)) = cast(0 as bigint))]|          1|                                                                                                                           [numRemovedFiles -> 2, numAddedFiles -> 2, numUpdatedRows -> 2, numCopiedRows -> 0]|\n|      1|2020-11-09 02:00:22|           WRITE|                                               [mode -> Overwrite, partitionBy -> []]|          0|                                                                                                                                                   [numFiles -> 6, numOutputBytes -> 2407, numOutputRows -> 5]|\n|      0|2020-11-09 02:00:10|           WRITE|                                           [mode -> ErrorIfExists, partitionBy -> []]|       null|                                                                                                                                                   [numFiles -> 6, numOutputBytes -> 2407, numOutputRows -> 5]|\n+-------+-------------------+----------------+-------------------------------------------------------------------------------------+-----------+--------------------------------------------------------------------------------------------------------------------------------------------------------------------------------------------------------------+"
          },
          "metadata": {}
        }
      ],
      "metadata": {},
      "source": [
        "deltaTable.History().Drop(\"userId\", \"userName\", \"job\", \"notebook\", \"clusterId\", \"isolationLevel\", \"isBlindAppend\").Show(20, 1000, false);"
      ],
      "attachments": {}
    },
    {
      "cell_type": "code",
      "execution_count": 45,
      "outputs": [],
      "metadata": {},
      "source": [
        "stream.Stop();"
      ],
      "attachments": {}
    },
    {
      "cell_type": "code",
      "execution_count": 46,
      "outputs": [
        {
          "output_type": "execute_result",
          "execution_count": 46,
          "data": {
            "text/plain": "+-------+-------------------+----------------+-------------------------------------------------------------------------------------+-----------+--------------------------------------------------------------------------------------------------------------------------------------------------------------------------------------------------------------+\n|version|          timestamp|       operation|                                                                  operationParameters|readVersion|                                                                                                                                                                                              operationMetrics|\n+-------+-------------------+----------------+-------------------------------------------------------------------------------------+-----------+--------------------------------------------------------------------------------------------------------------------------------------------------------------------------------------------------------------+\n|      5|2020-11-09 02:01:40|STREAMING UPDATE|[outputMode -> Append, queryId -> a197cb0d-0919-4ead-9e5a-45c83aa10000, epochId -> 0]|          4|                                                                                                                         [numRemovedFiles -> 0, numOutputRows -> 1, numOutputBytes -> 429, numAddedFiles -> 1]|\n|      4|2020-11-09 02:01:09|           MERGE|                                         [predicate -> (oldData.`id` = newData.`id`)]|          3|[numTargetRowsCopied -> 0, numTargetRowsDeleted -> 0, numTargetFilesAdded -> 21, numTargetRowsInserted -> 17, numTargetRowsUpdated -> 3, numOutputRows -> 20, numSourceRows -> 20, numTargetFilesRemoved -> 3]|\n|      3|2020-11-09 02:00:58|          DELETE|                  [predicate -> [\"((`id` % CAST(2 AS BIGINT)) = CAST(0 AS BIGINT))\"]]|          2|                                                                                                                           [numRemovedFiles -> 2, numDeletedRows -> 2, numAddedFiles -> 1, numCopiedRows -> 0]|\n|      2|2020-11-09 02:00:48|          UPDATE|                  [predicate -> ((id#2835L % cast(2 as bigint)) = cast(0 as bigint))]|          1|                                                                                                                           [numRemovedFiles -> 2, numAddedFiles -> 2, numUpdatedRows -> 2, numCopiedRows -> 0]|\n|      1|2020-11-09 02:00:22|           WRITE|                                               [mode -> Overwrite, partitionBy -> []]|          0|                                                                                                                                                   [numFiles -> 6, numOutputBytes -> 2407, numOutputRows -> 5]|\n|      0|2020-11-09 02:00:10|           WRITE|                                           [mode -> ErrorIfExists, partitionBy -> []]|       null|                                                                                                                                                   [numFiles -> 6, numOutputBytes -> 2407, numOutputRows -> 5]|\n+-------+-------------------+----------------+-------------------------------------------------------------------------------------+-----------+--------------------------------------------------------------------------------------------------------------------------------------------------------------------------------------------------------------+"
          },
          "metadata": {}
        }
      ],
      "metadata": {},
      "source": [
        "deltaTable.History().Drop(\"userId\", \"userName\", \"job\", \"notebook\", \"clusterId\", \"isolationLevel\", \"isBlindAppend\").Show(100, 1000, false);"
      ],
      "attachments": {}
    },
    {
      "cell_type": "markdown",
      "metadata": {},
      "source": [
        "## Compaction\n",
        "\n",
        "If a Delta Table is growing too large, you can compact it by repartitioning into a smaller number of files.\n",
        "\n",
        "The option `dataChange = false` is an optimization that tells Delta Lake to do the repartition without marking the underlying data as \"modified\". This ensures that any other concurrent operations (such as streaming reads/writes) aren't negatively impacted.\n",
        ""
      ],
      "attachments": {}
    },
    {
      "cell_type": "code",
      "execution_count": 47,
      "outputs": [],
      "metadata": {},
      "source": [
        "int partitionCount = 2;\n",
        "\n",
        "spark.Read()\n",
        "    .Format(\"delta\")\n",
        "    .Load(deltaTablePath)\n",
        "    .Repartition(partitionCount)\n",
        "    .Write()\n",
        "    .Option(\"dataChange\", \"false\")\n",
        "    .Format(\"delta\")\n",
        "    .Mode(\"overwrite\")\n",
        "    .Save(deltaTablePath);"
      ],
      "attachments": {}
    },
    {
      "cell_type": "markdown",
      "metadata": {},
      "source": [
        "## Convert Parquet to Delta\n",
        "You can do an in-place conversion from the Parquet format to Delta."
      ],
      "attachments": {}
    },
    {
      "cell_type": "code",
      "execution_count": 48,
      "outputs": [
        {
          "output_type": "execute_result",
          "execution_count": 48,
          "data": {
            "text/html": "False"
          },
          "metadata": {}
        }
      ],
      "metadata": {},
      "source": [
        "var parquetPath = $\"/parquet/parquet-table-{sessionId}\";\n",
        "\n",
        "var data = spark.Range(0,5);\n",
        "data.Write().Parquet(parquetPath);\n",
        "\n",
        "// Confirm that the data isn't in the Delta format\n",
        "DeltaTable.IsDeltaTable(parquetPath)"
      ],
      "attachments": {}
    },
    {
      "cell_type": "code",
      "execution_count": 49,
      "outputs": [
        {
          "output_type": "execute_result",
          "execution_count": 49,
          "data": {
            "text/html": "True"
          },
          "metadata": {}
        }
      ],
      "metadata": {},
      "source": [
        "DeltaTable.ConvertToDelta(spark, $\"parquet.`{parquetPath}`\");\n",
        "\n",
        "//Confirm that the converted data is now in the Delta format\n",
        "DeltaTable.IsDeltaTable(parquetPath)"
      ],
      "attachments": {}
    },
    {
      "cell_type": "markdown",
      "metadata": {},
      "source": [
        "## SQL Support\n",
        "Delta supports table utility commands through SQL.  You can use SQL to:\n",
        "* Get a DeltaTable's history\n",
        "* Vacuum a DeltaTable\n",
        "* Convert a Parquet file to Delta\n",
        ""
      ],
      "attachments": {}
    },
    {
      "cell_type": "code",
      "execution_count": 50,
      "outputs": [
        {
          "output_type": "execute_result",
          "execution_count": 50,
          "data": {
            "text/plain": "+-------+-------------------+------+--------+----------------+--------------------+----+--------+---------+-----------+--------------+-------------+--------------------+\n|version|          timestamp|userId|userName|       operation| operationParameters| job|notebook|clusterId|readVersion|isolationLevel|isBlindAppend|    operationMetrics|\n+-------+-------------------+------+--------+----------------+--------------------+----+--------+---------+-----------+--------------+-------------+--------------------+\n|      6|2020-11-09 02:01:53|  null|    null|           WRITE|[mode -> Overwrit...|null|    null|     null|          5|          null|        false|[numFiles -> 2, n...|\n|      5|2020-11-09 02:01:40|  null|    null|STREAMING UPDATE|[outputMode -> Ap...|null|    null|     null|          4|          null|         true|[numRemovedFiles ...|\n|      4|2020-11-09 02:01:09|  null|    null|           MERGE|[predicate -> (ol...|null|    null|     null|          3|          null|        false|[numTargetRowsCop...|\n|      3|2020-11-09 02:00:58|  null|    null|          DELETE|[predicate -> [\"(...|null|    null|     null|          2|          null|        false|[numRemovedFiles ...|\n|      2|2020-11-09 02:00:48|  null|    null|          UPDATE|[predicate -> ((i...|null|    null|     null|          1|          null|        false|[numRemovedFiles ...|\n|      1|2020-11-09 02:00:22|  null|    null|           WRITE|[mode -> Overwrit...|null|    null|     null|          0|          null|        false|[numFiles -> 6, n...|\n|      0|2020-11-09 02:00:10|  null|    null|           WRITE|[mode -> ErrorIfE...|null|    null|     null|       null|          null|         true|[numFiles -> 6, n...|\n+-------+-------------------+------+--------+----------------+--------------------+----+--------+---------+-----------+--------------+-------------+--------------------+"
          },
          "metadata": {}
        }
      ],
      "metadata": {},
      "source": [
        "spark.Sql($\"DESCRIBE HISTORY delta.`{deltaTablePath}`\").Show();"
      ],
      "attachments": {}
    },
    {
      "cell_type": "code",
      "execution_count": 51,
      "outputs": [
        {
          "output_type": "execute_result",
          "execution_count": 51,
          "data": {
            "text/plain": "+--------------------+\n|                path|\n+--------------------+\n|abfss://data@...|\n+--------------------+"
          },
          "metadata": {}
        }
      ],
      "metadata": {},
      "source": [
        "spark.Sql($\"VACUUM delta.`{deltaTablePath}`\").Show();"
      ],
      "attachments": {}
    },
    {
      "cell_type": "code",
      "execution_count": 52,
      "outputs": [],
      "metadata": {},
      "source": [
        "var parquetId =  (new Random()).Next(10000000);\n",
        "var parquetPath = $\"/parquet/parquet-table-{sessionId}-{parquetId}\";\n",
        "\n",
        "var data = spark.Range(0,5);\n",
        "data.Write().Parquet(parquetPath);\n",
        "\n",
        "// Confirm that the data isn't in the Delta format\n",
        "DeltaTable.IsDeltaTable(parquetPath);\n",
        "\n",
        "// Use SQL to convert the parquet table to Delta\n",
        "spark.Sql($\"CONVERT TO DELTA parquet.`{parquetPath}`\");\n",
        "\n",
        "DeltaTable.IsDeltaTable(parquetPath);"
      ],
      "attachments": {}
    }
  ]
}