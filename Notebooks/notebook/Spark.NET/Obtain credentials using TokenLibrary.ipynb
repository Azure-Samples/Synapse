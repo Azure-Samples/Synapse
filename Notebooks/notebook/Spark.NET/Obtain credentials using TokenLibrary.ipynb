{
  "metadata": {
    "saveOutput": true,
    "language_info": {
      "name": "csharp"
    }
  },
  "nbformat": 4,
  "nbformat_minor": 2,
  "cells": [
    {
      "cell_type": "code",
      "execution_count": null,
      "outputs": [],
      "metadata": {},
      "source": [
        "// By default Synapse uses AAD passthrough for authentication\n",
        "// However, Linked services can be used for storing and retreiving credentials (e.g, account key)\n",
        "// Example connection string (for storage): \"DefaultEndpointsProtocol=https;AccountName=<accountname>;AccountKey=<accountkey>\"\n",
        "\n",
        "using Microsoft.Spark.Extensions.Azure.Synapse.Analytics.Utils;\n",
        "string connectionString = TokenLibrary.GetConnectionString(\"<linkedServiceName>\");"
      ],
      "attachments": {}
    }
  ]
}
