{
  "metadata": {
    "saveOutput": true,
    "language_info": {
      "name": "csharp"
    }
  },
  "nbformat": 4,
  "nbformat_minor": 2,
  "cells": [
    {
      "cell_type": "markdown",
      "metadata": {},
      "source": [
        "# User-Defined Functions with Complex Types in .NET for Apache Spark\n",
        "\n",
        "A user-defined function, or UDF, is a routine that can take in parameters, perform some sort of calculation, and then return a result. UDFs are a powerful mechanism to encapsulate your business logic and use the power of Spark to execute them at scale. This notebook explains how to construct UDFs in C# and includes example functions, such as how to use UDFs with complex Row objects.\n",
        "\n",
        "[Addition Reading](https://docs.microsoft.com/en-us/dotnet/spark/how-to-guides/deploy-worker-udf-binaries)\n",
        "\n",
        "Now let's get started with some examples!"
      ],
      "attachments": {}
    },
    {
      "cell_type": "markdown",
      "metadata": {},
      "source": [
        "## Create a simple DataFrame\n",
        "\n",
        "Create a DataFrame which will be used in the following examples."
      ],
      "attachments": {}
    },
    {
      "cell_type": "code",
      "execution_count": null,
      "outputs": [],
      "metadata": {},
      "source": [
        "DataFrame df = spark.Range(0, 5).WithColumn(\"structId\", Struct(\"id\"));"
      ],
      "attachments": {}
    },
    {
      "cell_type": "markdown",
      "metadata": {},
      "source": [
        "## UDF that takes in Row objects\n",
        "\n",
        "Now, let us define a UDF that takes in Row objects and adds 100 to the original data's first column.\n",
        ""
      ],
      "attachments": {}
    },
    {
      "cell_type": "code",
      "execution_count": 17,
      "outputs": [],
      "metadata": {},
      "source": [
        "Func<Column, Column> udf1 = Udf<Row, int>(\n",
        "    row => row.GetAs<int>(0) + 100);"
      ],
      "attachments": {}
    },
    {
      "cell_type": "markdown",
      "metadata": {},
      "source": [
        "We now show how to use a UDF with DataFrames"
      ],
      "attachments": {}
    },
    {
      "cell_type": "code",
      "execution_count": 16,
      "outputs": [
        {
          "output_type": "execute_result",
          "data": {
            "text/plain": "+-----+\n|newId|\n+-----+\n|  100|\n|  101|\n|  102|\n|  103|\n|  104|\n+-----+"
          },
          "execution_count": 16,
          "metadata": {}
        }
      ],
      "metadata": {},
      "source": [
        "df.Select(udf1(df[\"structId\"]).As(\"newId\")).Show();"
      ],
      "attachments": {}
    },
    {
      "cell_type": "markdown",
      "metadata": {},
      "source": [
        "## UDF that returns Row objects\n",
        "\n",
        "Often times, you might want to accept a Row as input, and construct a **new** Row based on some complex business logic. You can do this as follows:\n",
        ""
      ],
      "attachments": {}
    },
    {
      "cell_type": "code",
      "execution_count": 19,
      "outputs": [],
      "metadata": {},
      "source": [
        "using Microsoft.Spark.Sql.Types;\n",
        "\n",
        "// First define the schema for Row objects\n",
        "var schema = new StructType(new[]\n",
        "{\n",
        "    new StructField(\"col1\", new IntegerType()),\n",
        "    new StructField(\"col2\", new StringType())\n",
        "});\n",
        "\n",
        "// Then define UDF that returns Row objects          \n",
        "Func<Column, Column> udf2 = Udf<int>(\n",
        "    id => new GenericRow(new object[] { id, \"abc\" }), schema);"
      ],
      "attachments": {}
    },
    {
      "cell_type": "code",
      "execution_count": 21,
      "outputs": [
        {
          "output_type": "execute_result",
          "data": {
            "text/plain": "+-----------+\n|newStructId|\n+-----------+\n|   [0, abc]|\n|   [1, abc]|\n|   [2, abc]|\n|   [3, abc]|\n|   [4, abc]|\n+-----------+"
          },
          "execution_count": 21,
          "metadata": {}
        }
      ],
      "metadata": {},
      "source": [
        "// Use UDF with DataFrames\n",
        "df.Select(udf2(df[\"id\"]).As(\"newStructId\")).Show();"
      ],
      "attachments": {}
    },
    {
      "cell_type": "markdown",
      "metadata": {},
      "source": [
        "## Chained UDF with Row objects\n",
        ""
      ],
      "attachments": {}
    },
    {
      "cell_type": "code",
      "execution_count": 22,
      "outputs": [
        {
          "output_type": "execute_result",
          "data": {
            "text/plain": "+---------+\n|chainedId|\n+---------+\n|      100|\n|      101|\n|      102|\n|      103|\n|      104|\n+---------+"
          },
          "execution_count": 22,
          "metadata": {}
        }
      ],
      "metadata": {},
      "source": [
        "// Chained UDF using udf1 and udf2 defined above.\n",
        "df.Select(udf1(udf2(df[\"id\"])).As(\"chainedId\")).Show();"
      ],
      "attachments": {}
    }
  ]
}