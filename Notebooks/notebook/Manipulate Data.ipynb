{
  "metadata": {
    "saveOutput": true,
    "language_info": {
      "name": "python"
    }
  },
  "nbformat": 4,
  "nbformat_minor": 2,
  "cells": [
    {
      "cell_type": "markdown",
      "metadata": {},
      "source": [
        "# Explore NYC Yellow Taxi Data using Spark\n",
        "\n",
        "In this notebook, you'll learn the basic steps to load and analyze an Open Dataset that tracks NYC Yellow Taxi trips with Apache Spark for Azure Synapse.\n",
        "\n",
        "\n",
        ""
      ],
      "attachments": {}
    },
    {
      "cell_type": "markdown",
      "metadata": {},
      "source": [
        "## Load Data\n",
        "\n",
        "Read NYC Yellow Taxi data as a Spark DataFrame object to manipulate."
      ],
      "attachments": {}
    },
    {
      "cell_type": "code",
      "execution_count": 1,
      "outputs": [],
      "metadata": {},
      "source": [
        "# Read NYC yellow cab data from Azure Open Datasets\n",
        "from azureml.opendatasets import NycTlcYellow\n",
        "\n",
        "from datetime import datetime\n",
        "from dateutil import parser\n",
        "\n",
        "end_date = parser.parse('2018-05-08 00:00:00')\n",
        "start_date = parser.parse('2018-05-01 00:00:00')\n",
        "\n",
        "nyc_tlc = NycTlcYellow(start_date=start_date, end_date=end_date)\n",
        "df_nyc_tlc = nyc_tlc.to_spark_dataframe()"
      ],
      "attachments": {}
    },
    {
      "cell_type": "markdown",
      "metadata": {},
      "source": [
        "## Analyze the NYC Taxi data using Spark and notebooks\n",
        ""
      ],
      "attachments": {}
    },
    {
      "cell_type": "code",
      "execution_count": 2,
      "outputs": [
        {
          "output_type": "execute_result",
          "data": {
            "text/plain": "root\n |-- vendorID: string (nullable = true)\n |-- tpepPickupDateTime: timestamp (nullable = true)\n |-- tpepDropoffDateTime: timestamp (nullable = true)\n |-- passengerCount: integer (nullable = true)\n |-- tripDistance: double (nullable = true)\n |-- puLocationId: string (nullable = true)\n |-- doLocationId: string (nullable = true)\n |-- startLon: double (nullable = true)\n |-- startLat: double (nullable = true)\n |-- endLon: double (nullable = true)\n |-- endLat: double (nullable = true)\n |-- rateCodeId: integer (nullable = true)\n |-- storeAndFwdFlag: string (nullable = true)\n |-- paymentType: string (nullable = true)\n |-- fareAmount: double (nullable = true)\n |-- extra: double (nullable = true)\n |-- mtaTax: double (nullable = true)\n |-- improvementSurcharge: string (nullable = true)\n |-- tipAmount: double (nullable = true)\n |-- tollsAmount: double (nullable = true)\n |-- totalAmount: double (nullable = true)\n |-- puYear: integer (nullable = true)\n |-- puMonth: integer (nullable = true)"
          },
          "execution_count": 2,
          "metadata": {}
        }
      ],
      "metadata": {},
      "source": [
        "df_nyc_tlc.printSchema()"
      ],
      "attachments": {}
    },
    {
      "cell_type": "code",
      "execution_count": 3,
      "outputs": [
        {
          "output_type": "execute_result",
          "data": {
            "application/json": {
              "table": {
                "rows": [
                  {
                    "passengerCount": 1,
                    "AvgTripDistance": 2.955385293728598,
                    "SumTripDistance": 4624873.580000002
                  },
                  {
                    "passengerCount": 6,
                    "AvgTripDistance": 3.0823106614325835,
                    "SumTripDistance": 187660.31999999998
                  },
                  {
                    "passengerCount": 3,
                    "AvgTripDistance": 3.124120509875713,
                    "SumTripDistance": 274744.52999999985
                  },
                  {
                    "passengerCount": 5,
                    "AvgTripDistance": 3.1096431007047065,
                    "SumTripDistance": 314624.3600000001
                  },
                  {
                    "passengerCount": 9,
                    "AvgTripDistance": 6.23,
                    "SumTripDistance": 49.84
                  },
                  {
                    "passengerCount": 4,
                    "AvgTripDistance": 3.132080374155551,
                    "SumTripDistance": 126570.49999999999
                  },
                  {
                    "passengerCount": 8,
                    "AvgTripDistance": 7.831666666666666,
                    "SumTripDistance": 46.989999999999995
                  },
                  {
                    "passengerCount": 7,
                    "AvgTripDistance": 2.382,
                    "SumTripDistance": 11.91
                  },
                  {
                    "passengerCount": 2,
                    "AvgTripDistance": 3.1983281312300624,
                    "SumTripDistance": 1026740.0899999996
                  },
                  {
                    "passengerCount": 0,
                    "AvgTripDistance": 2.9365876998482907,
                    "SumTripDistance": 50327.240000000005
                  }
                ],
                "schema": {
                  "passengerCount": "int",
                  "AvgTripDistance": "double",
                  "SumTripDistance": "double"
                }
              },
              "isSummary": false,
              "language": "scala"
            }
          },
          "execution_count": 3,
          "metadata": {}
        }
      ],
      "metadata": {
        "diagram": {
          "activateDiagramType": 1,
          "chartConfig": {
            "category": "bar",
            "keys": [
              "AvgTripDistance"
            ],
            "values": [
              "passengerCount"
            ],
            "yLabel": "passengerCount",
            "xLabel": "AvgTripDistance",
            "aggregation": "SUM",
            "aggByBackend": false
          },
          "aggData": "{\"passengerCount\":{\"2.382\":7,\"2.9365876998482907\":0,\"2.955385293728598\":1,\"3.0823106614325835\":6,\"3.1096431007047065\":5,\"3.124120509875713\":3,\"3.132080374155551\":4,\"3.1983281312300624\":2,\"6.23\":9,\"7.831666666666666\":8}}",
          "isSummary": false,
          "previewData": {
            "filter": null
          },
          "isSql": false
        }
      },
      "source": [
        "from pyspark.sql import functions as F\n",
        "df_nyc = df_nyc_tlc.groupBy(\"passengerCount\").agg(F.avg('tripDistance').alias('AvgTripDistance'), F.sum('tripDistance').alias('SumTripDistance'))\n",
        "display(df_nyc)"
      ],
      "attachments": {}
    },
    {
      "cell_type": "markdown",
      "metadata": {},
      "source": [
        "## Customize data visualization with Spark and notebooks\n",
        "You can control how charts render by using notebooks. The following code shows a simple example. It uses the popular libraries matplotlib and seaborn. The code renders the same kind of line chart as the SQL queries we ran earlier.\n",
        "\n",
        ""
      ],
      "attachments": {}
    },
    {
      "cell_type": "code",
      "execution_count": 4,
      "outputs": [
        {
          "output_type": "execute_result",
          "data": {
            "image/png": "[encoded data removed]"
          },
          "execution_count": 4,
          "metadata": {}
        }
      ],
      "metadata": {},
      "source": [
        "import matplotlib.pyplot\n",
        "import seaborn\n",
        "\n",
        "seaborn.set(style = \"whitegrid\")\n",
        "pdf_nyc = df_nyc.toPandas()\n",
        "seaborn.lineplot(x=\"passengerCount\", y=\"SumTripDistance\" , data = pdf_nyc)\n",
        "seaborn.lineplot(x=\"passengerCount\", y=\"AvgTripDistance\" , data = pdf_nyc)\n",
        "matplotlib.pyplot.show()"
      ],
      "attachments": {}
    },
    {
      "cell_type": "markdown",
      "metadata": {},
      "source": [
        "## Clean up resources\n",
        "To ensure the Spark instance is shut down, end any connected sessions(notebooks). The pool shuts down when the **idle time** specified in the Apache Spark pool is reached. You can also select **stop session** from the status bar at the upper right of the notebook.\n",
        "\n",
        "![stopsession](https://adsnotebookrelease.blob.core.windows.net/adsnotebookrelease/adsnotebook/image/stopsession.png)"
      ],
      "attachments": {}
    }
  ]
}