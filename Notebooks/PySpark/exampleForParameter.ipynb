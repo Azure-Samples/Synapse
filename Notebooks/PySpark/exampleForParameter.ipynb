{
  "cells": [
    {
      "cell_type": "code",
      "source": [
        "account_name = '<Your primary storage account name>' # fill in your primary account name\r\n",
        "container_name = '<Your container name>' # fill in your container name\r\n",
        "relative_path = '<Your relative path>' # fill in your relative folder path"
      ],
      "outputs": [
        {
          "output_type": "display_data",
          "data": {
            "application/vnd.livy.statement-meta+json": {
              "spark_pool": "sparkpool01",
              "session_id": 0,
              "statement_id": 3,
              "state": "finished",
              "livy_statement_state": "available",
              "queued_time": "2021-09-17T06:08:57.5750046Z",
              "session_start_time": null,
              "execution_start_time": "2021-09-17T06:08:57.6725894Z",
              "execution_finish_time": "2021-09-17T06:08:57.6728166Z"
            },
            "text/plain": "StatementMeta(sparkpool01, 0, 3, Finished, Available)"
          },
          "metadata": {}
        }
      ],
      "execution_count": 3,
      "metadata": {
        "tags": [
          "parameters"
        ]
      }
    },
    {
      "cell_type": "code",
      "source": [
        "from pyspark.sql import SparkSession\r\n",
        "from pyspark.sql.types import *\r\n",
        "\r\n",
        "adls_path = 'abfss://%s@%s.dfs.core.windows.net/%s' % (container_name, account_name, relative_path)\r\n",
        "print('Primary storage account path: ' + adls_path)"
      ],
      "outputs": [
        {
          "output_type": "display_data",
          "data": {
            "application/vnd.livy.statement-meta+json": {
              "spark_pool": "sparkpool01",
              "session_id": 0,
              "statement_id": 4,
              "state": "finished",
              "livy_statement_state": "available",
              "queued_time": "2021-09-17T06:09:00.1736428Z",
              "session_start_time": null,
              "execution_start_time": "2021-09-17T06:09:00.273459Z",
              "execution_finish_time": "2021-09-17T06:09:00.4351164Z"
            },
            "text/plain": "StatementMeta(sparkpool01, 0, 4, Finished, Available)"
          },
          "metadata": {}
        },
        {
          "output_type": "stream",
          "name": "stdout",
          "text": [
            "Primary storage account path: abfss://test0121@lilijing0227neur.dfs.core.windows.net/test01/"
          ]
        }
      ],
      "execution_count": 4,
      "metadata": {
        "jupyter": {
          "source_hidden": false,
          "outputs_hidden": false
        },
        "nteract": {
          "transient": {
            "deleting": false
          }
        }
      }
    }
  ],
  "metadata": {
    "language_info": {
      "name": "python"
    },
    "kernelspec": {
      "name": "synapse_pyspark",
      "language": "Python",
      "display_name": "Synapse PySpark"
    },
    "kernel_info": {
      "name": "synapse_pyspark"
    },
    "save_output": true,
    "synapse_widget": {
      "version": "0.1",
      "state": {}
    }
  },
  "nbformat": 4,
  "nbformat_minor": 2
}