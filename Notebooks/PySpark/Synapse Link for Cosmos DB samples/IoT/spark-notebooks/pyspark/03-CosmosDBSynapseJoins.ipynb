{
  "metadata": {
    "saveOutput": false,
    "language_info": {
      "name": "python"
    }
  },
  "nbformat": 4,
  "nbformat_minor": 2,
  "cells": [
    {
      "cell_type": "markdown",
      "metadata": {},
      "source": [
        "# Joins and aggregations across Azure Cosmos DB collections using Azure Synapse Link \n",
        "In this notebook, we'll \n",
        "\n",
        "1. Create Spark tables pointing to [Azure Cosmos DB Analytical store](https://docs.microsoft.com/en-us/azure/cosmos-db/analytical-store-introduction) collections\n",
        "2. Perform Joins, filters and aggregations across collections using Spark-SQL\n",
        "3. Visualize the data using plotly and displayHTML()\n",
        "\n",
        ">**Did you know?**  [Azure Synapse Link for Azure Cosmos DB](https://docs.microsoft.com/en-us/azure/cosmos-db/synapse-link) is a hybrid transactional and analytical processing (HTAP) capability that enables you to run near real-time analytics over operational data in Azure Cosmos DB.\n",
        "&nbsp;\n",
        "\n",
        ">**Did you know?**  [Azure Cosmos DB analytical store](https://docs.microsoft.com/en-us/azure/cosmos-db/analytical-store-introduction) is a fully isolated column store for enabling large scale analytics against operational data in your Azure Cosmos DB, without any impact to your transactional workloads.\n",
        "&nbsp;\n",
        "\n",
        ">**Did you know?**  Spark tables created on top of Azure Cosmos DB Collections are metadata tables, passing the queries to the corresponding collections.\n"
      ],
      "attachments": {}
    },
    {
      "cell_type": "markdown",
      "metadata": {},
      "source": [
        "### 1. Create Spark tables pointing to the Azure Cosmos DB Analytical Store collections using Azure Synapse Link \n",
        ">**Did you know?**  \"cosmos.olap\" is the Synapse Link Spark format that enables connection to the Azure Cosmos DB Analytical store collections.\n",
        "\n",
        ">**Did you know?**  The Cosmos DB Linked Service in Synapse abstracts the connection configs for the Azure Cosmos DB Database. \n",
        "\n",
        ">[Click here](https://docs.microsoft.com/en-us/azure/synapse-analytics/synapse-link/how-to-connect-synapse-link-cosmos-db#connect-an-azure-cosmos-db-database-to-a-synapse-workspace) to learn how to setup a Linked Service to connect Azure Cosmos DB database to the Azure Synapse workspace"
      ],
      "attachments": {}
    },
    {
      "cell_type": "code",
      "execution_count": 3,
      "outputs": [],
      "metadata": {
        "diagram": {
          "activateDiagramType": 1,
          "chartConfig": {
            "category": "bar",
            "keys": [],
            "values": [],
            "yLabel": "",
            "xLabel": "",
            "aggregation": "SUM",
            "aggByBackend": false
          },
          "aggData": {},
          "isSummary": false,
          "previewData": {
            "filter": null
          },
          "isSql": true
        }
      },
      "source": [
        "%%sql\n",
        "create database CosmosDBIoTDemo"
      ],
      "attachments": {}
    },
    {
      "cell_type": "code",
      "execution_count": 4,
      "outputs": [],
      "metadata": {
        "diagram": {
          "activateDiagramType": 1,
          "chartConfig": {
            "category": "bar",
            "keys": [],
            "values": [],
            "yLabel": "",
            "xLabel": "",
            "aggregation": "SUM",
            "aggByBackend": false
          },
          "aggData": {},
          "isSummary": false,
          "previewData": {
            "filter": null
          },
          "isSql": true
        }
      },
      "source": [
        "%%sql\n",
        "\n",
        "create table if not exists CosmosDBIoTDemo.IoTSignals\n",
        "using cosmos.olap\n",
        "options(spark.synapse.linkedService 'CosmosDBIoTDemo',\n",
        "        spark.cosmos.container 'IoTSignals')\n",
        ""
      ],
      "attachments": {}
    },
    {
      "cell_type": "code",
      "execution_count": 5,
      "outputs": [],
      "metadata": {
        "diagram": {
          "activateDiagramType": 1,
          "chartConfig": {
            "category": "bar",
            "keys": [],
            "values": [],
            "yLabel": "",
            "xLabel": "",
            "aggregation": "SUM",
            "aggByBackend": false
          },
          "aggData": {},
          "isSummary": false,
          "previewData": {
            "filter": null
          },
          "isSql": true
        }
      },
      "source": [
        "%%sql\n",
        "\n",
        "create table if not exists CosmosDBIoTDemo.IoTDeviceInfo\n",
        "using cosmos.olap\n",
        "options(spark.synapse.linkedService 'CosmosDBIoTDemo',\n",
        "        spark.cosmos.container 'IoTDeviceInfo')\n",
        ""
      ],
      "attachments": {}
    },
    {
      "cell_type": "markdown",
      "metadata": {},
      "source": [
        "### 2. Perform Joins across collections, apply filters and aggregations using Spark SQL \n",
        "\n",
        ">**Did you know?**  Queries against Cosmos DB Analytical store is served independent of the transactional workload traffic without consuming any of the throughput provisioned for your operational data.\n",
        "\n",
        ">**Did you know?**  Cosmos DB Analytical store uses columnar storage and is optimized for large-scale analytics workloads.\n",
        "\n",
        ">**Did you know?**  Cosmos DB analytical store follows a cost effective consumption-based pricing model, which is based on data storage and analytical read/write operationsand queries executed and doesn’t require you to provision any throughput."
      ],
      "attachments": {}
    },
    {
      "cell_type": "code",
      "execution_count": 6,
      "outputs": [],
      "metadata": {},
      "source": [
        "df_RPM_details = spark.sql(\"select a.deviceid \\\n",
        "                                 , b.devicetype \\\n",
        "                                 , cast(b.location as string) as location\\\n",
        "                                 , cast(b.latitude as float) as latitude\\\n",
        "                                 , cast(b.longitude as float) as  longitude\\\n",
        "                                 , a.measuretype \\\n",
        "                                 , a.unitSymbol \\\n",
        "                                 , cast(sum(measureValue) as float) as measureValueSum \\\n",
        "                                 , count(*) as count \\\n",
        "                            from CosmosDBIoTDemo.IoTSignals a \\\n",
        "                            left join CosmosDBIoTDemo.IoTDeviceInfo b \\\n",
        "                            on a.deviceid = b.deviceid \\\n",
        "                            where a.unitSymbol = 'RPM' \\\n",
        "                            group by a.deviceid, b.devicetype, b.location, b.latitude, b.longitude, a.measuretype, a.unitSymbol\")"
      ],
      "attachments": {}
    },
    {
      "cell_type": "markdown",
      "metadata": {},
      "source": [
        "### View or chart the result-set using display() function\n",
        ""
      ],
      "attachments": {}
    },
    {
      "cell_type": "code",
      "execution_count": 7,
      "outputs": [],
      "metadata": {
        "outputCollapsed": true,
        "diagram": {
          "activateDiagramType": 2,
          "chartConfig": {
            "category": "bar",
            "keys": [
              "deviceid"
            ],
            "values": [
              "deviceid",
              "measureValueSum"
            ],
            "yLabel": "deviceid,measureValueSum",
            "xLabel": "deviceid",
            "aggregation": "SUM",
            "aggByBackend": false,
            "isValid": true,
            "inValidMsg": null
          },
          "aggData": {
            "deviceid": {
              "dev-0": 0,
              "dev-1": 0,
              "dev-2": 0,
              "dev-3": 0,
              "dev-4": 0,
              "dev-5": 0,
              "dev-6": 0,
              "dev-7": 0,
              "dev-8": 0,
              "dev-9": 0
            },
            "measureValueSum": {
              "dev-0": 70966448,
              "dev-1": 86676260,
              "dev-2": 93391084,
              "dev-3": 79544540,
              "dev-4": 79326148,
              "dev-5": 83887648,
              "dev-6": 89658328,
              "dev-7": 79591080,
              "dev-8": 83887216,
              "dev-9": 83418944
            }
          },
          "isSummary": false,
          "previewData": {
            "filter": null
          },
          "isSql": false
        }
      },
      "source": [
        "display(df_RPM_details)"
      ],
      "attachments": {}
    },
    {
      "cell_type": "markdown",
      "metadata": {},
      "source": [
        "### 3. Visualizations using plotly and displayHTML()\n",
        "The below shows a heatmap of IoT signals across diffrent locations"
      ],
      "attachments": {}
    },
    {
      "cell_type": "code",
      "execution_count": 8,
      "outputs": [],
      "metadata": {},
      "source": [
        "from plotly.offline import plot\n",
        "import plotly.express as px\n",
        "\n",
        "df_RPM_details_pd = df_RPM_details.toPandas()\n",
        "fig = px.scatter_mapbox(df_RPM_details_pd, \n",
        "                        lat='latitude', \n",
        "                        lon='longitude', \n",
        "                        size = 'measureValueSum',\n",
        "                        color = 'measureValueSum',\n",
        "                        hover_name = 'location',\n",
        "                        hover_data = ['measureValueSum','location'],\n",
        "                        size_max = 30,\n",
        "                        color_continuous_scale = px.colors.carto.Temps,\n",
        "                        zoom=3,\n",
        "                        height=600,\n",
        "                        width =900)\n",
        "\n",
        "fig.update_layout(mapbox_style='open-street-map')\n",
        "fig.update_layout(margin={\"r\":0,\"t\":0,\"l\":0,\"b\":0})\n",
        "\n",
        "p = plot(fig,output_type='div')\n",
        "displayHTML(p)       "
      ],
      "attachments": {}
    },
    {
      "cell_type": "markdown",
      "metadata": {},
      "source": [
        "<img src=\"https://revin.blob.core.windows.net/synapselinknotebooks/RPMHeatmap.PNG\" width=\"1400\" style=\"float: center;\"/>\n",
        ""
      ],
      "attachments": {}
    }
  ]
}