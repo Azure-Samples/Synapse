{
  "metadata": {
    "saveOutput": false,
    "language_info": {
      "name": "python"
    }
  },
  "nbformat": 4,
  "nbformat_minor": 2,
  "cells": [
    {
      "cell_type": "markdown",
      "metadata": {},
      "source": [
        "# Batch ingestion into Azure Cosmos DB collection\n",
        "\n",
        "In this notebook, we'll \n",
        "\n",
        "1. Load the IoTDeviceInfo dataset from ADLS Gen2 to a dataframe\n",
        "2. Write the dataframe to the Azure Cosmos DB collection\n",
        "\n",
        ">**Did you know?**  [Azure Synapse Link for Azure Cosmos DB](https://docs.microsoft.com/en-us/azure/cosmos-db/synapse-link) is a hybrid transactional and analytical processing (HTAP) capability that enables you to run near real-time analytics over operational data in Azure Cosmos DB.\n",
        "&nbsp;\n",
        "\n",
        ">**Did you know?**  [Azure Cosmos DB analytical store](https://docs.microsoft.com/en-us/azure/cosmos-db/analytical-store-introduction) is a fully isolated column store for enabling large scale analytics against operational data in your Azure Cosmos DB, without any impact to your transactional workloads.\n",
        "&nbsp;\n"
      ],
      "attachments": {}
    },
    {
      "cell_type": "markdown",
      "metadata": {},
      "source": [
        "### 1. Load the IoTDeviceInfo dataset from ADLS Gen2 to a dataframe\n",
        ">**Did you know?**  The Synapse workspace is attached to an ADLS Gen2 storage account and the files placed on the default storage account can be accessed using the relative path as below.\n",
        "&nbsp;\n",
        "\n",
        ""
      ],
      "attachments": {}
    },
    {
      "cell_type": "code",
      "execution_count": 3,
      "outputs": [],
      "metadata": {},
      "source": [
        "dfDeviceInfo = (spark\n",
        "                .read\n",
        "                .csv(\"/IoTData/IoTDeviceInfo.csv\", header=True, inferSchema='true')\n",
        "              )"
      ],
      "attachments": {}
    },
    {
      "cell_type": "markdown",
      "metadata": {},
      "source": [
        "### 2. Write the dataframe to the Azure Cosmos DB collection\n",
        ">**Did you know?** The \"cosmos.oltp\" is the Spark format that enables connection to the Cosmos DB Transactional store.\n",
        "\n",
        ">**Did you know?** The ingestion to the Azure Cosmos DB collection is always performed through the Transactional store irrespective of whether the Analytical Store is enabled or not."
      ],
      "attachments": {}
    },
    {
      "cell_type": "code",
      "execution_count": 4,
      "outputs": [],
      "metadata": {},
      "source": [
        "dfDeviceInfo.write\\\n",
        "            .format(\"cosmos.oltp\")\\\n",
        "            .option(\"spark.synapse.linkedService\", \"CosmosDBIoTDemo\")\\\n",
        "            .option(\"spark.cosmos.container\", \"IoTDeviceInfo\")\\\n",
        "            .option(\"spark.cosmos.write.upsertEnabled\", \"true\")\\\n",
        "            .mode('append')\\\n",
        "            .save()\n",
        ""
      ],
      "attachments": {}
    }
  ]
}