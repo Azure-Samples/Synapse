{
  "cells": [
    {
      "cell_type": "markdown",
      "metadata": {},
      "source": [
        "# Near real-time sales forecasting leveraging Synapse Link for Azure Cosmos DB\n",
        "\n",
        "## Key Information about this notebook\n",
        "\n",
        "* This notebook is part of the Azure Synapse Link for Azure Cosmos DB analitycal sample notebooks. For more information, click [here](../../../README.md). \n",
        "\n",
        "* It was build for Azure Cosmos DB SQL API but you can, by yourself, customize it for Azure Cosmos DB API for MongoDB. Please read about the analytical store inference schema differences between these 2 APIs [here](https://docs.microsoft.com/azure/cosmos-db/analytical-store-introduction#analytical-schema). \n",
        "\n",
        "* This is a Synapse Notebook and it was created to run in Synapse Analytics workspaces. Please make sure that you followed the pre-reqs of the [README](/README.md) file. After that, please execute the steps below in the same order that they are presented here. \n",
        "\n",
        "* From now on, all operations are case sentitive. Please be careful with everything you need to type.\n",
        "\n",
        "## Predictive Analytics\n",
        "\n",
        "Predictive analytics can help us to study and discover the factors that determine the number of sales that a retail store will have in the future.\n",
        "\n",
        "This notebook scenario is [Microsoft Surface](https://www.microsoft.com/en-us/surface) sales forecasting, with artificially created data. The business challenge is a **distributor that wants to predict how many units are necessary in the local warehouse to supply the stores in the area.**\n",
        "\n",
        "We will use Quantitative Models to forecast future data as a function of past data. They are appropriate to use when past numerical data is available and when it is reasonable to assume that some of the patterns in the data are expected to continue into the future. These methods are usually applied to short or intermediate range decisions. For more information, click [here](https://en.wikipedia.org/wiki/Forecasting).\n",
        "\n",
        "\n",
        "<img src=\"https://cosmosnotebooksdata.blob.core.windows.net/notebookdata/store.PNG\" alt=\"Surface Device\" width=\"75%\"/>\n",
        "\n",
        "## Environment Creation\n",
        "\n",
        "The required steps are listed below. Please check the availabilty and try to colocate all these services in the same Azure region. Also, if you already have any of these services, created in another sample notebook, it is not required to create new ones.\n",
        "\n",
        "1. [README](/README.md) file pre-reqs.\n",
        "1. Load the data using the [Batch Ingestion notebook](1CosmoDBSynapseSparkBatchIngestion.ipynb).\n",
        "1. Create an Azure Machine Learning workspace using [this](https://docs.microsoft.com/en-us/azure/machine-learning/how-to-manage-workspace) tutorial.\n",
        "1. Create an Azure Automated Machine Learning experiment using [this](https://docs.microsoft.com/en-us/azure/machine-learning/how-to-use-automated-ml-for-ml-models) tutorial. You don't need to run it, neither to create a compute cluster.\n",
        "1. Go to your **Synapse Spark Pool**, click on the **Packages Settings** tab, upload the [req.txt](req.txt) file located in this same folder, and click **force to get new settings on the spark pool** option. "
      ],
      "attachments": {}
    },
    {
      "cell_type": "markdown",
      "metadata": {},
      "source": [
        "## Leverage power of Spark SQL to join & aggregate operational data across Cosmos DB containers"
      ],
      "attachments": {}
    },
    {
      "cell_type": "code",
      "execution_count": null,
      "metadata": {},
      "outputs": [],
      "source": [
        "%%sql\n",
        "create database if not exists RetailSalesDemoDB"
      ]
    },
    {
      "cell_type": "code",
      "execution_count": null,
      "metadata": {},
      "outputs": [],
      "source": [
        "%%sql\n",
        "create table if not exists RetailSalesDemoDB.RetailSales using cosmos.olap options (\n",
        "    spark.synapse.linkedService 'RetailSalesDemoDB',\n",
        "    spark.cosmos.preferredRegions 'West US 2',\n",
        "    spark.cosmos.container 'RetailSales'\n",
        ")"
      ]
    },
    {
      "cell_type": "code",
      "execution_count": null,
      "metadata": {},
      "outputs": [],
      "source": [
        "%%sql\n",
        "create table if not exists RetailSalesDemoDB.StoreDemographics using cosmos.olap options (\n",
        "    spark.synapse.linkedService 'RetailSalesDemoDB',\n",
        "    spark.cosmos.preferredRegions 'West US 2',\n",
        "    spark.cosmos.container 'StoreDemoGraphics'\n",
        ")"
      ]
    },
    {
      "cell_type": "code",
      "execution_count": null,
      "metadata": {},
      "outputs": [],
      "source": [
        "%%sql\n",
        "create table if not exists RetailSalesDemoDB.Product using cosmos.olap options (\n",
        "    spark.synapse.linkedService 'RetailSalesDemoDB',\n",
        "    spark.cosmos.preferredRegions 'West US 2',\n",
        "    spark.cosmos.container 'Products'\n",
        ")"
      ]
    },
    {
      "cell_type": "code",
      "execution_count": null,
      "metadata": {},
      "outputs": [],
      "source": [
        "data = spark.sql(\"select a.storeId \\\n",
        "                       , b.productCode \\\n",
        "                       , b.wholeSaleCost \\\n",
        "                       , b.basePrice \\\n",
        "                       , c.ratioAge60 \\\n",
        "                       , c.collegeRatio \\\n",
        "                       , c.income \\\n",
        "                       , c.highIncome150Ratio \\\n",
        "                       , c.largeHH \\\n",
        "                       , c.minoritiesRatio \\\n",
        "                       , c.more1FullTimeEmployeeRatio \\\n",
        "                       , c.distanceNearestWarehouse \\\n",
        "                       , c.salesNearestWarehousesRatio \\\n",
        "                       , c.avgDistanceNearest5Supermarkets \\\n",
        "                       , c.salesNearest5StoresRatio \\\n",
        "                       , a.quantity \\\n",
        "                       , a.logQuantity \\\n",
        "                       , a.advertising \\\n",
        "                       , a.price \\\n",
        "                       , a.weekStarting \\\n",
        "                 from RetailSalesDemoDB.retailsales a \\\n",
        "                 left join RetailSalesDemoDB.product b \\\n",
        "                 on a.productcode = b.productcode \\\n",
        "                 left join RetailSalesDemoDB.storedemographics c \\\n",
        "                 on a.storeId = c.storeId \\\n",
        "                 order by a.weekStarting, a.storeId, b.productCode\")\n",
        "\n",
        "display(data)"
      ]
    },
    {
      "cell_type": "markdown",
      "metadata": {},
      "source": [
        "## Leverage power of Azure Machine Learning's AutoML to build a Forecasting Model\n",
        "\n",
        "### Setup \n",
        "Let's start with the AML Environment setup. Please replace all \"your-AML-%\" placeholders with your own information, that you can get from your AML workspace in the the Azure Portal.\n",
        ""
      ],
      "attachments": {}
    },
    {
      "cell_type": "code",
      "execution_count": 12,
      "outputs": [
        {
          "output_type": "execute_result",
          "data": {
            "text/plain": "Subscription ID   220fc532-6091-423c-8ba0-66c2397d591b\nWorkspace         rosouz-ml                           \nSKU               Enterprise                          \nResource Group    rosouz-analytics                    \nLocation          westus2                             \nRun History Name  automl-surfaceforecasting"
          },
          "execution_count": 12,
          "metadata": {}
        }
      ],
      "metadata": {},
      "source": [
        "import azureml.core\n",
        "import pandas as pd\n",
        "import numpy as np\n",
        "import logging\n",
        "from azureml.core.workspace import Workspace\n",
        "from azureml.core import Workspace\n",
        "from azureml.core.experiment import Experiment\n",
        "from azureml.train.automl import AutoMLConfig\n",
        "import os\n",
        "subscription_id = os.getenv(\"SUBSCRIPTION_ID\", default=\"your-AML-subscription-id\")\n",
        "resource_group = os.getenv(\"RESOURCE_GROUP\", default=\"your-AML-resource-group\")\n",
        "workspace_name = os.getenv(\"WORKSPACE_NAME\", default=\"your-AML-workspace-name\")\n",
        "workspace_region = os.getenv(\"WORKSPACE_REGION\", default=\"your-AML-region\")\n",
        "\n",
        "ws = Workspace(subscription_id = subscription_id, resource_group = resource_group, workspace_name = workspace_name)\n",
        "ws.write_config()\n",
        "    \n",
        "experiment_name = 'automl-surfaceforecasting'\n",
        "experiment = Experiment(ws, experiment_name)\n",
        "output = {}\n",
        "output['Subscription ID'] = ws.subscription_id\n",
        "output['Workspace'] = ws.name\n",
        "output['SKU'] = ws.sku\n",
        "output['Resource Group'] = ws.resource_group\n",
        "output['Location'] = ws.location\n",
        "output['Run History Name'] = experiment_name\n",
        "pd.set_option('display.max_colwidth', -1)\n",
        "outputDf = pd.DataFrame(data = output, index = [''])\n",
        "outputDf.T"
      ],
      "attachments": {}
    },
    {
      "cell_type": "markdown",
      "metadata": {},
      "source": [
        "### Data Preparation - Feature engineering, Splitting train & test datasets\n",
        ""
      ],
      "attachments": {}
    },
    {
      "cell_type": "code",
      "execution_count": 50,
      "outputs": [
        {
          "output_type": "execute_result",
          "data": {
            "text/plain": "Data subset contains 15 individual time-series.\n1422 300\nUploading an estimated of 2 files\nUploading ./SurfaceSales_test.csv\nUploading ./SurfaceSales_train.csv\nUploaded ./SurfaceSales_test.csv, 1 files out of an estimated total of 2\nUploaded ./SurfaceSales_train.csv, 2 files out of an estimated total of 2\nUploaded 2 files"
          },
          "execution_count": 50,
          "metadata": {}
        }
      ],
      "metadata": {},
      "source": [
        "# Initial variables\n",
        "time_column_name = 'weekStarting'\n",
        "grain_column_names = ['storeId', 'productCode']\n",
        "target_column_name = 'quantity'\n",
        "use_stores = [2, 5, 8,71,102]\n",
        "n_test_periods = 20\n",
        "\n",
        "\n",
        "#DataFrame\n",
        "df = data.toPandas()\n",
        "df[time_column_name] = pd.to_datetime(df[time_column_name])\n",
        "df['storeId'] = pd.to_numeric(df['storeId'])\n",
        "df['quantity'] = pd.to_numeric(df['quantity'])\n",
        "df['advertising'] = pd.to_numeric(df['advertising'])\n",
        "df['price'] = df['price'].astype(float)\n",
        "df['basePrice'] = df['basePrice'].astype(float)\n",
        "df['ratioAge60'] = df['ratioAge60'].astype(float)\n",
        "df['collegeRatio'] = df['collegeRatio'].astype(float)\n",
        "df['highIncome150Ratio'] = df['highIncome150Ratio'].astype(float)\n",
        "df['income'] = df['income'].astype(float)\n",
        "df['largeHH'] = df['largeHH'].astype(float)\n",
        "df['minoritiesRatio'] = df['minoritiesRatio'].astype(float)\n",
        "df['logQuantity'] = df['logQuantity'].astype(float)\n",
        "df['more1FullTimeEmployeeRatio'] = df['more1FullTimeEmployeeRatio'].astype(float)\n",
        "df['distanceNearestWarehouse'] = df['distanceNearestWarehouse'].astype(float)\n",
        "df['salesNearestWarehousesRatio'] = df['salesNearestWarehousesRatio'].astype(float)\n",
        "df['avgDistanceNearest5Supermarkets'] = df['avgDistanceNearest5Supermarkets'].astype(float)\n",
        "df['salesNearest5StoresRatio'] = df['salesNearest5StoresRatio'].astype(float)\n",
        "\n",
        "\n",
        "# Time Series\n",
        "data_subset = df[df.storeId.isin(use_stores)]\n",
        "nseries = data_subset.groupby(grain_column_names).ngroups\n",
        "print('Data subset contains {0} individual time-series.'.format(nseries))\n",
        "\n",
        "# Group by date\n",
        "def split_last_n_by_grain(df, n):\n",
        "    \"\"\"Group df by grain and split on last n rows for each group.\"\"\"\n",
        "    df_grouped = (df.sort_values(time_column_name) # Sort by ascending time\n",
        "                  .groupby(grain_column_names, group_keys=False))\n",
        "    df_head = df_grouped.apply(lambda dfg: dfg.iloc[:-n])\n",
        "    df_tail = df_grouped.apply(lambda dfg: dfg.iloc[-n:])\n",
        "    return df_head, df_tail\n",
        "\n",
        "# splitting\n",
        "train, test = split_last_n_by_grain(data_subset, n_test_periods)\n",
        "print(len(train),len(test))\n",
        "train.to_csv (r'./SurfaceSales_train.csv', index = None, header=True)\n",
        "test.to_csv (r'./SurfaceSales_test.csv', index = None, header=True)\n",
        "datastore = ws.get_default_datastore()\n",
        "datastore.upload_files(files = ['./SurfaceSales_train.csv', './SurfaceSales_test.csv'], target_path = 'dataset/', overwrite = True,show_progress = True)\n",
        "\n",
        "# loading the train dataset\n",
        "from azureml.core.dataset import Dataset\n",
        "train_dataset = Dataset.Tabular.from_delimited_files(path=datastore.path('dataset/SurfaceSales_train.csv'))"
      ],
      "attachments": {}
    },
    {
      "cell_type": "markdown",
      "metadata": {},
      "source": [
        "### Training the Models using AutoML Forecasting\n",
        "\n",
        "Please notice that **compute_target** is commented, meaning that the model training will run locally in Synapse Spark."
      ],
      "attachments": {}
    },
    {
      "cell_type": "code",
      "execution_count": 51,
      "outputs": [
        {
          "output_type": "execute_result",
          "data": {
            "text/plain": "Running on local machine\nParent Run ID: AutoML_5152d53c-3785-4995-ab9a-1b6bf42a4592\n\n\rCurrent status: DatasetFeaturization. Beginning to featurize the dataset.\n\rCurrent status: DatasetFeaturizationCompleted. Completed featurizing the dataset.\n\rCurrent status: DatasetCrossValidationSplit. Generating individually featurized CV splits.\n\rCurrent status: DatasetFeaturization. Beginning to featurize the CV split.\n\rCurrent status: DatasetFeaturizationCompleted. Completed featurizing the CV split.\n\rCurrent status: DatasetFeaturization. Beginning to featurize the CV split.\n\rCurrent status: DatasetFeaturizationCompleted. Completed featurizing the CV split.\n\rCurrent status: DatasetFeaturization. Beginning to featurize the CV split.\n\rCurrent status: DatasetFeaturizationCompleted. Completed featurizing the CV split.\n\n****************************************************************************************************\nDATA GUARDRAILS: \n\nTYPE:         Frequency detection\nSTATUS:       PASSED\nDESCRIPTION:  The time series was analyzed, all data points are aligned with detected frequency.\n\n****************************************************************************************************\n\rCurrent status: ModelSelection. Beginning model selection.\n\n****************************************************************************************************\nITERATION: The iteration being evaluated.\nPIPELINE: A summary description of the pipeline being evaluated.\nDURATION: Time taken for the current iteration.\nMETRIC: The result of computing score on the fitted pipeline.\nBEST: The best observed score thus far.\n****************************************************************************************************\n\n ITERATION   PIPELINE                                       DURATION      METRIC      BEST\n         0   StandardScalerWrapper ElasticNet               0:00:23       0.0310    0.0310\n         1   StandardScalerWrapper ElasticNet               0:00:18       0.0324    0.0310\n         2   StandardScalerWrapper ElasticNet               0:00:25       0.0308    0.0308\n         3   StandardScalerWrapper ElasticNet               0:00:22       0.0310    0.0308\n         4   StandardScalerWrapper LassoLars                0:00:17       0.0323    0.0308\n         5   StandardScalerWrapper ElasticNet               0:03:03       0.0304    0.0304\n         6   StandardScalerWrapper RandomForest             0:00:29       0.0274    0.0274\n         7   StandardScalerWrapper ExtremeRandomTrees       0:00:18       0.0150    0.0150\n         8   StandardScalerWrapper DecisionTree             0:00:17       0.0053    0.0053\n         9   MinMaxScaler GradientBoosting                  0:00:19       0.0212    0.0053\n        10   MinMaxScaler DecisionTree                      0:00:17       0.0097    0.0053\n        11   RobustScaler LassoLars                         0:00:17       0.0325    0.0053\n        12   MaxAbsScaler LightGBM                          0:00:20       0.0121    0.0053\n        13   StandardScalerWrapper ElasticNet               0:03:01       0.0305    0.0053\n        14   MinMaxScaler RandomForest                      0:00:17       0.0024    0.0024\n        15   StandardScalerWrapper LassoLars                0:00:17       0.0321    0.0024\n        16   StandardScalerWrapper ElasticNet               0:03:14       0.0325    0.0024\n        17   StandardScalerWrapper DecisionTree             0:00:27       0.0071    0.0024\n        18   MinMaxScaler DecisionTree                      0:00:21       0.0161    0.0024\n        19   RobustScaler DecisionTree                      0:00:17       0.0050    0.0024\n        20   StandardScalerWrapper ElasticNet               0:00:17       0.0305    0.0024\n        21   StandardScalerWrapper ElasticNet               0:00:17       0.0327    0.0024\n        22   StandardScalerWrapper ElasticNet               0:00:23       0.0361    0.0024\n        23   RobustScaler RandomForest                      0:00:20       0.0055    0.0024\n        24   SparseNormalizer LightGBM                      0:00:26       0.0277    0.0024\n        25   MinMaxScaler RandomForest                      0:00:19       0.0212    0.0024\n        26   RobustScaler ExtremeRandomTrees                0:00:18       0.0099    0.0024\n        27   StandardScalerWrapper ElasticNet               0:00:17       0.0301    0.0024\n        28   StandardScalerWrapper DecisionTree             0:02:58       0.0120    0.0024\n        29   SparseNormalizer DecisionTree                  0:00:17       0.0185    0.0024\n        30   VotingEnsemble                                 0:00:38       0.0024    0.0024\nStopping criteria reached at iteration 31. Ending experiment.\n****************************************************************************************************\n\rCurrent status: BestRunExplainModel. Best run model explanations started\n\rCurrent status: ModelExplanationDataSetSetup. Model explanations data setup completed\n\rCurrent status: EngineeredFeatureExplanations. Computation of engineered features started\n\rCurrent status: EngineeredFeatureExplanations. Computation of engineered features completed\n\rCurrent status: BestRunExplainModel. Best run model explanations completed\n****************************************************************************************************"
          },
          "execution_count": 51,
          "metadata": {}
        }
      ],
      "metadata": {},
      "source": [
        "# Parameters\n",
        "time_series_settings = {\n",
        "    'time_column_name': time_column_name,\n",
        "    'grain_column_names': grain_column_names,\n",
        "    'max_horizon': n_test_periods\n",
        "}\n",
        "\n",
        "# Config\n",
        "automl_config = AutoMLConfig(task='forecasting',\n",
        "                             debug_log='automl_ss_sales_errors.log',\n",
        "                             primary_metric='normalized_mean_absolute_error',\n",
        "                             experiment_timeout_hours=0.5,\n",
        "                             training_data=train_dataset,\n",
        "                             label_column_name=target_column_name,\n",
        "                             #compute_target=compute_target,\n",
        "                             enable_early_stopping=True,\n",
        "                             n_cross_validations=3,\n",
        "                             verbosity=logging.INFO,\n",
        "                             **time_series_settings)\n",
        "\n",
        "# Running the training\n",
        "remote_run = experiment.submit(automl_config, show_output=True)\n",
        "\n",
        ""
      ],
      "attachments": {}
    },
    {
      "cell_type": "markdown",
      "metadata": {},
      "source": [
        "### Retrieving the Best Model and Forecasting"
      ],
      "attachments": {}
    },
    {
      "cell_type": "code",
      "execution_count": 52,
      "outputs": [
        {
          "output_type": "execute_result",
          "data": {
            "text/plain": "[('timeseriestransformer', TimeSeriesTransformer(featurization_config=None, logger=None,\n           pipeline_type=<TimeSeriesPipelineType.FULL: 1>)), ('prefittedsoftvotingregressor', PreFittedSoftVotingRegressor(estimators=[('14', Pipeline(memory=None,\n     steps=[('minmaxscaler', MinMaxScaler(copy=True, feature_range=(0, 1))), ('randomforestregressor', RandomForestRegressor(bootstrap=True, criterion='mse', max_depth=None,\n           max_features=None, max_leaf_nodes=None,\n           min_impurity_decrease=0...    min_weight_fraction_leaf=0.0, presort=False, random_state=None,\n           splitter='best'))]))],\n               flatten_transform=None,\n               weights=[0.9333333333333333, 0.06666666666666667]))]\nAutoML5152d53c330"
          },
          "execution_count": 52,
          "metadata": {}
        }
      ],
      "metadata": {},
      "source": [
        "# Retrieving the best model\n",
        "best_run, fitted_model = remote_run.get_output()\n",
        "print(fitted_model.steps)\n",
        "model_name = best_run.properties['model_name']\n",
        "print(model_name)\n",
        "\n",
        "# Forecasting based on test dataset\n",
        "X_test = test\n",
        "y_test = X_test.pop(target_column_name).values\n",
        "X_test[time_column_name] = pd.to_datetime(X_test[time_column_name])\n",
        "y_predictions, X_trans = fitted_model.forecast(X_test)"
      ],
      "attachments": {}
    },
    {
      "cell_type": "markdown",
      "metadata": {},
      "source": [
        "### Plotting the Results"
      ],
      "attachments": {}
    },
    {
      "cell_type": "code",
      "execution_count": 53,
      "outputs": [
        {
          "output_type": "execute_result",
          "data": {
            "text/plain": "[Test data scores]\n\nroot_mean_squared_error:   9.510\nnormalized_root_mean_squared_error:   0.006\nnormalized_root_mean_squared_log_error:   0.002\nr2_score:   0.999\nroot_mean_squared_log_error:   0.012\nexplained_variance:   0.999\nmedian_absolute_error:   0.301\nmean_absolute_error:   2.822\nmean_absolute_percentage_error:   0.671\nnormalized_mean_absolute_error:   0.002\nspearman_correlation:   1.000\nnormalized_median_absolute_error:   0.000\n"
          },
          "execution_count": 53,
          "metadata": {}
        },
        {
          "output_type": "execute_result",
          "data": {
            "image/png": "data:image/png;base64,iVBORw0KGgoAAAANSUhEUgAAAkAAAAGdCAYAAAD60sxaAAAABHNCSVQICAgIfAhkiAAAAAlwSFlz\nAAAPYQAAD2EBqD+naQAAADh0RVh0U29mdHdhcmUAbWF0cGxvdGxpYiB2ZXJzaW9uMy4xLjEsIGh0\ndHA6Ly9tYXRwbG90bGliLm9yZy8QZhcZAAAgAElEQVR4nOzdeXxU9aH//9dkSAKBTCKBbCQQpC0C\ngqhQzNXQUJFFimASUFFARamymBBFinUBXECwkNi60avQX+sChKnrvfwElZIrESmaiwLlKmWNCShL\nhhDIcnK+fwwZGJJAlpls834+HvMgc87nnPkM6OO881ktpmmaiIiIiPgQv6augIiIiEhjUwASERER\nn6MAJCIiIj5HAUhERER8jgKQiIiI+BwFIBEREfE5CkAiIiLicxSARERExOe0aeoKeEtFRQU//PAD\nwcHBWCyWpq6OiIiI1IJpmpw8eZLo6Gj8/LzXTtNqA9APP/xAbGxsU1dDRERE6uHgwYPExMR47f6t\nNgAFBwcDzr9Am83WxLURERGR2nA4HMTGxrqe497SagNQZbeXzWZTABIREWlhvD18RYOgRURExOe0\n2hagizFNk/LycgzDaOqq+BSr1UqbNm00KF1ERJqczwWg0tJS8vPzKS4ubuqq+KSgoCCioqIICAho\n6qqIiIgP86kAVFFRwd69e7FarURHRxMQEKDWiEZimialpaX8+OOP7N27l5///Odend4oIiJyMT4V\ngEpLS6moqCA2NpagoKCmro7PadeuHf7+/uzfv5/S0lLatm3b1FUSEREf5ZO/gqvloeno715ERJqD\nOj+NNm3axOjRo4mOjsZisfDuu++6nbdYLNW+lixZ4ioTFxdX5fyiRYvc7rN9+3YSEhJo27YtsbGx\nLF68uJ5fUURERMRdnQPQqVOnuOqqq3jppZeqPZ+fn+/2euONN7BYLCQnJ7uVW7BggVu5mTNnus45\nHA6GDRtGt27d2LZtG0uWLGHevHksX768rtX1GMOAjRvh7bedf7aECWR/+tOfuPvuuwF4//33mTVr\n1kXLnzhxokoQve+++/jss8+8VUUREZEmUecxQCNHjmTkyJE1no+MjHR7/9577zFkyBAuv/xyt+PB\nwcFVylZ68803KS0t5Y033iAgIIA+ffqQm5vL0qVLmTp1al2r3GB2O6SmwqFD547FxEBmJiQlNV49\nysvLadOmfsO2brnlFm655ZaLlqkMQL/73e9cx/7zP/+zXp8nIiItn2FAdjbk5cGPP0LnztClCyQk\ngNXa1LVrGK8OyDh8+DAfffQRU6ZMqXJu0aJFhIWFcfXVV7NkyRLKy8td53Jychg8eLDbVOnhw4ez\ne/dujh8/Xu1nlZSU4HA43F6eYLdDSop7+AHnfwwpKc7zDWWxWHj88ce5+uqr+cUvfsGbb77pdu6p\np55i4MCBzJ07F4AXXniBX/7yl1xzzTWMGDGC/fv3A3Dy5Eluu+02evbsyQ033MA333zjus/KlSsZ\nO3as6/2KFSvo378/V111FQMGDGDfvn088MADnDx5kv79+zNgwAAAEhMTXd2cR44cISkpib59+3Ll\nlVfy2muvue4XFxfHk08+SXx8PN27d+eZZ55p+F+MiIg0Gbsd4uJgyBC46y6YNcv555AhzuOeeP41\nJa/OAvvLX/5CcHAwSRc0kzz00ENcc801dOzYkc2bNzN37lzy8/NZunQpAAUFBXTv3t3tmoiICNe5\nyy67rMpnLVy4kPnz53u0/obhbPkxzarnTBMsFkhLgzFjGp6ELRYLX3/9Nf/+978ZMGAA119/PXFx\ncYBzAcGtW7cC8NZbb7F7925ycnKwWq389a9/Zdq0aXz00UcsWLCAwMBA/vWvf+FwOLjuuusYNGhQ\nlc/auHEjCxYsYPPmzURFRbnWRHr11Vfp378/ubm51dZx5syZ9OzZE7vdzpEjR7j22mu56qqruO66\n6wBnC1JOTg4//fQTPXr04J577qFLly4N+4sREZFGV/nLf3XPP3A2CqSkQFZW4/aEeJJXA9Abb7zB\nnXfeWWW6c3p6uuvnfv36ERAQwG9/+1sWLlxIYGBgvT5r7ty5bvet3EytIbKzq7b8nM804eBBZ7nE\nxAZ9FPfddx8Al19+OYMHD2bTpk2uAHTvvfe6yr377rts3bqVa6+9FsBtNetPPvmEZcuWYbFYCAkJ\nYcKECezZs6fKZ3300UdMnDiRqKgogFovCbBhwwa2bdsGQHh4OElJSWzYsMEVgCZMmABAp06duPzy\ny9m7d68CkIhIC3OxX/7PZ5qeawRoCl4LQNnZ2ezevZtVq1ZdsuygQYMoLy9n37599OzZk8jISA4f\nPuxWpvJ9TeOGAgMD6x2eapKf79lydXH+Ao0dOnRw/WyaJnPnzq3VWChvL/J44f3PD7pWq9WtW1NE\nRFqGS/3yfz5PNQI0Ba+NAXr99dddXSSXkpubi5+fH+Hh4QDEx8ezadMmysrKXGXWr19Pz549q+3+\n8pazDSQeK3cxK1asAGDfvn1kZ2eTkJBQbbmxY8fy6quvcuzYMQDKysr4+uuvARg6dCgrVqzANE0c\nDgdvv/12tfcYPXo0f/vb38g/m9yKi4spLi7GZrNx+vRpSktLq71u6NCh/PnPfwbgxx9/xG63c9NN\nN9X/S4uISLNT11/qvdEI0Bjq3AJUVFTE999/73q/d+9ecnNz6dixI127dgWc3U9r1qzhD3/4Q5Xr\nc3Jy2LJlC0OGDCE4OJicnBxmzZrFXXfd5Qo3EyZMYP78+UyZMoU5c+bw7bffkpmZybJly+r7Pesl\nIcE52ysvr/qmQIvFeb6GrFInhmFw9dVXc+rUKV588UVX99eF7rzzTo4ePcqQIUMA58ywe++9l6uv\nvponnniC++67jyuuuILOnTtzww03UFJSUuUegwcP5qmnnmL48OFYLBYCAgLIysqiW7duTJo0iX79\n+tGhQwf++c9/ul334osv8uCDD9K3b19M0+T3v/99tWOMRESk5arrL/WeaARoEmYdffbZZyZQ5TV5\n8mRXmddee81s166deeLEiSrXb9u2zRw0aJAZEhJitm3b1uzVq5f53HPPmWfOnHEr97//+7/mDTfc\nYAYGBppdunQxFy1aVKd6FhYWmoBZWFjoOnb69Glz586d5unTp2t9n7VrTdNicb6cMcj5qjy2dm2d\nqlUtwDx+/HjDb9QC1OffQEREGk95uWnGxFR97lX3io11lvek6p7f3mAxzUsNc2qZHA4HISEhFBYW\nYrPZADhz5gx79+6le/fuddqHqrp1gGJjISPDM6PfLRYLx48fJzQ0tOE3a+bq+28gIiKN51KzwMDZ\nC+KNWWDVPb+9QRsz1UJSEuzbB599Bm+95fxz717P/aObpukT4UdERFqGpCRnuImJqf58bGzLngIP\nPrYbfENYrS1zlLuIiEh9JCU5p7i31pWgFYBERESkWq35l391gYmIiIjPUQASERERn6MusFoyKgyy\nD2STfzKfqOAoEromYPVr4R2gIiIitdAan4FqAaoF+y47cZlxDPnLECbYJzDkL0OIy4zDvsszW+HO\nmzePM2fO1OvajIwMCgoK3O6VlpbmkXqJiIh4+xnYVBSALsG+y07K6hQOOdw3Rslz5JGyOsUj/wHM\nnz+/2gBUm720LgxAIiIinrJmxxqSVyd79RnYVBSALsKoMEhdl4pJ1ZWgKo+lrUvDqDCqnK+tBx54\nAICEhAT69+/PzTffzL333svgwYO58sorAedCiSdOnHBd06lTJ/bt28eCBQv44YcfuO222+jfvz+5\nubkA5OfnM3r0aHr37s2vf/1r175hIiIitZW1I4s71t5R7TlPPQObkgLQRWQfyK6Ses9nYnLQcZDs\nA9n1/oxXX33V+VnZ2eTm5hIeHs62bdv46KOP+Ne//nXRa5988kmio6NZtWoVubm59O/fH4AtW7aw\ncuVKdu7cSXh4OK+99lq96yciIr7HvsvOuKxxGGbN4cYTz8CmpAB0Efkna7fFbW3L1da4ceMIDg6u\n9/UjRowgLCwMgPj4ePbs2eOpqomISCtX2ftRW55+BjYWBaCLiAqu3Ra3tS1XWx06dHB7b7VaMYxz\nKfxSA6bP32PLarXWaiyRiIgIXLr340KefgY2FgWgi0jomkCMLQYLlmrPW7AQa4sloWtCgz4nODiY\nwsLCGs//7Gc/Y8uWLQDY7XZOnTrlOmez2S56rYiISF3UpUXHE8/ApqIAdBFWPyuZIzIBqoSgyvcZ\nIzIavBbCww8/zE033UT//v05cuRIlfPLli0jNTWVa665hq+//trVvQXw0EMPcf/997sNghYREamv\nurToeOIZ2FQspnmxze5bLofDQUhICIWFhdhsNsDZdbR37166d+/u1k10KfZddlLXpbo1CcbaYskY\nkUFSrxa8FW4TqO+/gYiINA6jwiAuM448R161s6ABrBYrbye/zbg+4zz++dU9v71BK0HXQlKvJMb0\nHNPqVsEUERG5UGXvR8rqFCxYqg1B7yS/Q0qflCaonecoANWS1c9KYlxiU1dDRETE65J6JZE1PqtV\n9374ZABqpb1+LYL+7kVEWobW3vvhUwHI398fgOLiYtq1a9fEtfFNxcXFwLl/CxERab5ac++HTwUg\nq9VKaGioa6ZVUFAQFkv1U9zFs0zTpLi4mCNHjhAaGorV2jp+gxARkZbJpwIQQGRkJEC1083F+0JD\nQ13/BiIiIk3F5wKQxWIhKiqK8PBwysrKmro6PsXf318tPyIi0iz4XACqZLVa9TAWERHxUVoJWkRE\nRHyOApCIiIj4HAUgERER8TkKQCIiIuJzFIBERETE5ygAiYiIiM9RABIRERGfowAkIiIiPkcBSERE\nRHyOApCIiIj4HAUgERER8TkKQCIiIuJzFIBERETE5ygAiYiIiM+pcwDatGkTo0ePJjo6GovFwrvv\nvut2/u6778Zisbi9RowY4Vbm2LFj3HnnndhsNkJDQ5kyZQpFRUVuZbZv305CQgJt27YlNjaWxYsX\n1+PriYiIiFRV5wB06tQprrrqKl566aUay4wYMYL8/HzX6+2333Y7f+edd7Jjxw7Wr1/Phx9+yKZN\nm5g6darrvMPhYNiwYXTr1o1t27axZMkS5s2bx/Lly+taXREREZEq2tT1gpEjRzJy5MiLlgkMDCQy\nMrLac7t27WLdunVs3bqVAQMGAPDHP/6Rm2++mRdeeIHo6GjefPNNSktLeeONNwgICKBPnz7k5uay\ndOlSt6AkIiIiUh9eGQO0ceNGwsPD6dmzJw8++CBHjx51ncvJySE0NNQVfgCGDh2Kn58fW7ZscZUZ\nPHgwAQEBrjLDhw9n9+7dHD9+3BtVFhERER9S5xagSxkxYgRJSUl0796dPXv28NhjjzFy5EhycnKw\nWq0UFBQQHh7uXok2bejYsSMFBQUAFBQU0L17d7cyERERrnOXXXZZlc8tKSmhpKTE9d7hcHj6q4mI\niEgr4fEAdPvtt7t+7tu3L/369aNHjx5s3LiRG2+80dMf57Jw4ULmz5/vtfuLiIhI6+H1afCXX345\nnTp14vvvvwcgMjKSI0eOuJUpLy/n2LFjrnFDkZGRHD582K1M5fuaxhbNnTuXwsJC1+vgwYOe/ioi\nIiLSSng9AB06dIijR48SFRUFQHx8PCdOnGDbtm2uMp9++ikVFRUMGjTIVWbTpk2UlZW5yqxfv56e\nPXtW2/0FzoHXNpvN7SUiIiJSnToHoKKiInJzc8nNzQVg79695ObmcuDAAYqKipg9ezZffPEF+/bt\n45NPPmHMmDH87Gc/Y/jw4QD06tWLESNGcP/99/Pll1/y+eefM2PGDG6//Xaio6MBmDBhAgEBAUyZ\nMoUdO3awatUqMjMzSU9P9+BXFxEREV9lMU3TrMsFGzduZMiQIVWOT548mVdeeYWxY8fy9ddfc+LE\nCaKjoxk2bBhPP/20axAzOBdCnDFjBh988AF+fn4kJyfz4osv0qFDB1eZ7du3M336dLZu3UqnTp2Y\nOXMmc+bMqXU9HQ4HISEhFBYWqjVIRESkhWis53edA1BLoQAkIiLS8jTW81t7gYmIiIjPUQASERER\nn6MAJCIiIj5HAUhERER8jgKQiIiI+BwFIBEREfE5CkAiIiLicxSARERExOcoAImIiIjPUQASERER\nn6MAJCIiIj5HAUhERER8jgKQiIiI+BwFIBEREfE5CkAiIiLicxSARERExOcoAImIiIjPUQASERER\nn6MAJCIiIj6nTVNXQERExBMMA7KzIT8foqIgIQGs1qaulTRXCkAiItLi2e3wUJpBnjUbOuRDURRd\njARezLCSlNTUtZPmSAFIRERaNLsdkh+3Q0oqhBxyHc8rjCH58UzWkqQQJFVoDJCIiLRYhgFTl9lh\nfArYDrmftOXB+BSmLrNjGE1TP2m+FIBERKTF2rjJ4OjAVMAEywUnLSYARwemsXGTEpC4UwASEZEW\na+O/s53dXheGn0oWE0IOOsuJnEcBSEREWq7gfM+WE5+hACQiIi1W4rVRHi0nvkMBSEREWqzE7gmE\n+ceAWUMfmGkhzD+WxO4JjVsxafYUgEREpMWy+llZfmumcwzQhSHItIAFlt+agdVPKyKKOwUgERFp\n0ZJ6JbF2fBYxti5ux2NCYlg7PoukXloESKqymKZpNnUlvMHhcBASEkJhYSE2m62pqyMiIl5mVBhk\nH8gm/2Q+UcFRJHRNUMtPC9RYz2+tBC0iIq2C1c9KYlxiU1dDWgh1gYmIiIjPUQASERERn6MAJCIi\nIj5HAUhERER8jgKQiIiI+BwFIBEREfE5dQ5AmzZtYvTo0URHR2OxWHj33Xdd58rKypgzZw59+/al\nffv2REdHM2nSJH744Qe3e8TFxWGxWNxeixYtciuzfft2EhISaNu2LbGxsSxevLieX1FERETEXZ0D\n0KlTp7jqqqt46aWXqpwrLi7mq6++4oknnuCrr77Cbreze/dubrnlliplFyxYQH5+vus1c+ZM1zmH\nw8GwYcPo1q0b27ZtY8mSJcybN4/ly5fXtboiIiIiVdR5IcSRI0cycuTIas+FhISwfv16t2N/+tOf\n+OUvf8mBAwfo2rWr63hwcDCRkZHV3ufNN9+ktLSUN954g4CAAPr06UNubi5Lly5l6tSpda2yiIiI\niBuvjwEqLCzEYrEQGhrqdnzRokWEhYVx9dVXs2TJEsrLy13ncnJyGDx4MAEBAa5jw4cPZ/fu3Rw/\nfrzazykpKcHhcLi9RERERKrj1a0wzpw5w5w5c7jjjjvc9vN46KGHuOaaa+jYsSObN29m7ty55Ofn\ns3TpUgAKCgro3r27270iIiJc5y677LIqn7Vw4ULmz5/vxW8jIiIirYXXAlBZWRnjx4/HNE1eeeUV\nt3Pp6emun/v160dAQAC//e1vWbhwIYGBgfX6vLlz57rd1+FwEBsbW7/Ki4iISKvmlQBUGX7279/P\np59+esndXAcNGkR5eTn79u2jZ8+eREZGcvjwYbcyle9rGjcUGBhY7/AkIiIivsXjY4Aqw893333H\nhg0bCAsLu+Q1ubm5+Pn5ER4eDkB8fDybNm2irKzMVWb9+vX07Nmz2u4vERERkbqocwtQUVER33//\nvev93r17yc3NpWPHjkRFRZGSksJXX33Fhx9+iGEYFBQUANCxY0cCAgLIyclhy5YtDBkyhODgYHJy\ncpg1axZ33XWXK9xMmDCB+fPnM2XKFObMmcO3335LZmYmy5Yt89DXFhEREV9mMU3TrMsFGzduZMiQ\nIVWOT548mXnz5lUZvFzps88+IzExka+++opp06bxr3/9i5KSErp3787EiRNJT09368Lavn0706dP\nZ+vWrXTq1ImZM2cyZ86cWtfT4XAQEhJCYWHhJbvgRERaO8OA7GzIz4eoKEhIAKu1qWslUlVjPb/r\nHIBaCgUgEREnux1SU+HQoXPHYmIgMxOSkpquXiLVaaznt/YCExFpxex2SElxDz8AeXnO43Z709RL\npKkpAImItFKG4Wz5qa6dv/JYWpqznIivUQASEWmlsrOrtvyczzTh4EFnORFfowAkItJK5ed7tpxI\na6IAJCLSSkVFebacSGuiACQi0kolJDhne1ks1Z+3WCA21llOxNcoAImItFJWq3OqO1QNQZXvMzK0\nHpD4JgUgEZFWLCkJsrKgSxf34zExzuNaB0h8ldd2gxcRkeYhKQnGjNFK0CLnUwASEfEBViskJjZ1\nLUSaD3WBiYiIiM9RABIRERGfoy4wEREfYFQYZB/IJv9kPlHBUSR0TcDqp0FA4rsUgEREWjn7Ljup\n61I55Di3L0aMLYbMEZkk9dI0MPFN6gITEWnF7LvspKxOcQs/AHmOPFJWp2Dfpe3gxTcpAImItFJG\nhUHqulRMqm4HX3ksbV0aRoW2gxffowAkItJKZR/IrtLycz4Tk4OOg2Qf0Hbw4ns0BkhEpAUyjEsv\nbJh/snbbvNe2nEhrogAkItLC2O2QmgqHzmvciYlx7vt1/tYWUcG12+a9tuVEWhN1gYmItCB2O6Sk\nuIcfgLw853H7eWOaE7omEGOLwUL128FbsBBriyWhq7aDF9+jACQi0kIYhrPlxzQBiwFxG+HKtyFu\nIybOgcxpac5yAFY/K5kjnNvBXxiCKt9njMjQekDikxSARERaiOzssy0/veyQFgd3D4GUCc4/0+Iw\nr7Bz8KCzXKWkXklkjc+ii819O/gYWwxZ47O0DpD4LI0BEhFpIfLzcYaf8Slw4dR2W57z+Oos8vPd\nQ01SryTG9ByjlaBFzqMAJCLSQoRHGjAiFTCpMqzHYoJpgRFphEeOAdzDjdXPSmJcYiPVVKT5UxeY\niEhL0TUbQg5VDT+VLCaEHHSWE5GLUguQiEgTqs16PpWOFNduvZ7alhPxZQpAIiJNpLbr+VTSuj4i\nnqMuMBGRJlCX9XwqaV0fEc9RABIRaWRu6/lcoPLY+ev5VNK6PiKeowAkItLIXOv51MA0qbKeTyWt\n6yPiGRoDJCLSyPLPH6NsMaBbNnTIh6Io2J8AprVqufNoXR+RhlMAEhFpZFGVY5R72Z3r+oSc1xxU\nGAPrMmFX0rly1dC6PiINoy4wEZFGlpAAYTecXdHZdkFf2NkVncNusJOgscwiXqMAJCLS2CwGjLzI\nis4AI9Oc5UTEKxSAREQaWfaBbI6WXXxF56NlB8k+oBWdRbxFAUhEpJHln6zdSs21LScidacAJCLS\nyLSis0jTq3MA2rRpE6NHjyY6OhqLxcK7777rdt40TZ588kmioqJo164dQ4cO5bvvvnMrc+zYMe68\n805sNhuhoaFMmTKFoqIitzLbt28nISGBtm3bEhsby+LFi+vx9UREmh+t6CzS9OocgE6dOsVVV13F\nSy+9VO35xYsX8+KLL/Lqq6+yZcsW2rdvz/Dhwzlz5oyrzJ133smOHTtYv349H374IZs2bWLq1Kmu\n8w6Hg2HDhtGtWze2bdvGkiVLmDdvHsuXL6/HVxQRaV60orNIM2A2AGD+/e9/d72vqKgwIyMjzSVL\nlriOnThxwgwMDDTffvtt0zRNc+fOnSZgbt261VXmv//7v02LxWLm5eWZpmmaL7/8snnZZZeZJSUl\nrjJz5swxe/bsWeu6FRYWmoBZWFhY7+8nIuJNa3euNWOWxpjMw/WKXRprrt25tqmrJtJkGuv57dGF\nEPfu3UtBQQFDhw51HQsJCWHQoEHk5ORw++23k5OTQ2hoKAMGDHCVGTp0KH5+fmzZsoVbb72VnJwc\nBg8eTEBAgKvM8OHDef755zl+/DiXXXZZlc8uKSmhpKTE9d7hcHjyq4mIVGEYzu0q8vOdixsmJIC1\nDo02WtFZpOl4NAAVFBQAEBER4XY8IiLCda6goIDw8HD3SrRpQ8eOHd3KdO/evco9Ks9VF4AWLlzI\n/PnzPfNFREQuwW53bmh6/p5eMTGQmQlJddiOSys6izSNVjMLbO7cuRQWFrpeBw8ebOoqiUgrZbdD\nSkrVDU3z8pzH7famqZeI1J5HA1BkZCQAhw8fdjt++PBh17nIyEiOHDnidr68vJxjx465lanuHud/\nxoUCAwOx2WxuLxERTzMMZ8uPaeJcqTluI1z5NsRtxMS5cnNamrOciDRfHg1A3bt3JzIykk8++cR1\nzOFwsGXLFuLj4wGIj4/nxIkTbNu2zVXm008/paKigkGDBrnKbNq0ibKyMleZ9evX07Nnz2q7v0RE\nGkt29tmWn152SIuDu4dAygTnn2lxmFfYOXjQWU5Emq86B6CioiJyc3PJzc0FnAOfc3NzOXDgABaL\nhbS0NJ555hnef/99vvnmGyZNmkR0dDRjx44FoFevXowYMYL777+fL7/8ks8//5wZM2Zw++23Ex0d\nDcCECRMICAhgypQp7Nixg1WrVpGZmUl6eroHv7qISN3l5+MMPxfZyJRedmc5EWm26jwI+p///CdD\nhgxxva8MJZMnT2blypU8+uijnDp1iqlTp3LixAluuOEG1q1bR9u2bV3XvPnmm8yYMYMbb7wRPz8/\nkpOTefHFF13nQ0JC+Pjjj5k+fTrXXnstnTp14sknn3RbK0hEpDEZFQbZB7L51i8PRqVR40ampgVG\npBEeOQbQbC6R5spimqbZ1JXwBofDQUhICIWFhRoPJCINsvqbLKa+P43C8h9rfc2Guz7jxh6J3quU\nSCvVWM9vj06DFxFpbca+9Cjv/bik5p3ba3CkWH1gIs1Zq5kGLyLiaY+8scYZfupBG5mKNG8KQCIi\n1SgtM1j6f9OcLT91aP3RRqYiLYO6wEREcK7b88lnBn/dlE0R+RhtD2O2+6lO99BGpiIthwKQiPg8\nux0mP59F0a+mQfuzA53LLn5NdWJsMWSMyCCpVx32whCRJqEAJCI+zW6H5FcehZF1H+gMwOlQHrv6\nT9w0qIs2MhVpQRSARMRnGQbct3QNDL3IQGeT6oPR2QVEOn7+ZxY8m1KnXeBFpOkpAImIz9q4yeB4\n/LSLt/xc7Nzns/nzLIUfkZZIs8BExGdt/Hc2dKjbQGcAijrT/r9Xs/bBxSRpuI9Ii6QWIBHxXcG1\nX6xwtP8yrGci6EAUE4cncOMiq1p+RFowBSAR8VmJ10bxzK5Ll/M73Zmsx2YS4K/EI9JaqAtMRHxW\nYvcEwvxjXAOaqzCdr1m/eNKlkjsAACAASURBVFnhR6SVUQASEZ9l9bOy/NZMsFhqDEFjOs/mhXtT\nGrdiIuJ1CkAi4tOSeiWxdnwWMbYYt+MhbTrzTspq3p2+uIlqJiLeZDFNs6bG3xbN4XAQEhJCYWEh\nNputqasjIl5QWgovvwx79kCPHjBtGgQE1O9eRoVB9oFs8k/mExUcpUUNRZpIYz2/FYBEpEV69FFY\nutS5mGElqxXS02GxGm1EWqzGen5rFpiItDiPPgpLqlm82TDOHVcIEpGLUQuQiLQopaUQFOTe8nMh\nqxWKi+vfHSYiTaexnt8aBC0iLcrLL58XfvxK4boMGDnT+adfKeA8//LLTVdHEWn+1AUmIi3Knj1n\nfxj6KPzHUvA7rylo2COwOR02LD5XTkSkGgpAItKi9OiBM/xcX80gIIvhOt6jhwYBiUjNNAZIRFqU\nouJSgp8Pcoad6nZqNwHTysk5xXQI0iAgkZZGs8BERHCO58nOhvx8iIqCbf4vu3d7XcgCWAz+c/vL\npF2X1mj1FJGWRQFIRJotux0eSjPIs2ZDh3woiiJo4HfQ59LX7jmmQUAiUjMFIBFplux2SH7cDimp\nEHLIdbz4dEitru/RsYe3qiYirYACkIh41YVdWAkJznV6ajpeec3UZXYYn0KVXUrbOs4dqm4MEGC1\nWJk2YJq3vpKItAIKQCLiNXY7pKbCoXMNOMTEwB13wNtvVz2emQlJSbBxk8HRgamAWTXkWMwad26v\nlB6fTkAbDYAWkZopAImIV9jtkJICF84zPXSo+m0s8vKc5bOy4Ovj2W7dXlW4QpEfUOE6bLVYSY9P\nZ/FNmgIvIhenACQiHmcYzpafuiyyYZpgsUBaGkxcnF+ra37XcyURcUfZc2wPPTr2YNqAaWr5EZFa\nUQASEY/Lznbv3qqWxYBu52Z3sT8B07Ry8CB09I+q1ecMHRjLjT0mNrzCIuJzFIBExOPyL9WA08sO\nI9xnd1EYA+syYVcSkSUJhPnHcLQ0zznm50KmhbCAGBK7J3i03iLiO7QZqoh4XFjYRU72Oju7y3ZB\nE5Etz3m8l50u0VaW35rpHOtjXjAK2rSABZbfmoHVz+rpqouIj1AAEhGP++abGk5YDGfLT02zuwDr\nqDT+43qDpF5JrB2fRYyti1uxmJAY1o7PIqlXksfrLSK+Q11gIuJx+/bVcKLbpWZ3mRgdDrI5L5vE\nuESSeiUxpucYsg9kk38yn6jgKBK6JqjlR0QaTAFIRDyux/mLMFtPw/DZ0PE7zp+yfjH5J88NIrL6\nWUmMS/Ro/UREFIBExOOmTYNHHgEjZSxc8V6NKzbXJCq4drPARETqSwFIRDwuIADifjeWPW3eq3ry\nIttYWLAQY4shoatmd4mId2kQtIh43OnS0+zxPxt+qgx2rv4ay9kTGSM0u0tEvM/jASguLg6LxVLl\nNX36dAASExOrnHvggQfc7nHgwAFGjRpFUFAQ4eHhzJ49m/Lyck9XVUS8ZPaG2c4faur6quZ4jC2G\nLM3uEpFG4vEusK1bt2IYhuv9t99+y0033cS4ceNcx+6//34WLFjgeh8UFOT62TAMRo0aRWRkJJs3\nbyY/P59Jkybh7+/Pc8895+nqiogHGBWG20yt//vp/2p13YCoAaTHp2t2l4g0Oo8HoM6dO7u9X7Ro\nET169OBXv/qV61hQUBCRkZHVXv/xxx+zc+dONmzYQEREBP379+fpp59mzpw5zJs3j4AA7fMj0pzY\nd9lJXZfKIce56e3t/dvX6tpBMYO4o+8d3qqaiEiNvDoGqLS0lL/97W/ce++9WCzn2rzffPNNOnXq\nxJVXXsncuXMpLi52ncvJyaFv375ERES4jg0fPhyHw8GOHTtq/KySkhIcDofbS0S8y77LTsrqFLfw\nA3Cq7FStrl8ytJpt4UVEGoFXZ4G9++67nDhxgrvvvtt1bMKECXTr1o3o6Gi2b9/OnDlz2L17N3a7\nHYCCggK38AO43hcUFNT4WQsXLmT+/Pme/xIiUi2jwiB1XSomddjy/Txjeo6hXUA7D9dKRKR2vBqA\nXn/9dUaOHEl0dLTr2NSpU10/9+3bl6ioKG688Ub27NlDD7fV0+pm7ty5pKenu947HA5iY2PrfT8R\nubjsA9lVWn5qa0zPMbx7+7serpGISO15LQDt37+fDRs2uFp2ajJo0CAAvv/+e3r06EFkZCRffvml\nW5nDhw8D1DhuCCAwMJDAwMAG1lpEqmMYkJ3t3OU9KgoSEiCv8FJbvju9MXol2wq28t3R7/h52M9Z\nMnSJWn5EpMl5LQCtWLGC8PBwRo0addFyubm5AERFOVd+jY+P59lnn+XIkSOEh4cDsH79emw2G717\n9/ZWdUWkGoYBzz4LGS8aHA/Ohg75UBRFFyOBm6bUbrXmwgPd+NPYyV6uqYhI3XglAFVUVLBixQom\nT55MmzbnPmLPnj289dZb3HzzzYSFhbF9+3ZmzZrF4MGD6devHwDDhg2jd+/eTJw4kcWLF1NQUMDj\njz/O9OnT1cIj0ojsdpg6FY6G22FSqtsmpnmFMaxcvRSGx4Atz7WTuxvTAo4YOhdrVWcRaX68Mgts\nw4YNHDhwgHvvvdfteEBAABs2bGDYsGFcccUVPPzwwyQnJ/PBBx+4ylitVj788EOsVivx8fHcdddd\nTJo0yW3dIBHxLrsdUlLgaMQaGJ8MtgvG+tjyYNxt8M3ZKezmBSsbVr5fl0GXaK3tIyLNj8U0zfpN\n4WjmHA4HISEhFBYWYrPZmro6Is1OdeN6rFbn8bg4OBScBeNuBz+j+hucbeFh3VIYMcuthYjCWFiX\nQWxREnv3Ou8rIlIbjfX81maoIj7IbofUVDh0XmaJiYHMTOjYEQ4F22H8uIvv4m4xIeQgnO4Emfug\n67kxQhxIwGJaychS+BGR5kkBSMTHVHZvXdj2m5fnPD4z1YARqbW+X8rd+Xzxn1YO7Ut0HYuNhYwM\nSNK2XiLSTCkAifgQw3C2/FTX8W2aYLHAXz7Lhltrv77PA3dF8c7j1XeniYg0VwpAIj4kO9u92+tC\npgmFRu3W98GEsIBYErsnYPWDxESPVFFEpFEoAIn4kPzzs43FgG7njdvZnwCm1flzbVhg+a0Z2sFd\nRFokBSARHxJVmW162Z3jfNxmbsXAukz41xg6B8TwY2ke1LDPl9Vi5e3kt0nqpUE+ItIyeXU3eBFp\nXgZdZxA0ckHNa/uMTyHs+vd4+ZZMLIClhmlg7yS/w7g+47xfYRERL1EAEvERj66w0+GJbhQPeoqz\n6cZd5WrOI9O4tdcYssZn0cXWxa1IrC2WtePXktInpVHqLCLiLeoCE/EBj66ws2R/CrS/xLqnFpOj\nZQfJPpBNUq8kxvQcQ/aBbPJP5hMVHEVC1wSN+RGRVkEBSKQVOn+V57DOBkt3pjrDz8UWNjxP/knn\naGmrn5XEuETvVVREpIkoAIm0MnY7PJRmkGc9O8Orw2EYUft1fQCigms5E0xEpIVSABJpRex2SH7c\nDikXzPCqJQsWYmwxJHTVDu4i0ropAIm0EoYBU5fZYXwKNU1fr42MEVrbR0RaP80CE2klPvlHKUev\n+y1Qw1ifS2SiGFsMWeOztLaPiPgEBSCRVsC+y07K5zHQ4aeaBzrXFIpMuC18PvtS9yn8iIjPUBeY\nSAtn32UnefXZ7d1rOcurkvVULOm9M1h8j4KPiPgWBSCRFqi0vJSX//ky3x39jpVfvVmn8PNA3DLa\nnImgR0QU00YlEOCv8T4i4nsUgESamco1fPLy4McfoXNn6NIFEhLAqDAY8ec72fjjaszzB/XUJvyY\nFsICYvjTxJka5CwiPk8BSKQZsdshNRUOVTODvcMv7RTdOBkCi+p+YxPt3i4ich4FIJFmwm6HlLND\nearoZadoZHK97x1s7czKlFc1yFlE5CwFIJFmwDCcLT/Vhh+LASNSz/5cxxubwKnOZI08xLBeAQ2s\npYhI66EAJNIMZGdX0+1lMaBbNnT/pF6rOmM601LYF69y4yKFHxGR8ykAiTQD7713wYFedmerT32C\nTyVHDKzLYPkzSVg17EdExI0CkEgTW7MGMjLOO9ArC8aPq/uNTMD0g7+vhJOxxFQkkLnMSpKG/YiI\nVKEAJNKEsrLgjjvOvrEYkPA0JC6o31gfgJyH+f9mTyQ21jltXi0/IiLVUwASaSJ2O4yrbOjpZYff\nTIX2R+t3M9MPNj/M7KsXM3Gix6ooItJqKQCJNIHKWV8A9F4D48bX70YlHWBHCpb/fo1H0gJYvNhj\nVRQRadUUgESaQHY2HMozYHD9urxuCX0cv303ElmaQM8hVqatgQBN9BIRqTUFIJFGZlQYZG5fAI8t\nAv/SOl8fa4vFPnOeVnQWEWkABSCRRlJaZnDfX5/mbweexbSUg3/97pMxQttZiIg0lAKQSCN4dIWd\nJd+d3cerrjO8zrJarLyT/I62sxAR8QAFIBEve3SFnSX7k6GBY3TeTn6blD4pnqmUiIiP82vqCoi0\nZqVlBi/sfMj5pp4tP2Htwlg7fi3j+tRjcUQREamWWoBEvKC0zODlj7LJ+uoTzA559bqHBQtPDn6S\nJ371hMb8iIh4mAKQiIc9usLO0p2pGB0OQX1yiwlYYHXKanV5iYh4iQKQiAc5x/ukQHvz0oVrcjqM\n+QOWk9JHg51FRLxFAUjEQ4qKS3nhX7+Fdmb9xvuYwIHr6bLhH/z+OXV5iYh4k8cHQc+bNw+LxeL2\nuuKKK1znz5w5w/Tp0wkLC6NDhw4kJydz+PBht3scOHCAUaNGERQURHh4OLNnz6a8vNzTVRXxCKPC\n4PZXFhD8TCfMoJ/qF34qgM8fhhX/w4sZVm1iKiLiZV5pAerTpw8bNmw49yFtzn3MrFmz+Oijj1iz\nZg0hISHMmDGDpKQkPv/8cwAMw2DUqFFERkayefNm8vPzmTRpEv7+/jz33HPeqK5Ivdl32ZmcNZWi\niqMQWI8blPvDNxPgg+WEXRbA8rWQpJ4vERGv80oAatOmDZGRkVWOFxYW8vrrr/PWW2/x61//GoAV\nK1bQq1cvvvjiC6677jo+/vhjdu7cyYYNG4iIiKB///48/fTTzJkzh3nz5hGgDY+kmbDvspO8Otk1\naLm24grvokN5HJ1PJRJZkkj3PlZ+PRMSE1HLj4hII/FKAPruu++Ijo6mbdu2xMfHs3DhQrp27cq2\nbdsoKytj6NChrrJXXHEFXbt2JScnh+uuu46cnBz69u1LRESEq8zw4cN58MEH2bFjB1dffXW1n1lS\nUkJJSYnrvcPh8MZXEwGc3V5T/55at/BjWrCeimH38ysJ8FfSERFpSh4fAzRo0CBWrlzJunXreOWV\nV9i7dy8JCQmcPHmSgoICAgICCA0NdbsmIiKCgoICAAoKCtzCT+X5ynM1WbhwISEhIa5XbGysh7+Z\nyDkb92ZztOxQHcKP84/03hkKPyIizYDHW4BGjhzp+rlfv34MGjSIbt26sXr1atq1a+fpj3OZO3cu\n6enprvcOh0MhSBrEMGDjRucLnF1Uld1UG7fl1+leltOdeeSKV1l8jwb4iIg0B16fBh8aGsovfvEL\nvv/+e2666SZKS0s5ceKEWyvQ4cOHXWOGIiMj+fLLL93uUTlLrLpxRZUCAwMJDKzPKFSRqux2mDoV\njh4zoFs2dMjnmb9F0bEogT+/ZoWTUbW7kekMP46nDtEhSOPXRESaC6/vBVZUVMSePXuIiori2muv\nxd/fn08++cR1fvfu3Rw4cID4+HgA4uPj+eabbzhy5IirzPr167HZbPTu3dvb1RVhzRpIToaj4Vnw\nSBTcPQRSJsDdQzg2MY7kx+1YDyVAYQyYF+kDMwEsPHLFqwo/IiLNjMU0zQYsWVvVI488wujRo+nW\nrRs//PADTz31FLm5uezcuZPOnTvz4IMP8l//9V+sXLkSm83GzJkzAdi8eTPgnAbfv39/oqOjWbx4\nMQUFBUycOJH77ruvTtPgHQ4HISEhFBYWYrPZPPkVpRXLyoJx44ChD8P1S6uO8TkbasI+ycI04djQ\ns1tVWKr536g4jEd6LmfJver2EhGprcZ6fnu8C+zQoUPccccdHD16lM6dO3PDDTfwxRdf0LlzZwCW\nLVuGn58fycnJlJSUMHz4cF5++WXX9VarlQ8//JAHH3yQ+Ph42rdvz+TJk1mwYIGnqyrixm4/G35u\nGw1XfFj9AGcLYJocHZjGUyF7mb8qC0akQsihc2WKO8IXqbwz/ffcNl4DnkVEmiOPtwA1F2oBkroo\nLYXoaDg6dAxc8X6tZnc9HvMZV1+WyENpBnlW5zghiqKIqUggc5lVCxqKiNRDi20BEmlp7HaY+oDB\n0T7zax1+AAjOJykJxoyxkp2dSH4+REVBQoIWNBQRae4UgMSnrVptcPtLz8I9GRB0vE7XJl7rnAlm\ntTqnx4uISMuhACQ+p3J9n9//zc6W8Knw66N1vofN2pnE7gmer5yIiDQKr0+DF2lO7HYIjzQY+vQ8\ntnRLhnZ1Dz8Ar9/6MlY/9XOJiLRUagESn2G3Q/Ljdrjnfmh/rH43MSE9Pp2UPimerZyIiDQqtQCJ\nTygtM7h7xQIYnwxB9Q8/v+n5G/4w/A+erZyIiDQ6BSBp9dbsWEPn5yM5OeAp5wyv2s7yusAtPW/h\ngzs+8GjdRESkaagLTFq1R9c/ypLNSxp0j5DAEF77zWvcduVtHqqViIg0NQUgaZWMCoN5ny2of/gx\nAQvMT5zP7xN+rwHPIiKtjAKQtDr2XXYmZ02lqKJ+M7wAOljD+EvKcpJ6aTlnEZHWSAFIWhX7LjvJ\nq5Kdb+oz1qfCwviIJ3nrgSfU6iMi0oopAEmrYVQY3L/2Ieebuoafs11e74xbxW1XjvN01UREpJnR\nLDBpNTbuzeaYkVevlp+woDDWjl+r8CMi4iMUgKTV2Lgtv/aFzbOvHUk81mUDhx85rPE+IiI+RAFI\nWo+TUXUr//lsWLOWm352o8b7iIj4GAUgaXGKiku59fkM+s2Zya3PZ1BUXApA4uUJUNjF2bJzMRV+\nsOYd2LCYmBhI0J6mIiI+R4OgpUUwDMjOhinvPMq/I5aCnwFB8M0ZCH7+EQaWp5OzYDFhT77I0RuT\nXYOa3VQGozWrYJdzL6/MTLCq8UdExOeoBUiaPbsdunU3GPKn2/l35BKwGO4FLAZb/ZcQ/+SjLJ+V\nBKvXQnFY1RsVhznP7UohLAzWroUkDfsREfFJFtM0L9Vh0CI5HA5CQkIoLCzEZrM1dXWknlw7uI94\nCELyai5oAqaVk3OK+XhdAA+lGeS12QhxGwEI+jGRET0T6d3LSmIiJCaq5UdEpDlqrOe3ApA0W4YB\nEYl2jt6YApi1mt4+tu0y/j4nzdVllp8PUVHOcT4KPCIizV9jPb81BkiarY2bDI4OTKW24Qdgz7E9\ngDPsJCZ6rWoiItLCKQBJs7Xx39kQcqhO1/To2MNLtRERkdZEAUiajdIyg5c/ymbP4Xx6RERRHnSR\nMT8XOjsG6K8zp3mtfiIi0nooAEmz8OgKO0t3pmJ0ONviUwB+pztDu1pcfHYU28DydDoEBXitjiIi\n0nooAEmTe3SFnSX7U6C9+3j8irY/nVu752JjgEwrA8vT+fLZxV6ro4iItC4KQNJkjAqDT/Zs5IX/\nux8CqxnobDHPBaALFzasbPUJuJtP015Ty4+IiNSJApA0utIygwfefJbVBzM5VXEM2l6k8NnQY2vT\nCUf5T67DMSGxZI7I0AamIiJSLwpA0qhSl6/ixf33QkBxna67q1MG44Z3If9kPlHBUSR0TdAGpiIi\nUm8KQNJoItPGcjj0PahHb9XPI7qQGJfo8TqJiIhvUgCSRjHwsdnO8FNXpgXrqRimjdKW7SIi4jkK\nQOJ1RcWl/NN/aa1Xc3YxnRek984gwF/dXSIi4jkKQOJxhgHrNpTy1Acvc4w9FPsfgtCKOt/HeiqG\n9N4ZLL5HA51FRMSzFIDEYwwDnn4aFnzxCOagZdC57qEHEzjdkQc7rSbjsUS1/IiIiFcoAIlH2O0w\n6W6DUymD4brNde/ugrNr+1gI2/xn/rjxRu3eLiIiXuPX1BWQlm/NWoPkzAWcmtkeul0k/Jg1HK9U\nfBmszmL5rCSFHxER8Sq1AEmDvP2/WUzYNgV+7bh04YsFowPXE/PJP8hcZiVJQ35ERMTLFICkXgwD\nfvXMo3xuLoHABtyowo/uh9N5Y9ISEv6MWn5ERKRReLwLbOHChQwcOJDg4GDCw8MZO3Ysu3fvdiuT\nmJiIxWJxez3wwANuZQ4cOMCoUaMICgoiPDyc2bNnU15e7unqSj2sWm3Q9uannOGnHiJOjKVv8QzG\ntl3GyTmn+ferS0hMVPgREZHG4/EWoH/84x9Mnz6dgQMHUl5ezmOPPcawYcPYuXMn7du3d5W7//77\nWbBgget9UFCQ62fDMBg1ahSRkZFs3ryZ/Px8Jk2ahL+/P88995ynqyx1MPp3WXxomQL/UYsur+pU\n+PH9s6u0eamIiDQpjwegdevWub1fuXIl4eHhbNu2jcGDB7uOBwUFERkZWe09Pv74Y3bu3MmGDRuI\niIigf//+PP3008yZM4d58+YREKCHZ1MY8NgjbGv7h/rN8AIwYUD5LIUfERFpcl6fBVZYWAhAx44d\n3Y6/+eabdOrUiSuvvJK5c+dSXHxuc8ycnBz69u1LRESE69jw4cNxOBzs2LHD21WWalz1u1S2BTQs\n/PQov4Wtz77g0XqJiIjUh1cHQVdUVJCWlsb111/PlVde6To+YcIEunXrRnR0NNu3b2fOnDns3r0b\nu90OQEFBgVv4AVzvCwoKqv2skpISSkpKXO8djnp20YibouJSbE/2wOxwqEHhJ21QOstG/sGjdRMR\nEakvrwag6dOn8+233/I///M/bsenTp3q+rlv375ERUVx4403smfPHnr06FGvz1q4cCHz589vUH3F\n3bWPPcxXAUshuP73CPYP5vUxrzOuzzjPVUxERKSBvNYFNmPGDD788EM+++wzYmJiLlp20KBBAHz/\n/fcAREZGcvjwYbcyle9rGjc0d+5cCgsLXa+DBw829Cv4rKLiUqyPxDrDT31XdDbhP0qe4vjvjiv8\niIhIs+PxAGSaJjNmzODvf/87n376Kd27d7/kNbm5uQBERUUBEB8fzzfffMORI0dcZdavX4/NZqN3\n797V3iMwMBCbzeb2kropLYXYKbMJXhxIRXADurxOd2RMyVo+f24eVj/NbRcRkebH411g06dP5623\n3uK9994jODjYNWYnJCSEdu3asWfPHt566y1uvvlmwsLC2L59O7NmzWLw4MH069cPgGHDhtG7d28m\nTpzI4sWLKSgo4PHHH2f69OkEBjZk1T2pySOPwB8O3QJXfNCgsT43BTzFe/OfoF1bBR8REWm+LKZp\nXmqHprrd0FL903PFihXcfffdHDx4kLvuuotvv/2WU6dOERsby6233srjjz/u1mqzf/9+HnzwQTZu\n3Ej79u2ZPHkyixYtok2b2mU2h8NBSEgIhYWFag26hFvGlvJBVH+I2FX/8FMB74xbzW1XqrtLRETq\nr7Ge3x4PQM2FAtClFRWX8rN5Izgc9FmDWn0AHu66hhfuTfFY3URExDc11vNbe4H5qGvmpvN1wDJo\nf+myF2X4M/vyd1h8j3YwFRGRlkMByAe1SxvImdB/1r/VB8CE9sf/g2MvbCLAX+N9RESkZVEA8jHt\n0gZwJnRbw7q8ijtz9Pf76RjSzpNVExERaTRe3wpDmodjhaexPhzX4PDT+cRozMVHFH5ERKRFUwBq\n5QwDLps2hrBlQVTY9tc//BhtSOuyiiMZ73u0fiIiIk1BXWCtlGHAs8/CUwcHQpcGjPcxIbriOvY+\n8T8a6yMiIq2GWoBaoTVrDTpc81885ejc4PBz889uIW9BjsKPiIi0KmoBamUefmM1S/fdAUkVDbtR\nqT+jK/7K+3fd5pmKiYiINCNqAWolDAOu/+NYlh64Daz1DD9nNzFl4xM8XHaa9xcq/IiISOukFqBW\nwG6Hu/6Wxul+7zXsRkYbhhxbxbr/P4mAAM/UTUREpDlSAGrhVq0xuH31eOhnb9BYn6Dj13H8BQ10\nFhER36AA1EKVlsKQmW+zOeJOuLIB27mZ0PnEbziS+YHnKiciItLMKQC1QA89WsQfLV0gytGw7Swq\n4Nqyh/lnxgseq5uIiEhLoADUghgGdHpsICeCGr6PV8fiG9g/7xM6BGmwj4iI+B7NAmsh7Hbwf/hn\nnGjX8PAzutMjHF2crfAjIiI+SwGoBbDbIfm1GZihexoWfow2PNx1De/PWOKxuomIiLRE6gJr5k6f\nMUj+KAHic+oXfs6Oj26zJ5lTb6zSLC8RERHUAtRsFRWX0nXWBIKeawNd6xl+AEyI2DObsr9mKfyI\niIicpRagZujqubPIDciA0AbcxATLyRh+emIPHUM11kdEROR8CkDNSGmZQbvHulHRPq/BA53DT/yG\nwxla20dERKQ66gJrJlKXryJwQRsqOjQw/FTAQ9HvKPyIiIhchFqAmlhREQRPGwWX/1fD/jVMaFNw\nHaf+qO0sRERELkUBqAn1v/Y0/zsyGC43GjTImfw+XP3VVr7a2s6T1RMREWm1FICaiGXiSBi9rsFj\nfdoeHM2Pme/ToYPHqiYiItLqKQA1sgP5hXR7JRR60ODwE3HiFgpef89TVRMREfEZGgTdiPzSL6fb\na6FgpYEDnS2kdVlFQYbCj4iISH2oBaiRWB5vA7YGjPUB53if8jaUPHVGA51FREQaQC1AXlZ0ysDy\npAXaNDz8WBxxmM+UKfyIiIg0kFqAvKjP7X9l5y8mObu86uPsPl6UW9k//Shdo0I8VTURERGfpgDk\nBccKTxP2/GVwRUnDWn0ASoMwnzvlkXqJiIiIk7rAPCw87RbClgVBYAPDjwlXnp6h8CMiIuIFagHy\nIEt6HITub/hA5wo4+bsSOgRpE1MRERFvUADygKJTBsHPBYGttOHh51QnzCU/eqpqIiIiUg0FoAa6\ndtJqvoq7DRrSWHO2HCO+mAAAD2RJREFU1ee7+47ys64dPVU1ERERqYECUAO0m3ILZy7/wCNdXuYC\n85JFRURExDM0CLqe2qUN5Exsw8NPSsCfFH5EREQamVqA6iEi7RbOhP6zYTu4V0DJE+Va1FBERKQJ\nKADVUeryVRwJbUDLj7q8REREmlyz7gJ76aWXiIuLo23btgwaNIgvv/yySetTWmbw4t7fNij89L7s\nKoUfERGRJtZsA9CqVatIT0/nqaee4quvvuKqq65i+PDhHDlypMnq9PJH2dC2sO4XmoABJ393kh2p\nuR6vl4iIiNRNsw1AS5cu5f777+eee+6hd+/evPrqqwQFBfHGG280WZ32HM6v+0Um9Dr1AOYCkw5t\nO3i+UiIiIlJnzXIMUGlpKdu2bWPu3LmuY35+fgwdOpScnJxqrykpKaGkpMT13uFweLxePSKioKCW\nhU2gzJ+Tvy/Sis4iIiLNTLNsAfrpp58wDIOIiAi34xERERQUVJ9AFi5cSEhIiOsVGxvr8XpNG5WA\ntSjm3C7tNTEhrPwazGdLFX5ERESaoWYZgOpj7ty5FBYWul4HDx70+GcE+FtJ750JWGoOQYYfD3V5\ni5+e2ebxzxcRERHPaJZdYJ06dcJqtXL48GG344cPHyYyMrLaawIDAwkMDPR63RbfkwT/r737j4m6\n/uMA/jzQ40fKnYAcnAICGlYiKcZF5Y/FTSCXmG2ZsUQzTMNl0xyzlpr7Llhs2tbS+Ydgm02q7/yx\nldkEITVRk4GGJhOGUskPww4wJcB7ff9w98GPIOI3uJP7PB8b2/l+vz8f3+/XXvfhxX3ufZf/X2w+\nvwq3Rvze3dHhi+mea1D44QZ+tg8REdFD7qEsgPR6PeLi4lBUVIR58+YBAOx2O4qKirBy5UoXz+52\nEfSfzlRs/e4oahrrEWUKwdtzprPwISIiGiIeygIIAFavXo309HRMmzYN8fHx+PTTT/H3339jyZIl\nrp4agNu3w96dN8vV0yAiIqL/w0NbAC1YsABXr17F+vXr0dDQgCeffBIHDx7s8cZoIiIiogelExG3\n/Fji1tZWGAwGtLS0wM/Pz9XTISIion5w1u9vt9kFRkRERNRfLICIiIhIc1gAERERkeawACIiIiLN\nYQFEREREmsMCiIiIiDSHBRARERFpDgsgIiIi0hwWQERERKQ5D+1XYfxbjg+4bm1tdfFMiIiIqL8c\nv7cH+4sq3LYAamtrAwCEhoa6eCZERET0oNra2mAwGAbt/G77XWB2ux1XrlzByJEjodPpBuy8ra2t\nCA0NxW+//ab57xhjLNQYj26MhRrj0Y2xUGM8ujliUVdXB51OB7PZDA+PwXunjtu+AuTh4YGxY8cO\n2vn9/Pw0n6wOjIUa49GNsVBjPLoxFmqMRzeDweCUWPBN0ERERKQ5LICIiIhIczw3bty40dWTGGo8\nPT0xa9YsDBvmtncQ+42xUGM8ujEWaoxHN8ZCjfHo5sxYuO2boImIiIjuhbfAiIiISHNYABEREZHm\nsAAiIiIizWEBRERERJrDAugBfP755xg3bhy8vb1hsVhw6tQpV09pwGVnZ+Opp57CyJEjERQUhHnz\n5qGqqko1ZtasWdDpdKqf5cuXq8bU1dVhzpw58PX1RVBQENauXYuuri5nLmVAbNy4scdaJ06cqPS3\nt7cjMzMTAQEBGDFiBF5++WU0NjaqzuEusRg3blyPWOh0OmRmZgJw/7w4cuQIXnzxRZjNZuh0Ouzb\nt0/VLyJYv349QkJC4OPjA6vViosXL6rGXLt2DWlpafDz84PRaMTSpUtx/fp11ZizZ89i+vTp8Pb2\nRmhoKD755JNBX9uD6isWnZ2dyMrKQkxMDB555BGYzWYsWrQIV65cUZ2jt3zKyclRjRkKsQDunxuL\nFy/usdbk5GTVGC3kBoBeryE6nQ65ubnKGKflhlC/FBQUiF6vl7y8PDl37pxkZGSI0WiUxsZGV09t\nQCUlJUl+fr5UVlZKRUWFvPDCCxIWFibXr19XxsycOVMyMjKkvr5e+WlpaVH6u7q6ZNKkSWK1WqW8\nvFwOHDgggYGBsm7dOlcs6V/ZsGGDPPHEE6q1Xr16Velfvny5hIaGSlFRkZw+fVqefvppeeaZZ5R+\nd4pFU1OTKg6HDh0SAFJcXCwi7p8XBw4ckA8++ED27NkjAGTv3r2q/pycHDEYDLJv3z45c+aMzJ07\nVyIiIuTmzZvKmOTkZImNjZUTJ07I0aNHZfz48bJw4UKlv6WlRUwmk6SlpUllZaXs3r1bfHx8ZPv2\n7U5bZ3/0FQubzSZWq1W++uoruXDhgpSWlkp8fLzExcWpzhEeHi6bNm1S5cud15mhEguR++dGenq6\nJCcnq9Z67do11Rgt5IaIqGJQX18veXl5otPppKamRhnjrNxgAdRP8fHxkpmZqfz71q1bYjabJTs7\n24WzGnxNTU0CQH788UelbebMmbJq1ap7HnPgwAHx8PCQhoYGpW3btm3i5+cn//zzz6DOd6Bt2LBB\nYmNje+2z2WwyfPhw+eabb5S2X3/9VQBIaWmpiLhXLO62atUqiYqKErvdLiLayou7L+x2u12Cg4Ml\nNzdXabPZbOLl5SW7d+8WEZHz588LAPn555+VMd9//73odDr5448/RERk69atMmrUKFU8srKyJDo6\nerCX9H/r7Zfc3U6dOiUA5PLly0pbeHi4bNmy5Z7HDMVYiPQej/T0dElNTb3nMVrOjdTUVHn++edV\nbc7KDd4C64eOjg6UlZXBarUqbR4eHrBarSgtLXXhzAZfS0sLAMDf31/V/uWXXyIwMBCTJk3CunXr\ncOPGDaWvtLQUMTExMJlMSltSUhJaW1tx7tw550x8AF28eBFmsxmRkZFIS0tDXV0dAKCsrAydnZ2q\nvJg4cSLCwsKUvHC3WDh0dHRg165deOONN1RfNqylvLhTbW0tGhoaVLlgMBhgsVhUuWA0GjFt2jRl\njNVqhYeHB06ePKmMmTFjBvR6vTImKSkJVVVV+Ouvv5y0moHX0tICnU4Ho9Goas/JyUFAQACmTJmC\n3Nxc1e1Qd4tFSUkJgoKCEB0djRUrVqC5uVnp02puNDY24rvvvsPSpUt79DkjN/ixk/3w559/4tat\nW6oLNwCYTCZcuHDBRbMafHa7He+++y6effZZTJo0SWl/7bXXEB4eDrPZjLNnzyIrKwtVVVXYs2cP\nAKChoaHXWDn6hhKLxYKdO3ciOjoa9fX1+OijjzB9+nRUVlaioaEBer2+x0XdZDIp63SnWNxp3759\nsNlsWLx4sdKmpby4m2P+va3vzlwICgpS9Q8bNgz+/v6qMRERET3O4egbNWrUoMx/MLW3tyMrKwsL\nFy5UfcHlO++8g6lTp8Lf3x/Hjx/HunXrUF9fj82bNwNwr1gkJydj/vz5iIiIQE1NDd5//32kpKSg\ntLQUnp6ems2NL774AiNHjsT8+fNV7c7KDRZAdE+ZmZmorKzEsWPHVO3Lli1THsfExCAkJASJiYmo\nqalBVFSUs6c5qFJSUpTHkydPhsViQXh4OL7++mv4+Pi4cGautWPHDqSkpMBsNittWsoL6p/Ozk68\n8sorEBFs27ZN1bd69Wrl8eTJk6HX6/HWW28hOzsbXl5ezp7qoHr11VeVxzExMZg8eTKioqJQUlKC\nxMREF87MtfLy8pCWlgZvb29Vu7Nyg7fA+iEwMBCenp49dvc0NjYiODjYRbMaXCtXrsS3336L4uJi\njB07ts+xFosFAFBdXQ0ACA4O7jVWjr6hzGg04tFHH0V1dTWCg4PR0dEBm82mGnNnXrhjLC5fvozC\nwkK8+eabfY7TUl445t/XNSI4OBhNTU2q/q6uLly7ds0t88VR/Fy+fBmHDh1SvfrTG4vFgq6uLly6\ndAmAe8XibpGRkQgMDFQ9N7SUGwBw9OhRVFVV3fc6AgxebrAA6ge9Xo+4uDgUFRUpbXa7HUVFRUhI\nSHDhzAaeiGDlypXYu3cvDh8+3ONlxt5UVFQAAEJCQgAACQkJ+OWXX1RPaMcF8PHHHx+ciTvJ9evX\nUVNTg5CQEMTFxWH48OGqvKiqqkJdXZ2SF+4Yi/z8fAQFBWHOnDl9jtNSXkRERCA4OFiVC62trTh5\n8qQqF2w2G8rKypQxhw8fht1uV4rFhIQEHDlyBJ2dncqYQ4cOITo6ekjd4nAUPxcvXkRhYSECAgLu\ne0xFRQU8PDyUW0HuEove/P7772hublY9N7SSGw47duxAXFwcYmNj7zt20HLjgd4yrWEFBQXi5eUl\nO3fulPPnz8uyZcvEaDSqdrS4gxUrVojBYJCSkhLVFsQbN26IiEh1dbVs2rRJTp8+LbW1tbJ//36J\njIyUGTNmKOdwbHeePXu2VFRUyMGDB2X06NFDZrvzndasWSMlJSVSW1srP/30k1itVgkMDJSmpiYR\nub0NPiwsTA4fPiynT5+WhIQESUhIUI53p1iI3N79GBYWJllZWap2LeRFW1ublJeXS3l5uQCQzZs3\nS3l5ubKzKScnR4xGo+zfv1/Onj0rqampvW6DnzJlipw8eVKOHTsmEyZMUG11ttlsYjKZ5PXXX5fK\nykopKCgQX1/fh26rc1+x6OjokLlz58rYsWOloqJCdR1x7No5fvy4bNmyRSoqKqSmpkZ27dolo0eP\nlkWLFin/x1CJhUjf8Whra5P33ntPSktLpba2VgoLC2Xq1KkyYcIEaW9vV86hhdxwaGlpEV9fX9m2\nbVuP452ZGyyAHsBnn30mYWFhotfrJT4+Xk6cOOHqKQ04AL3+5Ofni4hIXV2dzJgxQ/z9/cXLy0vG\njx8va9euVX3ei4jIpUuXJCUlRXx8fCQwMFDWrFkjnZ2dLljRv7NgwQIJCQkRvV4vY8aMkQULFkh1\ndbXSf/PmTXn77bdl1KhR4uvrKy+99JLU19erzuEusRAR+eGHHwSAVFVVqdq1kBfFxcW9PjfS09NF\n5PZW+A8//FBMJpN4eXlJYmJijzg1NzfLwoULZcSIEeLn5ydLliyRtrY21ZgzZ87Ic889J15eXjJm\nzBjJyclx1hL7ra9Y1NbW3vM64vjMqLKyMrFYLGIwGMTb21see+wx+fjjj1UFgcjQiIVI3/G4ceOG\nzJ49W0aPHi3Dhw+X8PBwycjI6PHHsxZyw2H79u3i4+MjNputx/HOzA2diEj/Xy8iIiIiGvr4HiAi\nIiLSHBZAREREpDksgIiIiEhzWAARERGR5rAAIiIiIs1hAURERESawwKIiIiINIcFEBEREWkOCyAi\nIiLSHBZAREREpDksgIiIiEhzWAARERGR5vwP1ro1knlgLn8AAAAASUVORK5CYII="
          },
          "execution_count": 53,
          "metadata": {}
        }
      ],
      "metadata": {},
      "source": [
        "import pandas as pd\n",
        "import numpy as np\n",
        "from pandas.tseries.frequencies import to_offset\n",
        "\n",
        "\n",
        "def align_outputs(y_predicted, X_trans, X_test, y_test, target_column_name,\n",
        "                  predicted_column_name='predicted',\n",
        "                  horizon_colname='horizon_origin'):\n",
        "    \"\"\"\n",
        "    Demonstrates how to get the output aligned to the inputs\n",
        "    using pandas indexes. Helps understand what happened if\n",
        "    the output's shape differs from the input shape, or if\n",
        "    the data got re-sorted by time and grain during forecasting.\n",
        "\n",
        "    Typical causes of misalignment are:\n",
        "    * we predicted some periods that were missing in actuals -> drop from eval\n",
        "    * model was asked to predict past max_horizon -> increase max horizon\n",
        "    * data at start of X_test was needed for lags -> provide previous periods\n",
        "    \"\"\"\n",
        "\n",
        "    if (horizon_colname in X_trans):\n",
        "        df_fcst = pd.DataFrame({predicted_column_name: y_predicted,\n",
        "                                horizon_colname: X_trans[horizon_colname]})\n",
        "    else:\n",
        "        df_fcst = pd.DataFrame({predicted_column_name: y_predicted})\n",
        "\n",
        "    # y and X outputs are aligned by forecast() function contract\n",
        "    df_fcst.index = X_trans.index\n",
        "\n",
        "    # align original X_test to y_test\n",
        "    X_test_full = X_test.copy()\n",
        "    X_test_full[target_column_name] = y_test\n",
        "\n",
        "    # X_test_full's index does not include origin, so reset for merge\n",
        "    df_fcst.reset_index(inplace=True)\n",
        "    X_test_full = X_test_full.reset_index().drop(columns='index')\n",
        "    together = df_fcst.merge(X_test_full, how='right')\n",
        "\n",
        "    # drop rows where prediction or actuals are nan\n",
        "    # happens because of missing actuals\n",
        "    # or at edges of time due to lags/rolling windows\n",
        "    clean = together[together[[target_column_name,\n",
        "                               predicted_column_name]].notnull().all(axis=1)]\n",
        "    return(clean)\n",
        "\n",
        "\n",
        "df_all = align_outputs(y_predictions, X_trans, X_test, y_test, target_column_name)\n",
        "\n",
        "from azureml.automl.runtime.shared.score import scoring\n",
        "from matplotlib import pyplot as plt\n",
        "from automl.client.core.common import constants\n",
        "\n",
        "# use automl scoring module\n",
        "scores = scoring.score_regression(\n",
        "    y_test=df_all[target_column_name],\n",
        "    y_pred=df_all['predicted'],\n",
        "    metrics=list(constants.Metric.SCALAR_REGRESSION_SET))\n",
        "\n",
        "print(\"[Test data scores]\\n\")\n",
        "for key, value in scores.items():    \n",
        "    print('{}:   {:.3f}'.format(key, value))\n",
        "    \n",
        "# Plot outputs\n",
        "#%matplotlib inline\n",
        "test_pred = plt.scatter(df_all[target_column_name], df_all['predicted'], color='b')\n",
        "test_test = plt.scatter(df_all[target_column_name], df_all[target_column_name], color='g')\n",
        "plt.legend((test_pred, test_test), ('prediction', 'truth'), loc='upper left', fontsize=8)\n",
        "plt.show()"
      ],
      "attachments": {}
    },
    {
      "cell_type": "markdown",
      "metadata": {},
      "source": [
        "## Closing\n",
        "\n",
        "At this point you should have a chart like this one in the image below, created wit AutoML and MatplotLib. The results are that good because of the **logQuantity** column, a  data Leakage calculated from que **quantity** column. You can try to run the same experiment without it.\n",
        "\n",
        "<img src=\"https://cosmosnotebooksdata.blob.core.windows.net/notebookdata/prediction.PNG\" alt=\"Chart\" width=\"75%\"/>\n",
        "\n",
        "## Next Steps\n",
        "\n",
        "1. [Deploy](https://docs.microsoft.com/en-us/azure/machine-learning/how-to-deploy-and-where) your Model.\n",
        "1. [Collect and Evaluate](https://docs.microsoft.com/en-us/azure/machine-learning/how-to-enable-data-collection) Model Data.\n",
        "1. [Create](https://docs.microsoft.com/en-us/azure/machine-learning/how-to-create-your-first-pipeline) a ML Pipeline.\n",
        "1. [Create](https://docs.microsoft.com/en-us/azure/machine-learning/how-to-use-event-grid) Events Driven CI/CD Workflows.\n",
        "\n",
        ""
      ],
      "attachments": {}
    }
  ],
  "metadata": {
    "saveOutput": true,
    "language_info": {
      "name": "python",
      "version": "3.8.5-final"
    },
    "kernelspec": {
      "name": "python3",
      "display_name": "Python 3.8.5 32-bit",
      "metadata": {
        "interpreter": {
          "hash": "bb162378bcd0865be49969664200f47400a735e3f46a0ab8d5d80e6092c9afde"
        }
      }
    }
  },
  "nbformat": 4,
  "nbformat_minor": 2
}